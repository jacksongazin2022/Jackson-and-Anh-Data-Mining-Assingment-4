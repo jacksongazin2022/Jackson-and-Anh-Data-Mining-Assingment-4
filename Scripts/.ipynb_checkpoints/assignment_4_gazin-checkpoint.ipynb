{
 "cells": [
  {
   "cell_type": "markdown",
   "id": "d20ad65b",
   "metadata": {},
   "source": [
    "# Get data"
   ]
  },
  {
   "cell_type": "code",
   "execution_count": 4,
   "id": "afe8befa-30dd-4af5-995f-a8309cdfe639",
   "metadata": {
    "tags": []
   },
   "outputs": [],
   "source": [
    "import gzip\n",
    "import os\n",
    "import shutil\n",
    "import pandas as pd\n",
    "from pyarrow.parquet import read_table\n",
    "from scipy.sparse import coo_matrix\n",
    "from sklearn.decomposition import PCA\n",
    "from sklearn.preprocessing import StandardScaler, MinMaxScaler, normalize\n",
    "from sklearn.pipeline import Pipeline\n",
    "import numpy as np\n",
    "from sklearn.preprocessing import StandardScaler, MaxAbsScaler\n",
    "from sklearn.decomposition import TruncatedSVD\n",
    "from sklearn.base import BaseEstimator, TransformerMixin\n",
    "from memory_profiler import memory_usage\n",
    "import matplotlib.pyplot as plt\n",
    "import seaborn as sns\n",
    "from kneed import KneeLocator\n",
    "from sklearn.datasets import make_blobs\n",
    "from sklearn.cluster import KMeans\n",
    "from sklearn.metrics import silhouette_score\n",
    "from sklearn.metrics import adjusted_rand_score\n",
    "from sklearn.model_selection import GridSearchCV\n",
    "from yellowbrick.cluster import KElbowVisualizer, SilhouetteVisualizer\n",
    "from sklearn.cluster import KMeans\n",
    "from sklearn.metrics import silhouette_score\n",
    "from sklearn.model_selection import GridSearchCV\n",
    "from scipy import stats\n",
    "from sklearn.cluster import HDBSCAN\n",
    "from sklearn.model_selection import GridSearchCV\n",
    "from sklearn.metrics import silhouette_score\n",
    "from scipy import stats\n",
    "from sklearn.neighbors import LocalOutlierFactor\n",
    "from sklearn.model_selection import train_test_split\n",
    "\n",
    "# You can also define custom functions, classes, and other code in this module.\n"
   ]
  },
  {
   "cell_type": "code",
   "execution_count": null,
   "id": "46fd8c97-6e72-47c6-bee6-2a807d532e02",
   "metadata": {
    "tags": []
   },
   "outputs": [],
   "source": [
    "input_gz_file = 'GSE185948_count_RNA.rds.gz'\n",
    "output_rds_file = 'data_for_r.rds'\n",
    "\n",
    "# Open the compressed file and extract it\n",
    "with gzip.open(input_gz_file, 'rb') as f_in, open(output_rds_file, 'wb') as f_out:\n",
    "    shutil.copyfileobj(f_in, f_out)\n",
    "\n",
    "print(f'{input_gz_file} has been successfully uncompressed to {output_rds_file}.')"
   ]
  },
  {
   "cell_type": "code",
   "execution_count": null,
   "id": "77773596-d217-481d-90eb-cff1fe9563ac",
   "metadata": {
    "tags": []
   },
   "outputs": [],
   "source": [
    "import gzip\n",
    "import shutil\n",
    "\n",
    "input_gz_file = 'GSE185948_metadata_RNA.csv.gz'\n",
    "output_csv_file = 'uncompressed_metadata.csv'\n",
    "\n",
    "# Open the compressed file and extract it\n",
    "with gzip.open(input_gz_file, 'rb') as f_in, open(output_csv_file, 'wb') as f_out:\n",
    "    shutil.copyfileobj(f_in, f_out)\n",
    "\n",
    "print(f'{input_gz_file} has been successfully uncompressed to {output_csv_file}.')"
   ]
  },
  {
   "cell_type": "code",
   "execution_count": 3,
   "id": "5bd10524-abd6-4eda-8ea8-9d53cff8d84c",
   "metadata": {
    "tags": []
   },
   "outputs": [
    {
     "ename": "NameError",
     "evalue": "name 'os' is not defined",
     "output_type": "error",
     "traceback": [
      "\u001b[0;31m---------------------------------------------------------------------------\u001b[0m",
      "\u001b[0;31mNameError\u001b[0m                                 Traceback (most recent call last)",
      "Cell \u001b[0;32mIn[3], line 2\u001b[0m\n\u001b[1;32m      1\u001b[0m output_path \u001b[38;5;241m=\u001b[39m \u001b[38;5;124m'\u001b[39m\u001b[38;5;124m../output\u001b[39m\u001b[38;5;124m'\u001b[39m\n\u001b[0;32m----> 2\u001b[0m \u001b[38;5;28;01mif\u001b[39;00m \u001b[38;5;129;01mnot\u001b[39;00m os\u001b[38;5;241m.\u001b[39mpath\u001b[38;5;241m.\u001b[39mexists(output_path):\n\u001b[1;32m      3\u001b[0m     os\u001b[38;5;241m.\u001b[39mmakedirs(output_path)\n",
      "\u001b[0;31mNameError\u001b[0m: name 'os' is not defined"
     ]
    }
   ],
   "source": [
    "output_path = '../output'\n",
    "if not os.path.exists(output_path):\n",
    "    os.makedirs(output_path)"
   ]
  },
  {
   "cell_type": "code",
   "execution_count": null,
   "id": "d033d150-def7-422c-b556-cfadb89c76db",
   "metadata": {
    "tags": []
   },
   "outputs": [],
   "source": [
    "metadata = pd.read_csv('uncompressed_metadata.csv')"
   ]
  },
  {
   "cell_type": "code",
   "execution_count": null,
   "id": "02274131-0898-41fb-9445-c1a2d7232063",
   "metadata": {
    "tags": []
   },
   "outputs": [],
   "source": [
    "metadata"
   ]
  },
  {
   "cell_type": "markdown",
   "id": "db12762e-d950-4f0d-88ae-cd32ec8e43ca",
   "metadata": {},
   "source": [
    "R code below"
   ]
  },
  {
   "cell_type": "raw",
   "id": "ea593dcf-f6ef-476e-97fa-5527db6fb58a",
   "metadata": {},
   "source": [
    "filename = file.choose()\n",
    "data = readRDS(filename)\n",
    "data\n",
    "sparse_matrix <- data\n",
    "\n",
    "num_columns <- ncol(sparse_matrix)\n",
    "# Get the nonzero elements and their indices\n",
    "nonzero_elements <- sparse_matrix@x\n",
    "row_indices <- sparse_matrix@i\n",
    "col_indices <- rep(1:num_columns, times = diff(sparse_matrix@p))  # Use sparse_matrix@j for column indices\n",
    "\n",
    "\n",
    "nonzero_data <- data.frame(row_indices, col_indices, nonzero_elements)\n",
    "\n",
    "col_names <- data.frame(sparse_matrix@Dimnames[2])\n",
    "nrow(col_names)\n",
    "row_names <- data.frame((sparse_matrix@Dimnames[1]))\n",
    "\n",
    "write.csv(row_names, 'row_names.csv')\n",
    "write.csv(col_names, 'col_names.csv')\n",
    "\n",
    "\n",
    "# Save the i, j information to a Parquet file\n",
    "write_parquet(nonzero_data, \"non_zero.parquet\")"
   ]
  },
  {
   "cell_type": "markdown",
   "id": "e6c87489-add6-4698-bc23-884af1dcaf8c",
   "metadata": {},
   "source": [
    "## Data Preparation"
   ]
  },
  {
   "cell_type": "code",
   "execution_count": null,
   "id": "52d881cd-1a18-43f9-84d1-ff85e77ef9db",
   "metadata": {
    "tags": []
   },
   "outputs": [],
   "source": [
    "#pip install memory_profiler"
   ]
  },
  {
   "cell_type": "code",
   "execution_count": null,
   "id": "5f82c6cb-0db4-42d6-b286-e191ff5421c2",
   "metadata": {
    "tags": []
   },
   "outputs": [],
   "source": [
    "def load_data(data_path, row_info_path, column_info_path):\n",
    "    # Load non_zero parquet data\n",
    "    table = read_table(data_path)\n",
    "    nonzero_data = table.to_pandas()\n",
    "    \n",
    "    # Adjust column indices to be 0-based\n",
    "    nonzero_data['col_indices'] = nonzero_data['col_indices'] - 1\n",
    "    \n",
    "    # Load row and column index info\n",
    "    rows = pd.read_csv(row_info_path)\n",
    "    row_names = rows.iloc[:, 1].to_list()\n",
    "    \n",
    "    columns = pd.read_csv(column_info_path)\n",
    "    column_names = columns.iloc[:, 1].to_list()\n",
    "    \n",
    "    # Convert the sparse matrix to a dense DataFrame\n",
    "    sparse_matrix = coo_matrix(\n",
    "        (nonzero_data['nonzero_elements'], (nonzero_data['row_indices'], nonzero_data['col_indices'])),\n",
    "        shape=(len(row_names), len(column_names))\n",
    "    )\n",
    "    \n",
    "    \n",
    "   \n",
    "\n",
    "    print('Returning sparse_matrix, column_names, and row_names')\n",
    "    \n",
    "    return sparse_matrix, column_names, row_names\n",
    "\n",
    "\n",
    "class SparseTrainTestSplit(BaseEstimator, TransformerMixin):\n",
    "    def __init__(self, test_size=0.2, random_state=None):\n",
    "        self.test_size = test_size\n",
    "        self.random_state = random_state\n",
    "\n",
    "    def fit(self, X, y=None):\n",
    "        # Not needed for this class\n",
    "        return self\n",
    "\n",
    "    def transform(self, X):\n",
    "        # Split the data using train_test_split\n",
    "        sparse_train, sparse_test, train_indices, test_indices = train_test_split(\n",
    "            X, row_indices, test_size=self.test_size, random_state=self.random_state\n",
    "        )\n",
    "\n",
    "        # Convert the split data back to coo_matrix\n",
    "        sparse_train = coo_matrix(sparse_train)\n",
    "        sparse_test = coo_matrix(sparse_test)\n",
    "\n",
    "        return sparse_train, sparse_test, train_indices, test_indices\n"
   ]
  },
  {
   "cell_type": "code",
   "execution_count": null,
   "id": "32d363c1-327c-4470-b520-af645a113edf",
   "metadata": {
    "tags": []
   },
   "outputs": [],
   "source": [
    "data_path = 'non_zero.parquet'\n",
    "row_info_path = 'row_names.csv'\n",
    "column_info_path = 'col_names.csv'\n",
    "#sparse_matrix = coo_matrix((data['nonzero_elements'], (data['row_indices'], data['col_indices'])))\n",
    "sparse_matrix, row_names, column_names = load_data(data_path, row_info_path, column_info_path)\n"
   ]
  },
  {
   "cell_type": "code",
   "execution_count": null,
   "id": "41165446-de2e-4e88-a3d3-c7f9ec6a6923",
   "metadata": {
    "tags": []
   },
   "outputs": [],
   "source": [
    "row_indices = np.arange(sparse_matrix.shape[0])"
   ]
  },
  {
   "cell_type": "code",
   "execution_count": null,
   "id": "5edb6927-abb7-4961-a2b4-3447d71d8234",
   "metadata": {
    "tags": []
   },
   "outputs": [],
   "source": [
    "split_pipeline = Pipeline([\n",
    "    ('splitter', SparseTrainTestSplit(test_size=0.2, random_state=42)),\n",
    "    # Add other steps in the pipeline as needed\n",
    "])\n",
    "\n",
    "# Fit and transform the pipeline\n",
    "sparse_train, sparse_test, train_indices, test_indices = split_pipeline.fit_transform(sparse_matrix)\n"
   ]
  },
  {
   "cell_type": "code",
   "execution_count": null,
   "id": "341ddfb3-c656-405d-bc3f-f9bedc90f3a0",
   "metadata": {
    "tags": []
   },
   "outputs": [],
   "source": [
    "import os\n",
    "import numpy as np\n",
    "\n",
    "class DataClean:\n",
    "    def __init__(self, remove_by_column=True):\n",
    "        self.remove_by_column = remove_by_column\n",
    "        self.output_folder = \"../output\"\n",
    "        \n",
    "        # Create the output folder if it doesn't exist\n",
    "        if not os.path.exists(self.output_folder):\n",
    "            os.makedirs(self.output_folder)\n",
    "\n",
    "    def fit(self, X, y=None):\n",
    "        # Check if there are NaN values in the data\n",
    "        self.has_nan_values = np.isnan(X.data).any()\n",
    "\n",
    "        with open(os.path.join(self.output_folder, \"na_info.txt\"), \"w\") as f:\n",
    "            if self.has_nan_values:\n",
    "                # Find rows and columns with NaN values\n",
    "                self.rows_with_nan = self.find_rows_with_nan(X)\n",
    "                self.columns_with_nan = self.find_columns_with_nan(X)\n",
    "\n",
    "                f.write(\"Rows with NaN Values:\\n\")\n",
    "                f.write(\", \".join(map(str, self.rows_with_nan)))\n",
    "                f.write(\"\\nTotal Rows with NaN Values: {}\\n\".format(len(self.rows_with_nan)))\n",
    "\n",
    "                f.write(\"\\nColumns with NaN Values:\\n\")\n",
    "                f.write(\", \".join(map(str, self.columns_with_nan)))\n",
    "                f.write(\"\\nTotal Columns with NaN Values: {}\\n\".format(len(self.columns_with_nan)))\n",
    "            else:\n",
    "                f.write(\"No NaN Values Found in the Data.\\n\")\n",
    "\n",
    "        return self\n",
    "\n",
    "    def transform(self, X):\n",
    "        if self.has_nan_values:\n",
    "            if self.remove_by_column:\n",
    "                X = self._remove_nan_by_column(X)\n",
    "            else:\n",
    "                X = self._remove_nan_by_row(X)\n",
    "\n",
    "        return X\n",
    "\n",
    "    def _remove_nan_by_column(self, X):\n",
    "        nan_mask = np.isnan(X.data)\n",
    "        valid_columns = np.unique(X.col[~nan_mask])\n",
    "        X = X.tocsc()[:, valid_columns].tocoo()\n",
    "        return X\n",
    "\n",
    "    def _remove_nan_by_row(self, X):\n",
    "        if not isinstance(X, coo_matrix):\n",
    "            raise ValueError(\"Input must be a sparse COO matrix.\")\n",
    "    \n",
    "        non_nan_rows = ~np.isnan(X.sum(axis=1).A.ravel())\n",
    "        X = X.tocsr()[non_nan_rows].tocoo()\n",
    "        return X\n",
    "\n",
    "    def find_rows_with_nan(self, X):\n",
    "        nan_mask = np.isnan(X.data)\n",
    "        rows_with_nan = np.unique(X.row[nan_mask])\n",
    "        return rows_with_nan\n",
    "\n",
    "    def find_columns_with_nan(self, X):\n",
    "        nan_mask = np.isnan(X.data)\n",
    "        columns_with_nan = np.unique(X.col[nan_mask])\n",
    "        return columns_with_nan\n"
   ]
  },
  {
   "cell_type": "code",
   "execution_count": null,
   "id": "fdfeb12c-ab56-424c-a09a-62dd30fc2494",
   "metadata": {
    "tags": []
   },
   "outputs": [],
   "source": [
    "clean_and_pca_pipeline = Pipeline([\n",
    "    ('cleaner', DataClean()),  # CleanData is performed first\n",
    "    ('scaler', StandardScaler(with_mean=False)),\n",
    "    ('pca', TruncatedSVD(n_components=2))\n",
    "])\n",
    "\n",
    "# Fit the pipeline to training\n",
    "clean_and_pca_pipeline.fit(sparse_train)\n",
    "# Transform the training data\n",
    "pca_sparse_train = clean_and_pca_pipeline.transform(sparse_train)\n",
    "\n",
    "pca_sparse_test = clean_and_pca_pipeline.transform(sparse_test)"
   ]
  },
  {
   "cell_type": "code",
   "execution_count": null,
   "id": "63be8e39-8fad-44d6-b52c-ab4be2a633ff",
   "metadata": {
    "tags": []
   },
   "outputs": [],
   "source": [
    "def reindex(df, indices, columns, names):\n",
    "    row_names_indices = [names[i] for i in indices]\n",
    "    df_with_indices = pd.DataFrame(df, columns=columns, index=row_names_indices)\n",
    "    return df_with_indices\n",
    "\n",
    "columns=[\"PC1\", \"PC2\"]\n",
    "train_pca_df_test = reindex(pca_sparse_train, indices =train_indices,  columns  = columns, names = row_names)\n",
    "test_pca_df_test = reindex(pca_sparse_test, indices =test_indices,  columns  = columns, names = row_names)\n"
   ]
  },
  {
   "cell_type": "code",
   "execution_count": null,
   "id": "d8d7e593-801e-4163-8ede-a19360e3e528",
   "metadata": {
    "tags": []
   },
   "outputs": [],
   "source": []
  },
  {
   "cell_type": "code",
   "execution_count": null,
   "id": "faf29ccd-6d7c-4571-a752-0cdf17399b34",
   "metadata": {
    "tags": []
   },
   "outputs": [],
   "source": [
    "import seaborn as sns\n",
    "import matplotlib.pyplot as plt\n",
    "\n",
    "# Set up the figure\n",
    "plt.figure(figsize=(10, 6))\n",
    "\n",
    "# Create a boxplot for both variables in train_pca_df\n",
    "sns.boxplot(data=train_pca_df, orient=\"h\", palette=\"Set2\")\n",
    "plt.title('Boxplot of Variables in train_pca_df')\n",
    "plt.xlabel('Value')\n",
    "\n",
    "# Show the plot\n",
    "plt.show()"
   ]
  },
  {
   "cell_type": "code",
   "execution_count": null,
   "id": "4bbef1ab-7d3d-4868-9787-a8f649e6154b",
   "metadata": {
    "tags": []
   },
   "outputs": [],
   "source": [
    "max_pc1_row = train_pca_df[train_pca_df['PC1'] == train_pca_df['PC1'].max()]\n",
    "\n",
    "max_pc1_index = max_pc1_row.index[0]  # Assuming there is only one row with the maximum PC1 value\n",
    "\n",
    "# Find the associated row in metadata\n",
    "associated_metadata = metadata[metadata['name'] == max_pc1_index]\n"
   ]
  },
  {
   "cell_type": "code",
   "execution_count": null,
   "id": "5b1917e3-27a4-4b00-8a1a-f6d5ce51583d",
   "metadata": {
    "tags": []
   },
   "outputs": [],
   "source": [
    "pc1_mean = train_pca_df['PC1'].mean()\n",
    "pc1_std = train_pca_df['PC1'].std()\n",
    "\n",
    "# Get the maximum PC1 value\n",
    "max_pc1_value = train_pca_df['PC1'].max()\n",
    "\n",
    "# Calculate the z-score\n",
    "z_score = (max_pc1_value - pc1_mean) / pc1_std\n",
    "\n",
    "print(f\"The maximum PC1 value is {max_pc1_value:.2f}\")\n",
    "print(f\"The z-score for the maximum PC1 value is {z_score:.2f}\")"
   ]
  },
  {
   "cell_type": "code",
   "execution_count": null,
   "id": "e42ce8b2-a829-4337-bcb1-cd01259632e0",
   "metadata": {
    "tags": []
   },
   "outputs": [],
   "source": [
    "max_pc1_row"
   ]
  },
  {
   "cell_type": "code",
   "execution_count": null,
   "id": "2ae8b096-382c-4215-a2ea-27b71742f50b",
   "metadata": {
    "tags": []
   },
   "outputs": [],
   "source": [
    "associated_metadata"
   ]
  },
  {
   "cell_type": "code",
   "execution_count": null,
   "id": "f8890721-e6f0-4fbb-b60a-bb2f38e6fbe3",
   "metadata": {
    "tags": []
   },
   "outputs": [],
   "source": [
    "import pandas as pd\n",
    "\n",
    "# Calculate the mean for numeric columns and the most common level for categorical columns\n",
    "mean_values = metadata.apply(lambda col: col.mean() if pd.api.types.is_numeric_dtype(col) else col.mode().iloc[0])\n",
    "\n",
    "# Create a DataFrame to show the mean values\n",
    "mean_metadata = pd.DataFrame(mean_values, columns=['Mean Value'])\n",
    "\n",
    "# Set the display format for float values\n",
    "pd.options.display.float_format = '{:.2f}'.format"
   ]
  },
  {
   "cell_type": "code",
   "execution_count": null,
   "id": "2628c959-879c-4c19-9ecd-4a4f83bb5193",
   "metadata": {
    "tags": []
   },
   "outputs": [],
   "source": [
    "mean_metadata"
   ]
  },
  {
   "cell_type": "code",
   "execution_count": null,
   "id": "f2d9c35a-bd9f-4fbd-b589-6a4de2f7c8b5",
   "metadata": {
    "tags": []
   },
   "outputs": [],
   "source": [
    "import seaborn as sns\n",
    "import matplotlib.pyplot as plt\n",
    "\n",
    "# Find the maximum value of PC1\n",
    "max_pc1 = train_pca_df['PC1'].max()\n",
    "\n",
    "# Create a new DataFrame without the rows where PC1 is equal to the maximum value\n",
    "train_pca_df_filtered = train_pca_df[train_pca_df['PC1'] != max_pc1]\n",
    "\n",
    "# Set up the figure\n",
    "plt.figure(figsize=(10, 6))\n",
    "\n",
    "# Create a boxplot for both variables in train_pca_df_filtered\n",
    "sns.boxplot(data=train_pca_df_filtered, orient=\"h\", palette=\"Set2\")\n",
    "plt.title('Boxplot of Variables in train_pca_df (Excluding Max PC1)')\n",
    "plt.xlabel('Value')\n",
    "\n",
    "# Show the plot\n",
    "plt.show()"
   ]
  },
  {
   "cell_type": "code",
   "execution_count": null,
   "id": "7a4cd7c9-765f-48a8-a724-058c921f9624",
   "metadata": {
    "tags": []
   },
   "outputs": [],
   "source": [
    "import matplotlib.pyplot as plt\n",
    "import seaborn as sns\n",
    "\n",
    "# Set up the figure\n",
    "plt.figure(figsize=(8, 6))\n",
    "\n",
    "# Create a scatter plot\n",
    "sns.scatterplot(x='PC1', y='PC2', data=train_pca_df, marker='o', s=50, alpha=0.7)\n",
    "\n",
    "# Add labels and title\n",
    "plt.xlabel('PC 1')\n",
    "plt.ylabel('PC 2')\n",
    "plt.title('Two-Dimensional Data Visualization')\n",
    "\n",
    "# Show the plot\n",
    "plt.grid(True)"
   ]
  },
  {
   "cell_type": "code",
   "execution_count": null,
   "id": "42080348-42f5-4441-8197-569a8582daec",
   "metadata": {},
   "outputs": [],
   "source": [
    "max_pc1_row = train_pca_df['PC1'].idxmax()\n",
    "\n",
    "# Identify the row with the maximum value in PC2\n",
    "max_pc2_row = train_pca_df['PC2'].idxmax()\n",
    "\n",
    "# Create a dataset without the rows with maximum values in PC1 and PC2\n",
    "train_without_outliers = train_pca_df.drop([max_pc1_row, max_pc2_row])"
   ]
  },
  {
   "cell_type": "code",
   "execution_count": null,
   "id": "a4233a1a-e683-4580-a133-443e2b76644e",
   "metadata": {
    "tags": []
   },
   "outputs": [],
   "source": [
    "plt.figure(figsize=(8, 6))\n",
    "\n",
    "# Create a scatter plot using train_without_outliers\n",
    "sns.scatterplot(x='PC1', y='PC2', data=train_without_outliers, marker='o', s=50, alpha=0.7)\n",
    "\n",
    "# Add labels and title\n",
    "plt.xlabel('PC 1')\n",
    "plt.ylabel('PC 2')\n",
    "plt.title('Two-Dimensional Data Visualization without Outliers')\n",
    "\n",
    "# Show the plot\n",
    "plt.grid(True)\n",
    "plt.show()"
   ]
  },
  {
   "cell_type": "code",
   "execution_count": null,
   "id": "f89030df-69c1-4f7d-a283-2de6f98e73ac",
   "metadata": {
    "tags": []
   },
   "outputs": [],
   "source": [
    "train_without_outliers.to_csv('train_pca_df.csv')\n",
    "test_pca_df.to_csv('test_pca_df.csv')\n"
   ]
  },
  {
   "cell_type": "code",
   "execution_count": 100,
   "id": "3851a378-8a64-467b-88ff-51097583f701",
   "metadata": {
    "tags": []
   },
   "outputs": [
    {
     "data": {
      "image/png": "[encoded data removed]",
      "text/plain": [
       "<Figure size 800x550 with 1 Axes>"
      ]
     },
     "metadata": {},
     "output_type": "display_data"
    },
    {
     "data": {
      "image/png": "[encoded data removed]",
      "text/plain": [
       "<Figure size 800x550 with 1 Axes>"
      ]
     },
     "metadata": {},
     "output_type": "display_data"
    },
    {
     "name": "stdout",
     "output_type": "stream",
     "text": [
      "Z-scores:\n",
      "[[0.34508727 0.28106016]\n",
      " [4.16330451 7.15670021]\n",
      " [0.37835132 0.32255656]\n",
      " ...\n",
      " [1.02173114 0.0715594 ]\n",
      " [0.06989811 0.08582463]\n",
      " [0.37991881 0.32125365]]\n",
      "Z-threshold: 10\n",
      "Outlier Indices: [  236     0   436     1   483     0  2742     0  2761     1  3209     1\n",
      "  3801     0  3810     1  3906     1  4609     1  4687     1  5914     1\n",
      "  6047     1  6205     0  6205     1  7395     0  7509     0  7604     0\n",
      "  7659     0  8074     0  8074     1  8089     0  8089     1  9630     0\n",
      "  9699     0 10647     0 10756     0 11335     1 11769     0 11769     1\n",
      " 11855     1 12296     1 12491     0 12491     1 12549     0 12549     1\n",
      " 12615     1 13336     0 13799     0 13799     1 14184     0 15530     1\n",
      " 15574     1 16280     0 16642     0 16642     1 16803     0 16803     1\n",
      " 17697     1 18159     1 19033     1 19650     1 19788     0 20078     1\n",
      " 20252     1 20591     0 20591     1 20619     0 20619     1 21426     1\n",
      " 21820     1 22073     0]\n"
     ]
    },
    {
     "data": {
      "image/png": "[encoded data removed]",
      "text/plain": [
       "<Figure size 800x550 with 1 Axes>"
      ]
     },
     "metadata": {},
     "output_type": "display_data"
    },
    {
     "data": {
      "image/png": "[encoded data removed]",
      "text/plain": [
       "<Figure size 800x550 with 1 Axes>"
      ]
     },
     "metadata": {},
     "output_type": "display_data"
    }
   ],
   "source": [
    "import pandas as pd\n",
    "import numpy as np\n",
    "import matplotlib.pyplot as plt\n",
    "from scipy import stats\n",
    "\n",
    "class DataEDAPCA:\n",
    "    def __init__(self, columns, z_threshold=10):\n",
    "        self.columns = columns\n",
    "        self.z_threshold = z_threshold\n",
    "        self.removed_indices = None\n",
    "\n",
    "    def plot_box_and_scatter(self, X):\n",
    "        # Create a boxplot of the specified columns\n",
    "        X[self.columns].boxplot()\n",
    "        plt.title(\"Boxplot of Selected Columns\")\n",
    "        plt.show()\n",
    "\n",
    "        # Create a scatterplot of the specified columns\n",
    "        plt.scatter(X[self.columns[0]], X[self.columns[1]])\n",
    "        plt.xlabel(self.columns[0])\n",
    "        plt.ylabel(self.columns[1])\n",
    "        plt.title(\"Scatterplot of Selected Columns\")\n",
    "        plt.show()\n",
    "\n",
    "    def remove_outliers(self, X):\n",
    "        # Calculate Z-scores for the specified columns\n",
    "        z_scores = np.abs(stats.zscore(X[self.columns]))\n",
    "        z_scores = z_scores.to_numpy()  # Convert to a NumPy array\n",
    "        print(\"Z-scores:\")\n",
    "        print(z_scores)\n",
    "        print(\"Z-threshold:\", self.z_threshold)\n",
    "\n",
    "        # Find the indices of rows with Z-scores exceeding the threshold\n",
    "        outlier_indices = np.argwhere(z_scores > self.z_threshold)\n",
    "        outlier_indices = outlier_indices.ravel()\n",
    "        print(\"Outlier Indices:\", outlier_indices)\n",
    "\n",
    "        # Drop the rows with high Z-scores\n",
    "        X.drop(X.index[outlier_indices], inplace=True)\n",
    "        self.removed_indices = outlier_indices\n",
    "\n",
    "    def fit_transform(self, X, another_df=None):\n",
    "        # Step 1: Display initial boxplot and scatterplot\n",
    "        self.plot_box_and_scatter(X)\n",
    "\n",
    "        # Step 2: Notify rows with high Z-scores and remove them\n",
    "        self.remove_outliers(X)\n",
    "\n",
    "        # Step 3: If another_df is provided, subset it using the same indices\n",
    "        removed_metadata = None\n",
    "        if another_df is not None:\n",
    "            removed_metadata = another_df.iloc[self.removed_indices]\n",
    "\n",
    "        # Step 4: Display boxplot and scatterplot of the updated data\n",
    "        self.plot_box_and_scatter(X)\n",
    "\n",
    "        return X, removed_metadata\n",
    "\n",
    "# Example usage:\n",
    "eda_pca = DataEDAPCA(columns=[\"PC1\", \"PC2\"])\n",
    "updated_train_pca_df, removed_metadata = eda_pca.fit_transform(train_pca_df, metadata)\n"
   ]
  },
  {
   "cell_type": "code",
   "execution_count": 101,
   "id": "3e20ef9f-de2b-4ae8-a1ee-087ef93de5b6",
   "metadata": {
    "tags": []
   },
   "outputs": [
    {
     "data": {
      "text/html": [
       "<div>\n",
       "<style scoped>\n",
       "    .dataframe tbody tr th:only-of-type {\n",
       "        vertical-align: middle;\n",
       "    }\n",
       "\n",
       "    .dataframe tbody tr th {\n",
       "        vertical-align: top;\n",
       "    }\n",
       "\n",
       "    .dataframe thead th {\n",
       "        text-align: right;\n",
       "    }\n",
       "</style>\n",
       "<table border=\"1\" class=\"dataframe\">\n",
       "  <thead>\n",
       "    <tr style=\"text-align: right;\">\n",
       "      <th></th>\n",
       "      <th>PC1</th>\n",
       "      <th>PC2</th>\n",
       "    </tr>\n",
       "  </thead>\n",
       "  <tbody>\n",
       "    <tr>\n",
       "      <th>PKD_CAGCAATAGTCGGCCT-1_3</th>\n",
       "      <td>0.138904</td>\n",
       "      <td>-0.014086</td>\n",
       "    </tr>\n",
       "    <tr>\n",
       "      <th>PKD_GGATCTACAACCCTCT-1_2</th>\n",
       "      <td>0.203921</td>\n",
       "      <td>-0.140785</td>\n",
       "    </tr>\n",
       "    <tr>\n",
       "      <th>PKD_AGCGCCAAGCCGTTGC-1_3</th>\n",
       "      <td>0.511251</td>\n",
       "      <td>-0.104547</td>\n",
       "    </tr>\n",
       "    <tr>\n",
       "      <th>PKD_GGGTGTCAGTCCCGGT-1_2</th>\n",
       "      <td>0.521988</td>\n",
       "      <td>-0.184444</td>\n",
       "    </tr>\n",
       "    <tr>\n",
       "      <th>PKD_CCATAAGCAGAGTTCT-1_1</th>\n",
       "      <td>30.737445</td>\n",
       "      <td>-8.892647</td>\n",
       "    </tr>\n",
       "    <tr>\n",
       "      <th>...</th>\n",
       "      <td>...</td>\n",
       "      <td>...</td>\n",
       "    </tr>\n",
       "    <tr>\n",
       "      <th>PKD_ATCCTATGTTCCTAGA-1_3</th>\n",
       "      <td>39.704073</td>\n",
       "      <td>-17.631396</td>\n",
       "    </tr>\n",
       "    <tr>\n",
       "      <th>PKD_GGCTGTGAGGAACGAA-1_1</th>\n",
       "      <td>29.823898</td>\n",
       "      <td>-15.172695</td>\n",
       "    </tr>\n",
       "    <tr>\n",
       "      <th>PKD_AGGCCACCACAACCGC-1_1</th>\n",
       "      <td>83.125263</td>\n",
       "      <td>-6.222025</td>\n",
       "    </tr>\n",
       "    <tr>\n",
       "      <th>PKD_GGAATGGAGCCAAGGT-1_2</th>\n",
       "      <td>18.421691</td>\n",
       "      <td>-10.114620</td>\n",
       "    </tr>\n",
       "    <tr>\n",
       "      <th>PKD_CGTTGGGGTGTTAACC-1_3</th>\n",
       "      <td>0.045995</td>\n",
       "      <td>-0.046312</td>\n",
       "    </tr>\n",
       "  </tbody>\n",
       "</table>\n",
       "<p>22282 rows × 2 columns</p>\n",
       "</div>"
      ],
      "text/plain": [
       "                                PC1        PC2\n",
       "PKD_CAGCAATAGTCGGCCT-1_3   0.138904  -0.014086\n",
       "PKD_GGATCTACAACCCTCT-1_2   0.203921  -0.140785\n",
       "PKD_AGCGCCAAGCCGTTGC-1_3   0.511251  -0.104547\n",
       "PKD_GGGTGTCAGTCCCGGT-1_2   0.521988  -0.184444\n",
       "PKD_CCATAAGCAGAGTTCT-1_1  30.737445  -8.892647\n",
       "...                             ...        ...\n",
       "PKD_ATCCTATGTTCCTAGA-1_3  39.704073 -17.631396\n",
       "PKD_GGCTGTGAGGAACGAA-1_1  29.823898 -15.172695\n",
       "PKD_AGGCCACCACAACCGC-1_1  83.125263  -6.222025\n",
       "PKD_GGAATGGAGCCAAGGT-1_2  18.421691 -10.114620\n",
       "PKD_CGTTGGGGTGTTAACC-1_3   0.045995  -0.046312\n",
       "\n",
       "[22282 rows x 2 columns]"
      ]
     },
     "execution_count": 101,
     "metadata": {},
     "output_type": "execute_result"
    }
   ],
   "source": [
    "updated_train_pca_df"
   ]
  },
  {
   "cell_type": "code",
   "execution_count": 96,
   "id": "979aed7a-981a-4ccb-8683-eef72964067e",
   "metadata": {
    "tags": []
   },
   "outputs": [
    {
     "data": {
      "text/html": [
       "<div>\n",
       "<style scoped>\n",
       "    .dataframe tbody tr th:only-of-type {\n",
       "        vertical-align: middle;\n",
       "    }\n",
       "\n",
       "    .dataframe tbody tr th {\n",
       "        vertical-align: top;\n",
       "    }\n",
       "\n",
       "    .dataframe thead th {\n",
       "        text-align: right;\n",
       "    }\n",
       "</style>\n",
       "<table border=\"1\" class=\"dataframe\">\n",
       "  <thead>\n",
       "    <tr style=\"text-align: right;\">\n",
       "      <th></th>\n",
       "      <th>name</th>\n",
       "      <th>barcode</th>\n",
       "      <th>patient</th>\n",
       "      <th>gender</th>\n",
       "      <th>disease</th>\n",
       "      <th>celltype</th>\n",
       "      <th>nCount_RNA</th>\n",
       "      <th>nFeature_RNA</th>\n",
       "      <th>UMAP_1</th>\n",
       "      <th>UMAP_2</th>\n",
       "    </tr>\n",
       "  </thead>\n",
       "  <tbody>\n",
       "    <tr>\n",
       "      <th>905</th>\n",
       "      <td>PKD_AGGGCCTGTTGTCCCT-1_1</td>\n",
       "      <td>AGGGCCTGTTGTCCCT-1</td>\n",
       "      <td>PKD1</td>\n",
       "      <td>female</td>\n",
       "      <td>PKD</td>\n",
       "      <td>PT1</td>\n",
       "      <td>1543.645651</td>\n",
       "      <td>1513</td>\n",
       "      <td>5.360233</td>\n",
       "      <td>-6.968874</td>\n",
       "    </tr>\n",
       "    <tr>\n",
       "      <th>1</th>\n",
       "      <td>PKD_ACACGCGGTTTGGCTA-1_1</td>\n",
       "      <td>ACACGCGGTTTGGCTA-1</td>\n",
       "      <td>PKD1</td>\n",
       "      <td>female</td>\n",
       "      <td>PKD</td>\n",
       "      <td>PT2</td>\n",
       "      <td>1865.542588</td>\n",
       "      <td>1650</td>\n",
       "      <td>2.499409</td>\n",
       "      <td>-6.587287</td>\n",
       "    </tr>\n",
       "    <tr>\n",
       "      <th>1187</th>\n",
       "      <td>PKD_ATACCTTGTGTTTACG-1_1</td>\n",
       "      <td>ATACCTTGTGTTTACG-1</td>\n",
       "      <td>PKD1</td>\n",
       "      <td>female</td>\n",
       "      <td>PKD</td>\n",
       "      <td>TAL1</td>\n",
       "      <td>1322.570418</td>\n",
       "      <td>1280</td>\n",
       "      <td>-8.709750</td>\n",
       "      <td>-4.845766</td>\n",
       "    </tr>\n",
       "    <tr>\n",
       "      <th>1</th>\n",
       "      <td>PKD_ACACGCGGTTTGGCTA-1_1</td>\n",
       "      <td>ACACGCGGTTTGGCTA-1</td>\n",
       "      <td>PKD1</td>\n",
       "      <td>female</td>\n",
       "      <td>PKD</td>\n",
       "      <td>PT2</td>\n",
       "      <td>1865.542588</td>\n",
       "      <td>1650</td>\n",
       "      <td>2.499409</td>\n",
       "      <td>-6.587287</td>\n",
       "    </tr>\n",
       "    <tr>\n",
       "      <th>1943</th>\n",
       "      <td>PKD_CAATCGACAGAGAGGG-1_1</td>\n",
       "      <td>CAATCGACAGAGAGGG-1</td>\n",
       "      <td>PKD1</td>\n",
       "      <td>female</td>\n",
       "      <td>PKD</td>\n",
       "      <td>TAL1</td>\n",
       "      <td>1263.223684</td>\n",
       "      <td>1317</td>\n",
       "      <td>-7.660759</td>\n",
       "      <td>-4.829868</td>\n",
       "    </tr>\n",
       "    <tr>\n",
       "      <th>...</th>\n",
       "      <td>...</td>\n",
       "      <td>...</td>\n",
       "      <td>...</td>\n",
       "      <td>...</td>\n",
       "      <td>...</td>\n",
       "      <td>...</td>\n",
       "      <td>...</td>\n",
       "      <td>...</td>\n",
       "      <td>...</td>\n",
       "      <td>...</td>\n",
       "    </tr>\n",
       "    <tr>\n",
       "      <th>1</th>\n",
       "      <td>PKD_ACACGCGGTTTGGCTA-1_1</td>\n",
       "      <td>ACACGCGGTTTGGCTA-1</td>\n",
       "      <td>PKD1</td>\n",
       "      <td>female</td>\n",
       "      <td>PKD</td>\n",
       "      <td>PT2</td>\n",
       "      <td>1865.542588</td>\n",
       "      <td>1650</td>\n",
       "      <td>2.499409</td>\n",
       "      <td>-6.587287</td>\n",
       "    </tr>\n",
       "    <tr>\n",
       "      <th>22071</th>\n",
       "      <td>PKD_CAAGAGGAGCAGGCTA-1_3</td>\n",
       "      <td>CAAGAGGAGCAGGCTA-1</td>\n",
       "      <td>PKD3</td>\n",
       "      <td>female</td>\n",
       "      <td>PKD</td>\n",
       "      <td>LEUK</td>\n",
       "      <td>813.314504</td>\n",
       "      <td>1073</td>\n",
       "      <td>7.410253</td>\n",
       "      <td>7.429642</td>\n",
       "    </tr>\n",
       "    <tr>\n",
       "      <th>1</th>\n",
       "      <td>PKD_ACACGCGGTTTGGCTA-1_1</td>\n",
       "      <td>ACACGCGGTTTGGCTA-1</td>\n",
       "      <td>PKD1</td>\n",
       "      <td>female</td>\n",
       "      <td>PKD</td>\n",
       "      <td>PT2</td>\n",
       "      <td>1865.542588</td>\n",
       "      <td>1650</td>\n",
       "      <td>2.499409</td>\n",
       "      <td>-6.587287</td>\n",
       "    </tr>\n",
       "    <tr>\n",
       "      <th>22363</th>\n",
       "      <td>PKD_CAGCACGAGCAAGTCG-1_3</td>\n",
       "      <td>CAGCACGAGCAAGTCG-1</td>\n",
       "      <td>PKD3</td>\n",
       "      <td>female</td>\n",
       "      <td>PKD</td>\n",
       "      <td>DCT</td>\n",
       "      <td>2037.680784</td>\n",
       "      <td>1734</td>\n",
       "      <td>-8.619582</td>\n",
       "      <td>5.442869</td>\n",
       "    </tr>\n",
       "    <tr>\n",
       "      <th>1</th>\n",
       "      <td>PKD_ACACGCGGTTTGGCTA-1_1</td>\n",
       "      <td>ACACGCGGTTTGGCTA-1</td>\n",
       "      <td>PKD1</td>\n",
       "      <td>female</td>\n",
       "      <td>PKD</td>\n",
       "      <td>PT2</td>\n",
       "      <td>1865.542588</td>\n",
       "      <td>1650</td>\n",
       "      <td>2.499409</td>\n",
       "      <td>-6.587287</td>\n",
       "    </tr>\n",
       "  </tbody>\n",
       "</table>\n",
       "<p>82 rows × 10 columns</p>\n",
       "</div>"
      ],
      "text/plain": [
       "                           name             barcode patient  gender disease  \\\n",
       "905    PKD_AGGGCCTGTTGTCCCT-1_1  AGGGCCTGTTGTCCCT-1    PKD1  female     PKD   \n",
       "1      PKD_ACACGCGGTTTGGCTA-1_1  ACACGCGGTTTGGCTA-1    PKD1  female     PKD   \n",
       "1187   PKD_ATACCTTGTGTTTACG-1_1  ATACCTTGTGTTTACG-1    PKD1  female     PKD   \n",
       "1      PKD_ACACGCGGTTTGGCTA-1_1  ACACGCGGTTTGGCTA-1    PKD1  female     PKD   \n",
       "1943   PKD_CAATCGACAGAGAGGG-1_1  CAATCGACAGAGAGGG-1    PKD1  female     PKD   \n",
       "...                         ...                 ...     ...     ...     ...   \n",
       "1      PKD_ACACGCGGTTTGGCTA-1_1  ACACGCGGTTTGGCTA-1    PKD1  female     PKD   \n",
       "22071  PKD_CAAGAGGAGCAGGCTA-1_3  CAAGAGGAGCAGGCTA-1    PKD3  female     PKD   \n",
       "1      PKD_ACACGCGGTTTGGCTA-1_1  ACACGCGGTTTGGCTA-1    PKD1  female     PKD   \n",
       "22363  PKD_CAGCACGAGCAAGTCG-1_3  CAGCACGAGCAAGTCG-1    PKD3  female     PKD   \n",
       "1      PKD_ACACGCGGTTTGGCTA-1_1  ACACGCGGTTTGGCTA-1    PKD1  female     PKD   \n",
       "\n",
       "      celltype   nCount_RNA  nFeature_RNA    UMAP_1    UMAP_2  \n",
       "905        PT1  1543.645651          1513  5.360233 -6.968874  \n",
       "1          PT2  1865.542588          1650  2.499409 -6.587287  \n",
       "1187      TAL1  1322.570418          1280 -8.709750 -4.845766  \n",
       "1          PT2  1865.542588          1650  2.499409 -6.587287  \n",
       "1943      TAL1  1263.223684          1317 -7.660759 -4.829868  \n",
       "...        ...          ...           ...       ...       ...  \n",
       "1          PT2  1865.542588          1650  2.499409 -6.587287  \n",
       "22071     LEUK   813.314504          1073  7.410253  7.429642  \n",
       "1          PT2  1865.542588          1650  2.499409 -6.587287  \n",
       "22363      DCT  2037.680784          1734 -8.619582  5.442869  \n",
       "1          PT2  1865.542588          1650  2.499409 -6.587287  \n",
       "\n",
       "[82 rows x 10 columns]"
      ]
     },
     "execution_count": 96,
     "metadata": {},
     "output_type": "execute_result"
    }
   ],
   "source": [
    "removed_metadata"
   ]
  },
  {
   "cell_type": "code",
   "execution_count": 99,
   "id": "60ba5f51-0715-4feb-a1b6-0043edce5346",
   "metadata": {
    "tags": []
   },
   "outputs": [
    {
     "data": {
      "text/plain": [
       "((22335, 2), (22335, 2))"
      ]
     },
     "execution_count": 99,
     "metadata": {},
     "output_type": "execute_result"
    }
   ],
   "source": [
    "updated_train_pca_df.shape, train_pca_df.shape"
   ]
  },
  {
   "cell_type": "code",
   "execution_count": 86,
   "id": "04f3e33e-fdee-411f-a98f-79f92a7f5eac",
   "metadata": {
    "tags": []
   },
   "outputs": [],
   "source": [
    "columns=[\"PC1\", \"PC2\"]"
   ]
  },
  {
   "cell_type": "code",
   "execution_count": 87,
   "id": "a26d0149-997d-4cf4-b68f-bbf6808416e9",
   "metadata": {
    "tags": []
   },
   "outputs": [],
   "source": [
    "z_scores = np.abs(stats.zscore(train_pca_df[train_pca_df.columns]))"
   ]
  },
  {
   "cell_type": "code",
   "execution_count": 92,
   "id": "69f31a87-aeef-4950-a81e-de1227dec905",
   "metadata": {
    "tags": []
   },
   "outputs": [
    {
     "name": "stdout",
     "output_type": "stream",
     "text": [
      "                               PC1       PC2\n",
      "PKD_CATCGCTCACTCAGAT-1_3  0.079476  0.225277\n",
      "PKD_GGACGTCGTATGGGAC-1_2  0.087175  0.212520\n",
      "PKD_AGTACTGCAATGCAGG-1_3  0.083620  0.200164\n",
      "PKD_CTGCCATTCTTCGTAT-1_2  0.849577  4.677955\n",
      "PKD_CAGCAATAGTCGGCCT-1_3  0.090506  0.227379\n",
      "...                            ...       ...\n",
      "PKD_ATCCTATGTTCCTAGA-1_3  0.047664  0.239786\n",
      "PKD_GGCTGTGAGGAACGAA-1_1  0.013160  0.174588\n",
      "PKD_AGGCCACCACAACCGC-1_1  0.199299  0.062761\n",
      "PKD_GGAATGGAGCCAAGGT-1_2  0.026659  0.040461\n",
      "PKD_CGTTGGGGTGTTAACC-1_3  0.090830  0.226525\n",
      "\n",
      "[22376 rows x 2 columns]\n"
     ]
    }
   ],
   "source": [
    "print(z_scores)"
   ]
  },
  {
   "cell_type": "code",
   "execution_count": null,
   "id": "56a3e455-8f5f-406f-9942-b10bde9ba687",
   "metadata": {},
   "outputs": [],
   "source": []
  },
  {
   "cell_type": "code",
   "execution_count": 90,
   "id": "646066b3-53fa-452e-af8d-f080a20c78e2",
   "metadata": {
    "tags": []
   },
   "outputs": [
    {
     "ename": "ValueError",
     "evalue": "Shape of passed values is (2, 41), indices imply (22376, 2)",
     "output_type": "error",
     "traceback": [
      "\u001b[0;31m---------------------------------------------------------------------------\u001b[0m",
      "\u001b[0;31mValueError\u001b[0m                                Traceback (most recent call last)",
      "Cell \u001b[0;32mIn[90], line 1\u001b[0m\n\u001b[0;32m----> 1\u001b[0m outlier_indices \u001b[38;5;241m=\u001b[39m np\u001b[38;5;241m.\u001b[39margwhere(z_scores \u001b[38;5;241m>\u001b[39m \u001b[38;5;28mabs\u001b[39m(\u001b[38;5;241m10\u001b[39m))\n",
      "File \u001b[0;32m<__array_function__ internals>:200\u001b[0m, in \u001b[0;36margwhere\u001b[0;34m(*args, **kwargs)\u001b[0m\n",
      "File \u001b[0;32m~/anaconda3/lib/python3.11/site-packages/numpy/core/numeric.py:625\u001b[0m, in \u001b[0;36margwhere\u001b[0;34m(a)\u001b[0m\n\u001b[1;32m    623\u001b[0m     \u001b[38;5;66;03m# then remove the added dimension\u001b[39;00m\n\u001b[1;32m    624\u001b[0m     \u001b[38;5;28;01mreturn\u001b[39;00m argwhere(a)[:,:\u001b[38;5;241m0\u001b[39m]\n\u001b[0;32m--> 625\u001b[0m \u001b[38;5;28;01mreturn\u001b[39;00m transpose(nonzero(a))\n",
      "File \u001b[0;32m<__array_function__ internals>:200\u001b[0m, in \u001b[0;36mnonzero\u001b[0;34m(*args, **kwargs)\u001b[0m\n",
      "File \u001b[0;32m~/anaconda3/lib/python3.11/site-packages/numpy/core/fromnumeric.py:1984\u001b[0m, in \u001b[0;36mnonzero\u001b[0;34m(a)\u001b[0m\n\u001b[1;32m   1892\u001b[0m \u001b[38;5;129m@array_function_dispatch\u001b[39m(_nonzero_dispatcher)\n\u001b[1;32m   1893\u001b[0m \u001b[38;5;28;01mdef\u001b[39;00m \u001b[38;5;21mnonzero\u001b[39m(a):\n\u001b[1;32m   1894\u001b[0m \u001b[38;5;250m    \u001b[39m\u001b[38;5;124;03m\"\"\"\u001b[39;00m\n\u001b[1;32m   1895\u001b[0m \u001b[38;5;124;03m    Return the indices of the elements that are non-zero.\u001b[39;00m\n\u001b[1;32m   1896\u001b[0m \n\u001b[0;32m   (...)\u001b[0m\n\u001b[1;32m   1982\u001b[0m \n\u001b[1;32m   1983\u001b[0m \u001b[38;5;124;03m    \"\"\"\u001b[39;00m\n\u001b[0;32m-> 1984\u001b[0m     \u001b[38;5;28;01mreturn\u001b[39;00m _wrapfunc(a, \u001b[38;5;124m'\u001b[39m\u001b[38;5;124mnonzero\u001b[39m\u001b[38;5;124m'\u001b[39m)\n",
      "File \u001b[0;32m~/anaconda3/lib/python3.11/site-packages/numpy/core/fromnumeric.py:54\u001b[0m, in \u001b[0;36m_wrapfunc\u001b[0;34m(obj, method, *args, **kwds)\u001b[0m\n\u001b[1;32m     52\u001b[0m bound \u001b[38;5;241m=\u001b[39m \u001b[38;5;28mgetattr\u001b[39m(obj, method, \u001b[38;5;28;01mNone\u001b[39;00m)\n\u001b[1;32m     53\u001b[0m \u001b[38;5;28;01mif\u001b[39;00m bound \u001b[38;5;129;01mis\u001b[39;00m \u001b[38;5;28;01mNone\u001b[39;00m:\n\u001b[0;32m---> 54\u001b[0m     \u001b[38;5;28;01mreturn\u001b[39;00m _wrapit(obj, method, \u001b[38;5;241m*\u001b[39margs, \u001b[38;5;241m*\u001b[39m\u001b[38;5;241m*\u001b[39mkwds)\n\u001b[1;32m     56\u001b[0m \u001b[38;5;28;01mtry\u001b[39;00m:\n\u001b[1;32m     57\u001b[0m     \u001b[38;5;28;01mreturn\u001b[39;00m bound(\u001b[38;5;241m*\u001b[39margs, \u001b[38;5;241m*\u001b[39m\u001b[38;5;241m*\u001b[39mkwds)\n",
      "File \u001b[0;32m~/anaconda3/lib/python3.11/site-packages/numpy/core/fromnumeric.py:47\u001b[0m, in \u001b[0;36m_wrapit\u001b[0;34m(obj, method, *args, **kwds)\u001b[0m\n\u001b[1;32m     45\u001b[0m     \u001b[38;5;28;01mif\u001b[39;00m \u001b[38;5;129;01mnot\u001b[39;00m \u001b[38;5;28misinstance\u001b[39m(result, mu\u001b[38;5;241m.\u001b[39mndarray):\n\u001b[1;32m     46\u001b[0m         result \u001b[38;5;241m=\u001b[39m asarray(result)\n\u001b[0;32m---> 47\u001b[0m     result \u001b[38;5;241m=\u001b[39m wrap(result)\n\u001b[1;32m     48\u001b[0m \u001b[38;5;28;01mreturn\u001b[39;00m result\n",
      "File \u001b[0;32m~/anaconda3/lib/python3.11/site-packages/pandas/core/generic.py:2107\u001b[0m, in \u001b[0;36mNDFrame.__array_wrap__\u001b[0;34m(self, result, context)\u001b[0m\n\u001b[1;32m   2105\u001b[0m     \u001b[38;5;28;01mreturn\u001b[39;00m res\n\u001b[1;32m   2106\u001b[0m d \u001b[38;5;241m=\u001b[39m \u001b[38;5;28mself\u001b[39m\u001b[38;5;241m.\u001b[39m_construct_axes_dict(\u001b[38;5;28mself\u001b[39m\u001b[38;5;241m.\u001b[39m_AXIS_ORDERS, copy\u001b[38;5;241m=\u001b[39m\u001b[38;5;28;01mFalse\u001b[39;00m)\n\u001b[0;32m-> 2107\u001b[0m \u001b[38;5;28;01mreturn\u001b[39;00m \u001b[38;5;28mself\u001b[39m\u001b[38;5;241m.\u001b[39m_constructor(res, \u001b[38;5;241m*\u001b[39m\u001b[38;5;241m*\u001b[39md)\u001b[38;5;241m.\u001b[39m__finalize__(\u001b[38;5;28mself\u001b[39m, method\u001b[38;5;241m=\u001b[39m\u001b[38;5;124m\"\u001b[39m\u001b[38;5;124m__array_wrap__\u001b[39m\u001b[38;5;124m\"\u001b[39m)\n",
      "File \u001b[0;32m~/anaconda3/lib/python3.11/site-packages/pandas/core/frame.py:722\u001b[0m, in \u001b[0;36mDataFrame.__init__\u001b[0;34m(self, data, index, columns, dtype, copy)\u001b[0m\n\u001b[1;32m    712\u001b[0m         mgr \u001b[38;5;241m=\u001b[39m dict_to_mgr(\n\u001b[1;32m    713\u001b[0m             \u001b[38;5;66;03m# error: Item \"ndarray\" of \"Union[ndarray, Series, Index]\" has no\u001b[39;00m\n\u001b[1;32m    714\u001b[0m             \u001b[38;5;66;03m# attribute \"name\"\u001b[39;00m\n\u001b[0;32m   (...)\u001b[0m\n\u001b[1;32m    719\u001b[0m             typ\u001b[38;5;241m=\u001b[39mmanager,\n\u001b[1;32m    720\u001b[0m         )\n\u001b[1;32m    721\u001b[0m     \u001b[38;5;28;01melse\u001b[39;00m:\n\u001b[0;32m--> 722\u001b[0m         mgr \u001b[38;5;241m=\u001b[39m ndarray_to_mgr(\n\u001b[1;32m    723\u001b[0m             data,\n\u001b[1;32m    724\u001b[0m             index,\n\u001b[1;32m    725\u001b[0m             columns,\n\u001b[1;32m    726\u001b[0m             dtype\u001b[38;5;241m=\u001b[39mdtype,\n\u001b[1;32m    727\u001b[0m             copy\u001b[38;5;241m=\u001b[39mcopy,\n\u001b[1;32m    728\u001b[0m             typ\u001b[38;5;241m=\u001b[39mmanager,\n\u001b[1;32m    729\u001b[0m         )\n\u001b[1;32m    731\u001b[0m \u001b[38;5;66;03m# For data is list-like, or Iterable (will consume into list)\u001b[39;00m\n\u001b[1;32m    732\u001b[0m \u001b[38;5;28;01melif\u001b[39;00m is_list_like(data):\n",
      "File \u001b[0;32m~/anaconda3/lib/python3.11/site-packages/pandas/core/internals/construction.py:349\u001b[0m, in \u001b[0;36mndarray_to_mgr\u001b[0;34m(values, index, columns, dtype, copy, typ)\u001b[0m\n\u001b[1;32m    344\u001b[0m \u001b[38;5;66;03m# _prep_ndarraylike ensures that values.ndim == 2 at this point\u001b[39;00m\n\u001b[1;32m    345\u001b[0m index, columns \u001b[38;5;241m=\u001b[39m _get_axes(\n\u001b[1;32m    346\u001b[0m     values\u001b[38;5;241m.\u001b[39mshape[\u001b[38;5;241m0\u001b[39m], values\u001b[38;5;241m.\u001b[39mshape[\u001b[38;5;241m1\u001b[39m], index\u001b[38;5;241m=\u001b[39mindex, columns\u001b[38;5;241m=\u001b[39mcolumns\n\u001b[1;32m    347\u001b[0m )\n\u001b[0;32m--> 349\u001b[0m _check_values_indices_shape_match(values, index, columns)\n\u001b[1;32m    351\u001b[0m \u001b[38;5;28;01mif\u001b[39;00m typ \u001b[38;5;241m==\u001b[39m \u001b[38;5;124m\"\u001b[39m\u001b[38;5;124marray\u001b[39m\u001b[38;5;124m\"\u001b[39m:\n\u001b[1;32m    353\u001b[0m     \u001b[38;5;28;01mif\u001b[39;00m \u001b[38;5;28missubclass\u001b[39m(values\u001b[38;5;241m.\u001b[39mdtype\u001b[38;5;241m.\u001b[39mtype, \u001b[38;5;28mstr\u001b[39m):\n",
      "File \u001b[0;32m~/anaconda3/lib/python3.11/site-packages/pandas/core/internals/construction.py:420\u001b[0m, in \u001b[0;36m_check_values_indices_shape_match\u001b[0;34m(values, index, columns)\u001b[0m\n\u001b[1;32m    418\u001b[0m passed \u001b[38;5;241m=\u001b[39m values\u001b[38;5;241m.\u001b[39mshape\n\u001b[1;32m    419\u001b[0m implied \u001b[38;5;241m=\u001b[39m (\u001b[38;5;28mlen\u001b[39m(index), \u001b[38;5;28mlen\u001b[39m(columns))\n\u001b[0;32m--> 420\u001b[0m \u001b[38;5;28;01mraise\u001b[39;00m \u001b[38;5;167;01mValueError\u001b[39;00m(\u001b[38;5;124mf\u001b[39m\u001b[38;5;124m\"\u001b[39m\u001b[38;5;124mShape of passed values is \u001b[39m\u001b[38;5;132;01m{\u001b[39;00mpassed\u001b[38;5;132;01m}\u001b[39;00m\u001b[38;5;124m, indices imply \u001b[39m\u001b[38;5;132;01m{\u001b[39;00mimplied\u001b[38;5;132;01m}\u001b[39;00m\u001b[38;5;124m\"\u001b[39m)\n",
      "\u001b[0;31mValueError\u001b[0m: Shape of passed values is (2, 41), indices imply (22376, 2)"
     ]
    }
   ],
   "source": [
    "outlier_indices = np.argwhere(z_scores > abs(10))"
   ]
  },
  {
   "cell_type": "code",
   "execution_count": null,
   "id": "585c184d-62a8-443f-a065-85234d7e9ac2",
   "metadata": {
    "tags": []
   },
   "outputs": [],
   "source": [
    "train_pca_df.columns"
   ]
  },
  {
   "cell_type": "code",
   "execution_count": null,
   "id": "89ac98a8-1161-4b87-9be4-0b413f190ccc",
   "metadata": {
    "tags": []
   },
   "outputs": [],
   "source": [
    "eda_pca = DataEDAPCA(columns=[\"PC1\", \"PC2\"])\n",
    "updated_train_pca_df, removed_metadata = eda_pca.fit_transform(train_pca_df, metadata)"
   ]
  },
  {
   "cell_type": "code",
   "execution_count": null,
   "id": "3bf8894e-db99-4288-8772-81635aa4cde6",
   "metadata": {
    "tags": []
   },
   "outputs": [],
   "source": [
    "train_pca_df"
   ]
  },
  {
   "cell_type": "code",
   "execution_count": null,
   "id": "98c8e198-6ac0-4d3a-a026-993d18ac657b",
   "metadata": {
    "tags": []
   },
   "outputs": [],
   "source": [
    "eda_pca = DataEDAPCA(columns=[\"PC1\", \"PC2\"])\n",
    "\n",
    "# Fit and transform the dataset\n",
    "pca_train_df_filtered = eda_pca.fit_transform(train_pca_df, metadata)\n",
    "\n",
    "# Access removed values\n",
    "removed_values = eda_pca.removed_values\n",
    "\n",
    "# Access the updated PCA dataset\n",
    "updated_pca_train_df = pca_train_df_filter"
   ]
  },
  {
   "cell_type": "markdown",
   "id": "a732968b-22a1-4c8a-9fab-057d6c4742b7",
   "metadata": {},
   "source": [
    "## Clustering on the Train Data"
   ]
  },
  {
   "cell_type": "code",
   "execution_count": null,
   "id": "cc99e243-03cf-485a-9d18-2e2f960e8779",
   "metadata": {
    "tags": []
   },
   "outputs": [],
   "source": [
    "def optimize_and_compare_kmeans(data, kmeans_params, alpha=0.05):\n",
    "    # Perform Grid Search\n",
    "    grid = GridSearchCV(KMeans(), kmeans_params, cv=3, refit=True)\n",
    "    grid.fit(data)\n",
    "    grid_search_estimator = grid.best_estimator_\n",
    "\n",
    "    # Calculate silhouette scores\n",
    "    default_kmeans = KMeans(n_clusters=2, random_state=0, n_init=\"auto\").fit(data)\n",
    "    default_silhouette_score = silhouette_score(data, default_kmeans.labels_)\n",
    "    grid_search_silhouette_score = silhouette_score(data, grid_search_estimator.labels_)\n",
    "\n",
    "    # Perform a two-sample t-test only if Grid Search performs better\n",
    "    if grid_search_silhouette_score > default_silhouette_score:\n",
    "        t_stat, p_value = stats.ttest_ind(default_kmeans.labels_, grid_search_estimator.labels_)\n",
    "\n",
    "        # Set the default choice to \"Grid Search Estimator\"\n",
    "        choice = \"KMeans Estimator\"\n",
    "\n",
    "        # Output informative print statements\n",
    "        print(\"Default KMeans Silhouette Score:\", default_silhouette_score)\n",
    "        print(\"Grid Search Estimator Silhouette Score:\", grid_search_silhouette_score)\n",
    "\n",
    "        if p_value < alpha:\n",
    "            choice = \"Grid Search Estimator\"\n",
    "            print(\"The difference between the two groups is statistically significant.\")\n",
    "            print(f\"Using {choice} as it performs significantly better using a threshold of alpha = .05 .\")\n",
    "            return choice, grid_search_estimator\n",
    "        else:\n",
    "            print(\"The difference between the two groups is not statistically significant.\")\n",
    "            print(f\"Using {choice} as there is no significant improvement using a threshold of alpha = .05.\")\n",
    "            return choice, default_kmeans\n",
    "    else:\n",
    "        choice = \"Default Parameter\"\n",
    "        print(\"Grid Search Estimator Silhouette Score:\", grid_search_silhouette_score)\n",
    "        print(\"Default KMeans Silhouette Score:\", default_silhouette_score)\n",
    "        print(\"Default Parameter has a higher Silhouette Score.\")\n",
    "        print(\"Using Default Parameter as it performs better based on Silhouette Score.\")\n",
    "        return choice, default_kmeans\n",
    "\n",
    "     # Return both choice and the chosen KMeans clusterer\n",
    "\n",
    "\n",
    "# Usage example with parameters\n",
    "kmeans_params = {\n",
    "    'n_clusters': list(range(1, 10)),\n",
    "    'init': ['random', 'k-means++'],\n",
    "    'n_init': [1, 5, 10],\n",
    "    'max_iter': [300],\n",
    "    'random_state': [0]\n",
    "}\n",
    "choice, k_means_estimator = optimize_and_compare_kmeans(train_without_outliers, kmeans_params)"
   ]
  },
  {
   "cell_type": "code",
   "execution_count": null,
   "id": "1f6b5dfa-9c50-419b-8d2d-96d80a39908f",
   "metadata": {
    "tags": []
   },
   "outputs": [],
   "source": [
    "k_means_estimator"
   ]
  },
  {
   "cell_type": "code",
   "execution_count": null,
   "id": "12b00813-1e4f-49e2-ac12-10b4e1ccef61",
   "metadata": {
    "tags": []
   },
   "outputs": [],
   "source": [
    "def find_outliers_in_clusters(data, clusterer, n_neighbors=20, contamination=0.1):\n",
    "    # Fit the Local Outlier Factor (LOF) model on the data\n",
    "    lof = LocalOutlierFactor(n_neighbors=n_neighbors, contamination=contamination)\n",
    "    outliers = lof.fit_predict(data)\n",
    "\n",
    "    # Create a DataFrame to store cluster labels and outlier labels\n",
    "    cluster_outliers = pd.DataFrame({'Cluster': clusterer.labels_, 'Outlier': outliers})\n",
    "\n",
    "    # Print the number of data points and percentage of outliers in each cluster\n",
    "    cluster_info = cluster_outliers.groupby('Cluster').agg(DataPoints=('Cluster', 'count'),\n",
    "                                                          PercentageOutliers=('Outlier', lambda x: (x == -1).mean() * 100))\n",
    "    print(\"Cluster Information:\")\n",
    "    print(cluster_info)\n",
    "\n",
    "    return cluster_outliers\n",
    "\n",
    "# Example usage:\n",
    "# Assuming you already have a KMeans clusterer 'chosen_kmeans' from the previous code\n",
    "outliers_in_clusters = find_outliers_in_clusters(train_without_outliers, k_means_estimator)\n",
    "outliers_in_clusters\n",
    "\n"
   ]
  },
  {
   "cell_type": "code",
   "execution_count": null,
   "id": "203581d1-ed1c-4aa5-aea6-43fcac3a7bfc",
   "metadata": {
    "tags": []
   },
   "outputs": [],
   "source": [
    "import matplotlib.pyplot as plt\n",
    "import seaborn as sns\n",
    "\n",
    "# Set up the figure\n",
    "plt.figure(figsize=(8, 6))\n",
    "\n",
    "# Create a scatter plot to visualize the clustering\n",
    "sns.scatterplot(x='PC1', y='PC2', data=train_without_outliers, hue=k_means_estimator.labels_, palette='viridis', s=50, alpha=0.7)\n",
    "\n",
    "# Add labels and title\n",
    "plt.xlabel('PC1')\n",
    "plt.ylabel('PC2')\n",
    "plt.title('Clustering Visualization')\n",
    "\n",
    "# Show the plot\n",
    "plt.grid(True)\n",
    "plt.legend(title='Cluster', loc='upper right')\n",
    "plt.show()"
   ]
  },
  {
   "cell_type": "code",
   "execution_count": null,
   "id": "537f619b-9ff6-4f40-bbf7-b3250eb2d0f6",
   "metadata": {
    "tags": []
   },
   "outputs": [],
   "source": [
    "from sklearn.cluster import HDBSCAN"
   ]
  },
  {
   "cell_type": "code",
   "execution_count": null,
   "id": "1ddcd827-c720-4a8e-b0de-e3307758c645",
   "metadata": {
    "tags": []
   },
   "outputs": [],
   "source": [
    "def silhouette_scorer(estimator, X):\n",
    "    labels = estimator.fit_predict(X)\n",
    "    if len(set(labels)) == 1:\n",
    "        return 0  # Silhouette score is undefined for a single cluster\n",
    "    return silhouette_score(X, labels)\n",
    "\n",
    "def optimize_and_compare_hdbscan(data, hdbscan_params, alpha=0.05):\n",
    "    # Perform Grid Search\n",
    "    grid_search = GridSearchCV(\n",
    "        estimator=HDBSCAN(min_cluster_size=20),\n",
    "        param_grid=hdbscan_params,\n",
    "        scoring=silhouette_scorer,\n",
    "        cv=5,\n",
    "        n_jobs=-1,\n",
    "    )\n",
    "    grid_search.fit(data)\n",
    "    grid_search_estimator = grid_search.best_estimator_\n",
    "\n",
    "    # Calculate silhouette scores for the default and grid search estimators\n",
    "    default_hdbscan = HDBSCAN(min_cluster_size=20).fit(data)\n",
    "    default_labels = default_hdbscan.labels_\n",
    "    default_silhouette_score = silhouette_score(data, default_labels)\n",
    "\n",
    "    grid_search_labels = grid_search_estimator.fit_predict(data)\n",
    "    grid_search_silhouette_score = silhouette_score(data, grid_search_labels)\n",
    "\n",
    "    # Check if the grid search estimator has a higher silhouette score\n",
    "    if grid_search_silhouette_score > default_silhouette_score:\n",
    "        # Perform a two-sample t-test\n",
    "        t_stat, p_value = stats.ttest_ind(default_labels, grid_search_labels)\n",
    "\n",
    "        # Check if the p-value is less than the significance level\n",
    "        if p_value < alpha:\n",
    "            choice = \"Grid Search Estimator\"\n",
    "        else:\n",
    "            choice = \"Default Parameter\"\n",
    "    else:\n",
    "        choice = \"Default Parameter\"\n",
    "\n",
    "    # Output informative print statements\n",
    "    print(\"Default HDBSCAN Silhouette Score:\", default_silhouette_score)\n",
    "    print(\"Grid Search Estimator Silhouette Score:\", grid_search_silhouette_score)\n",
    "\n",
    "    if grid_search_silhouette_score > default_silhouette_score:\n",
    "        if p_value < alpha:\n",
    "            print(\"The difference between the two groups is statistically significant.\")\n",
    "            print(f\"Using {choice} as it performs significantly better.\")\n",
    "        else:\n",
    "            print(\"The difference between the two groups is not statistically significant.\")\n",
    "            print(f\"Using {choice} as there is no significant improvement.\")\n",
    "    else:\n",
    "        print(\"Default Parameter has a higher silhouette score. No t-test performed.\")\n",
    "\n",
    "    return choice\n",
    "\n",
    "# Define the parameter grid for HDBSCAN\n",
    "hdbscan_params = {\n",
    "    'min_samples': [10, 30, 50, 60, 100],\n",
    "    'min_cluster_size': [100, 200, 300, 400, 500, 600],\n",
    "    'cluster_selection_method': ['eom', 'leaf'],\n",
    "    'metric': ['euclidean', 'manhattan']\n",
    "}\n",
    "\n",
    "# Usage example with parameters\n",
    "result = optimize_and_compare_hdbscan(train_without_outliers, hdbscan_params)"
   ]
  },
  {
   "cell_type": "code",
   "execution_count": null,
   "id": "e7f87fb0-c303-45a4-89c1-be75cc3bcae7",
   "metadata": {
    "tags": []
   },
   "outputs": [],
   "source": [
    "result"
   ]
  },
  {
   "cell_type": "markdown",
   "id": "6e22a4c4-a081-4085-92c8-e0c7b13a00ce",
   "metadata": {},
   "source": [
    "https://towardsdatascience.com/tuning-with-hdbscan-149865ac2970"
   ]
  },
  {
   "cell_type": "markdown",
   "id": "0076af96-9d6f-4f0e-afa9-383cd9a3ea03",
   "metadata": {},
   "source": [
    "Things to consider\n",
    "\n",
    "\n",
    "1) Get the clustering to work in a pipeline\n",
    "2) Are these ok default parameters\n",
    "3) What to do with the test data\n",
    "4) Should we be using silhoute on grid search or should i be optimizaing it differently\n",
    "5) Are we normalizing it the right way? Since normalize is working along rows is this dealing with out of domain sampels? Just used standard scalar because no normalizers could work and some of them did along rows\n",
    "6) Make it so it put things in folders\n",
    "7) Quality check NAS? How do to this with a sparse matrix\n",
    "8) Do soemthing like she did in notebook 3 to label the data set\n",
    "9) Naive classifier and base? \n",
    "10) Would k-means be base what is naive?\n"
   ]
  },
  {
   "cell_type": "code",
   "execution_count": null,
   "id": "0a8994a0-8a6b-41c9-b3f1-e96d5c8a40ab",
   "metadata": {},
   "outputs": [],
   "source": []
  }
 ],
 "metadata": {
  "kernelspec": {
   "display_name": "Python 3 (ipykernel)",
   "language": "python",
   "name": "python3"
  },
  "language_info": {
   "codemirror_mode": {
    "name": "ipython",
    "version": 3
   },
   "file_extension": ".py",
   "mimetype": "text/x-python",
   "name": "python",
   "nbconvert_exporter": "python",
   "pygments_lexer": "ipython3",
   "version": "3.11.4"
  }
 },
 "nbformat": 4,
 "nbformat_minor": 5
}
