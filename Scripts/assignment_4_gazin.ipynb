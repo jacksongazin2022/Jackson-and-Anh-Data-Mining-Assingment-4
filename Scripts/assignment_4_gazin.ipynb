{
 "cells": [
  {
   "cell_type": "markdown",
   "id": "d20ad65b",
   "metadata": {},
   "source": [
    "# Get data"
   ]
  },
  {
   "cell_type": "code",
   "execution_count": 1,
   "id": "afe8befa-30dd-4af5-995f-a8309cdfe639",
   "metadata": {
    "tags": []
   },
   "outputs": [],
   "source": [
    "import os\n",
    "import pandas as pd\n",
    "from sklearn.pipeline import Pipeline\n",
    "from sklearn.preprocessing import StandardScaler, MinMaxScaler, normalize\n",
    "from sklearn.decomposition import TruncatedSVD\n",
    "import numpy as np\n",
    "import my_utils\n",
    "import gzip\n",
    "import shutil\n",
    "from sklearn.pipeline import Pipeline"
   ]
  },
  {
   "cell_type": "code",
   "execution_count": 2,
   "id": "46fd8c97-6e72-47c6-bee6-2a807d532e02",
   "metadata": {
    "tags": []
   },
   "outputs": [
    {
     "name": "stdout",
     "output_type": "stream",
     "text": [
      "../Output/GSE185948_count_RNA.rds.gz has been successfully uncompressed to ../Output/data_for_r.rds.\n"
     ]
    }
   ],
   "source": [
    "input_gz_file = '../Output/GSE185948_count_RNA.rds.gz'\n",
    "output_rds_file = '../Output/data_for_r.rds'\n",
    "\n",
    "# Open the compressed file and extract it\n",
    "with gzip.open(input_gz_file, 'rb') as f_in, open(output_rds_file, 'wb') as f_out:\n",
    "    shutil.copyfileobj(f_in, f_out)\n",
    "\n",
    "print(f'{input_gz_file} has been successfully uncompressed to {output_rds_file}.')"
   ]
  },
  {
   "cell_type": "code",
   "execution_count": 3,
   "id": "77773596-d217-481d-90eb-cff1fe9563ac",
   "metadata": {
    "tags": []
   },
   "outputs": [
    {
     "name": "stdout",
     "output_type": "stream",
     "text": [
      "../Output/GSE185948_metadata_RNA.csv.gz has been successfully uncompressed to ../Output/uncompressed_metadata.csv.\n"
     ]
    }
   ],
   "source": [
    "input_gz_file = '../Output/GSE185948_metadata_RNA.csv.gz'\n",
    "output_csv_file = '../Output/uncompressed_metadata.csv'\n",
    "\n",
    "# Open the compressed file and extract it\n",
    "with gzip.open(input_gz_file, 'rb') as f_in, open(output_csv_file, 'wb') as f_out:\n",
    "    shutil.copyfileobj(f_in, f_out)\n",
    "\n",
    "print(f'{input_gz_file} has been successfully uncompressed to {output_csv_file}.')"
   ]
  },
  {
   "cell_type": "code",
   "execution_count": 4,
   "id": "5bd10524-abd6-4eda-8ea8-9d53cff8d84c",
   "metadata": {
    "tags": []
   },
   "outputs": [],
   "source": [
    "output_path = '../Output'\n",
    "if not os.path.exists(output_path):\n",
    "    os.makedirs(output_path)"
   ]
  },
  {
   "cell_type": "code",
   "execution_count": 5,
   "id": "d033d150-def7-422c-b556-cfadb89c76db",
   "metadata": {
    "tags": []
   },
   "outputs": [],
   "source": [
    "metadata = pd.read_csv('../Output/uncompressed_metadata.csv')"
   ]
  },
  {
   "cell_type": "markdown",
   "id": "db12762e-d950-4f0d-88ae-cd32ec8e43ca",
   "metadata": {},
   "source": [
    "R code below"
   ]
  },
  {
   "cell_type": "raw",
   "id": "ea593dcf-f6ef-476e-97fa-5527db6fb58a",
   "metadata": {},
   "source": [
    "filename = file.choose()\n",
    "data = readRDS(filename)\n",
    "data\n",
    "sparse_matrix <- data\n",
    "\n",
    "num_columns <- ncol(sparse_matrix)\n",
    "# Get the nonzero elements and their indices\n",
    "nonzero_elements <- sparse_matrix@x\n",
    "row_indices <- sparse_matrix@i\n",
    "col_indices <- rep(1:num_columns, times = diff(sparse_matrix@p))  # Use sparse_matrix@j for column indices\n",
    "\n",
    "\n",
    "nonzero_data <- data.frame(row_indices, col_indices, nonzero_elements)\n",
    "\n",
    "col_names <- data.frame(sparse_matrix@Dimnames[2])\n",
    "nrow(col_names)\n",
    "row_names <- data.frame((sparse_matrix@Dimnames[1]))\n",
    "\n",
    "write.csv(row_names, 'row_names.csv')\n",
    "write.csv(col_names, 'col_names.csv')\n",
    "\n",
    "\n",
    "# Save the i, j information to a Parquet file\n",
    "write_parquet(nonzero_data, \"non_zero.parquet\")"
   ]
  },
  {
   "cell_type": "code",
   "execution_count": null,
   "id": "52d881cd-1a18-43f9-84d1-ff85e77ef9db",
   "metadata": {
    "tags": []
   },
   "outputs": [],
   "source": [
    "pip install --upgrade --no-deps memory_profiler"
   ]
  },
  {
   "cell_type": "markdown",
   "id": "f1dfd35c-e394-419d-b4c3-5db027e5cc0b",
   "metadata": {},
   "source": [
    "## Untransposed Data Preparation"
   ]
  },
  {
   "cell_type": "code",
   "execution_count": 6,
   "id": "32d363c1-327c-4470-b520-af645a113edf",
   "metadata": {
    "tags": []
   },
   "outputs": [
    {
     "name": "stdout",
     "output_type": "stream",
     "text": [
      "Returning sparse_matrix, column_names, row_names, and row_indices\n"
     ]
    }
   ],
   "source": [
    "data_path = '../Output/non_zero.parquet'\n",
    "row_info_path = '../Output/row_names.csv'\n",
    "column_info_path = '../Output/col_names.csv'\n",
    "#sparse_matrix = coo_matrix((data['nonzero_elements'], (data['row_indices'], data['col_indices'])))\n",
    "sparse_matrix, column_names, row_names, row_indices= my_utils.load_data(data_path, row_info_path, column_info_path)"
   ]
  },
  {
   "cell_type": "code",
   "execution_count": 8,
   "id": "5edb6927-abb7-4961-a2b4-3447d71d8234",
   "metadata": {
    "tags": []
   },
   "outputs": [],
   "source": [
    "split_pipeline = Pipeline([\n",
    "    ('splitter', my_utils.SparseTrainTestSplit(test_size=0.2, random_state=42, row_indices = row_indices)),\n",
    "    # Add other steps in the pipeline as needed\n",
    "])\n",
    "\n",
    "# Fit and transform the pipeline\n",
    "sparse_train, sparse_test, train_indices, test_indices = split_pipeline.fit_transform(sparse_matrix)\n"
   ]
  },
  {
   "cell_type": "code",
   "execution_count": 9,
   "id": "fdfeb12c-ab56-424c-a09a-62dd30fc2494",
   "metadata": {
    "tags": []
   },
   "outputs": [],
   "source": [
    "clean_and_pca_pipeline = Pipeline([\n",
    "    ('cleaner', my_utils.DataClean()),  # CleanData is performed first\n",
    "    ('scaler', StandardScaler(with_mean=False)),\n",
    "    ('pca', TruncatedSVD(n_components=2))\n",
    "])\n",
    "\n",
    "# Fit the pipeline to training\n",
    "clean_and_pca_pipeline.fit(sparse_train)\n",
    "# Transform the training data\n",
    "pca_sparse_train = clean_and_pca_pipeline.transform(sparse_train)\n",
    "\n",
    "pca_sparse_test = clean_and_pca_pipeline.transform(sparse_test)"
   ]
  },
  {
   "cell_type": "code",
   "execution_count": 10,
   "id": "8abcfad5-2055-4bd5-ac33-6cda5241999f",
   "metadata": {
    "tags": []
   },
   "outputs": [],
   "source": [
    "reindexer = my_utils.Reindex(columns=[\"PC1\", \"PC2\"], names=row_names, output_folder=\"../Output\")\n",
    "train_pca_df = reindexer.transform(pca_sparse_train, train_indices, \"train\")\n",
    "test_pca_df = reindexer.transform(pca_sparse_test, test_indices, \"test\")"
   ]
  },
  {
   "cell_type": "code",
   "execution_count": 11,
   "id": "c6ce4aee-7198-440b-90db-f654e038c82f",
   "metadata": {
    "tags": []
   },
   "outputs": [
    {
     "name": "stdout",
     "output_type": "stream",
     "text": [
      "Box Plot and Scatterplot of Data Set with Outliers\n"
     ]
    },
    {
     "data": {
      "image/png": "[encoded data removed]",
      "text/plain": [
       "<Figure size 800x550 with 1 Axes>"
      ]
     },
     "metadata": {},
     "output_type": "display_data"
    },
    {
     "name": "stdout",
     "output_type": "stream",
     "text": [
      "DataFrame of Z-scores sent to output folder\n",
      "Z-threshold: 10\n",
      "Df of Outliers sent to output folder\n",
      "Removing 39 from our dataframe as they exceed our threshold of abs10\n",
      "Sending updated Df to Output\n",
      "Box Plot and Scatterplot of Data Set without Outliers\n"
     ]
    },
    {
     "data": {
      "image/png": "[encoded data removed]",
      "text/plain": [
       "<Figure size 800x550 with 1 Axes>"
      ]
     },
     "metadata": {},
     "output_type": "display_data"
    },
    {
     "name": "stdout",
     "output_type": "stream",
     "text": [
      "Returning updated dataframe, metadata of rows we removed, and PC of rows we removed\n"
     ]
    },
    {
     "data": {
      "image/png": "[encoded data removed]",
      "text/plain": [
       "<Figure size 800x550 with 1 Axes>"
      ]
     },
     "metadata": {},
     "output_type": "display_data"
    }
   ],
   "source": [
    "eda_pca = my_utils.DataEDAPCA(columns=[\"PC1\", \"PC2\"], trans=False, graphs=True)\n",
    "pca_train_df, metadata_empty, outlier_df = eda_pca.fit_transform(train_pca_df)"
   ]
  },
  {
   "cell_type": "markdown",
   "id": "a732968b-22a1-4c8a-9fab-057d6c4742b7",
   "metadata": {},
   "source": [
    "## Clustering on the Train Data"
   ]
  },
  {
   "cell_type": "code",
   "execution_count": 2,
   "id": "39b0fc11-1062-4743-8fec-51d9c7c635bf",
   "metadata": {
    "tags": []
   },
   "outputs": [],
   "source": [
    "pca_train_df = pd.read_csv('../Output/pca_train_df_without_outliers.csv', index_col = 0)\n",
    "pca_test_df =  pd.read_csv('../Output/pca_test_df.csv', index_col=0)"
   ]
  },
  {
   "cell_type": "code",
   "execution_count": null,
   "id": "75983b9a-d6bf-4d4f-8d49-8a93b629f3c4",
   "metadata": {
    "tags": []
   },
   "outputs": [
    {
     "name": "stdout",
     "output_type": "stream",
     "text": [
      "Fitting pipe to the training data\n"
     ]
    }
   ],
   "source": [
    "hdbscan_params = {\n",
    "    'min_samples': [10, 30, 50, 60, 100],\n",
    "    'min_cluster_size': [100, 200, 300, 400, 500, 600],\n",
    "    'cluster_selection_method': ['eom', 'leaf'],\n",
    "    'metric': ['euclidean', 'manhattan']\n",
    "}\n",
    "# Create a pipeline\n",
    "hdbscan_pipe = Pipeline([\n",
    "    (\"clusterer\", my_utils.Optimize_and_Compare_Hdbscan(hdbscan_params)),\n",
    "])\n",
    "results_hdb, best_estimator_hdb, silhouette_train_hbd, silhouette_test_hbd = \\\n",
    "    my_utils.calculate_silhouette(\n",
    "        pca_train_df, \n",
    "        pca_test_df, \n",
    "        hdbscan_pipe\n",
    ")"
   ]
  },
  {
   "cell_type": "code",
   "execution_count": null,
   "id": "1a9e3975-d4e6-4b4a-b29a-4b0c657e661e",
   "metadata": {},
   "outputs": [],
   "source": [
    "kmeans_params = {\n",
    "    'n_clusters': list(range(1, 10)),\n",
    "    'init': ['random', 'k-means++'],\n",
    "    'n_init': [1, 5, 10],\n",
    "    'max_iter': [300],\n",
    "    'random_state': [0]\n",
    "}\n",
    "\n",
    "# Create a pipeline\n",
    "k_means_pipe = Pipeline([\n",
    "    (\"clusterer\", my_utils.OptimizeAndCompareKMeans(kmeans_params)),\n",
    "])\n",
    "\n",
    "results_kmeans, best_estimator_kmeans, silhouette_train_kmeans, silhouette_test_kmeans = \\\n",
    "    my_utils.calculate_silhouette(\n",
    "        pca_train_df, \n",
    "        pca_test_df, \n",
    "        k_means_pipe, \n",
    "        kmeans=True\n",
    ")\n"
   ]
  },
  {
   "cell_type": "markdown",
   "id": "27927a6a-82fa-41d8-ab50-3ebc71df5a65",
   "metadata": {},
   "source": [
    "I will use the Kmeans as my best estimator."
   ]
  },
  {
   "cell_type": "code",
   "execution_count": null,
   "id": "8554c92e-31c3-4bde-803b-24be22023cd1",
   "metadata": {
    "tags": []
   },
   "outputs": [],
   "source": [
    "best_estimator =  best_estimator_kmeans"
   ]
  },
  {
   "cell_type": "code",
   "execution_count": null,
   "id": "0f297064-e527-4a82-b833-83fbc13e88e8",
   "metadata": {},
   "outputs": [],
   "source": [
    "scoring_df_untransposed = my_utils.create_labels_and_scoring_df(\n",
    "    best_estimator, \n",
    "    '../Output/best_estimator_untransposed_data_label_and_score', \n",
    "    pca_train_df, \n",
    "    pca_test_df\n",
    ")"
   ]
  },
  {
   "cell_type": "code",
   "execution_count": null,
   "id": "50e65cd3-c533-4b64-ac7a-fe142b255a1a",
   "metadata": {
    "tags": []
   },
   "outputs": [],
   "source": [
    "# Use your best_estimator to predict labels for the data\n",
    "cluster_labels = best_estimator.predict(pca_train_df)\n",
    "\n",
    "# Add the cluster_labels to the training data DataFrame\n",
    "pca_train_df['Cluster'] = cluster_labels\n",
    "\n",
    "# Create a scatter plot to visualize the clustering\n",
    "plt.figure(figsize=(8, 6))\n",
    "sns.scatterplot(x='PC1', y='PC2', data=pca_train_df, hue='Cluster', palette='viridis', s=50, alpha=0.7)\n",
    "\n",
    "# Add labels and title\n",
    "plt.xlabel('PC1')\n",
    "plt.ylabel('PC2')\n",
    "plt.title('Clustering Visualization of Untransposed Data')\n",
    "\n",
    "# Show the plot\n",
    "plt.grid(True)\n",
    "plt.legend(title='Cluster', loc='upper right')\n",
    "plt.show()\n",
    "plt.savefig(f'../Output/Clustering_on_untransposed_data.pdf')"
   ]
  },
  {
   "cell_type": "markdown",
   "id": "6e22a4c4-a081-4085-92c8-e0c7b13a00ce",
   "metadata": {},
   "source": [
    "https://towardsdatascience.com/tuning-with-hdbscan-149865ac2970"
   ]
  },
  {
   "cell_type": "markdown",
   "id": "2300a8d0-76ef-46dd-8cc5-472d81e98d72",
   "metadata": {},
   "source": [
    "## Transposed Data Preparation"
   ]
  },
  {
   "cell_type": "code",
   "execution_count": null,
   "id": "4ccb77b3-058c-42e7-9db5-895c2efed4d0",
   "metadata": {
    "tags": []
   },
   "outputs": [],
   "source": [
    "data_path = '../Output/non_zero.parquet'\n",
    "row_info_path = '../Output/row_names.csv'\n",
    "column_info_path = '../Output/col_names.csv'\n",
    "#sparse_matrix = coo_matrix((data['nonzero_elements'], (data['row_indices'], data['col_indices'])))\n",
    "sparse_matrix_trans, row_names_trans, col_names_trans, row_indices_trans= my_utils.load_data(data_path, row_info_path, column_info_path, transpose = True)"
   ]
  },
  {
   "cell_type": "markdown",
   "id": "a99b2ac8-84dd-456b-b02c-9c846c4317bb",
   "metadata": {},
   "source": [
    "## Demographic Feature Cleaning for Training Data"
   ]
  },
  {
   "cell_type": "code",
   "execution_count": null,
   "id": "1946e8e8-018b-4a5b-bd53-9eb75839a979",
   "metadata": {
    "tags": []
   },
   "outputs": [],
   "source": [
    "cell_count = metadata['patient'].value_counts(normalize=True)\n",
    "cell_count.columns = ['patient', 'percentage']\n",
    "cell_count"
   ]
  },
  {
   "cell_type": "code",
   "execution_count": null,
   "id": "bf5e7962-be67-4611-a2c6-0b6885d8330f",
   "metadata": {
    "tags": []
   },
   "outputs": [],
   "source": [
    "split_pipeline_trans = Pipeline([\n",
    "    ('splitter', my_utils.PreserveRowIndicesSplitter(\n",
    "        test_size=0.2, random_state=42,\n",
    "        input_metadata=metadata, row_names=row_names_trans, groupby_columns=['gender', 'disease']\n",
    "    )),\n",
    "    # Add other steps in the pipeline as needed\n",
    "])\n",
    "(\n",
    "    sparse_matrix_train_trans,\n",
    "    sparse_matrix_test_trans,\n",
    "    train_row_indices_trans,\n",
    "    test_row_indices_trans\n",
    ") = split_pipeline_trans.fit_transform(sparse_matrix_trans)\n"
   ]
  },
  {
   "cell_type": "code",
   "execution_count": null,
   "id": "4a8e7028-f3f5-4c6a-afa8-b72d9e8d6401",
   "metadata": {
    "tags": []
   },
   "outputs": [],
   "source": [
    "clean_and_pca_pipeline_trans = Pipeline([\n",
    "    ('cleaner', my_utils.DataClean(trans=True)),  # Specify that the data is transposed\n",
    "    ('scaler', StandardScaler(with_mean=False)),\n",
    "    ('pca', TruncatedSVD(n_components=2))\n",
    "])\n",
    "# Fit the pipeline to training\n",
    "clean_and_pca_pipeline_trans.fit(sparse_matrix_train_trans)\n",
    "# Transform the training data\n",
    "pca_sparse_train_trans = clean_and_pca_pipeline_trans.transform(sparse_matrix_train_trans)\n",
    "pca_sparse_test_trans= clean_and_pca_pipeline_trans.transform(sparse_matrix_test_trans)"
   ]
  },
  {
   "cell_type": "code",
   "execution_count": null,
   "id": "3c7bc1af-6fe0-484d-b282-6b1ad7faba4d",
   "metadata": {
    "tags": []
   },
   "outputs": [],
   "source": [
    "reindexer_trans = my_utils.Reindex(columns=[\"PC1\", \"PC2\"], names=row_names_trans, output_folder=\"../Output\", trans = True)\n",
    "train_pca_df_trans = reindexer_trans.transform(pca_sparse_train_trans,  train_row_indices_trans, \"train\")\n",
    "test_pca_df_trans = reindexer_trans.transform(pca_sparse_test_trans, test_row_indices_trans, \"test\")"
   ]
  },
  {
   "cell_type": "code",
   "execution_count": null,
   "id": "5630326a-f418-4f58-bcec-4123d3586564",
   "metadata": {
    "tags": []
   },
   "outputs": [],
   "source": [
    "eda_pca = my_utils.DataEDAPCA(columns=[\"PC1\", \"PC2\"], trans = True, graphs = True)\n",
    "updated_train_pca_df_trans, metadata_removed, outlier_df_trans= eda_pca.fit_transform(train_pca_df_trans,another_df=  metadata)"
   ]
  },
  {
   "cell_type": "markdown",
   "id": "8e31160b-4bb3-4c60-ac8b-4bb9cb0e26af",
   "metadata": {},
   "source": [
    "## Clustering on the Transposed Data"
   ]
  },
  {
   "cell_type": "code",
   "execution_count": null,
   "id": "1df9fa06-d21e-4524-bc69-9858205794c2",
   "metadata": {
    "tags": []
   },
   "outputs": [],
   "source": [
    "pca_train_df_trans = pd.read_csv('../Output/pca_train_df_without_outliers_trans.csv', index_col = 0)\n",
    "pca_test_df_trans =  pd.read_csv('../Output/pca_test_df_trans.csv', index_col=0)"
   ]
  },
  {
   "cell_type": "code",
   "execution_count": null,
   "id": "e9cdff41-6c21-4429-9c99-048e528bc931",
   "metadata": {
    "tags": []
   },
   "outputs": [],
   "source": [
    "# Define the parameter grid for HDBSCAN\n",
    "hdbscan_params_trans = {\n",
    "    'min_samples': [10, 30, 50],\n",
    "    'min_cluster_size': [100, 200, 300],\n",
    "    'cluster_selection_method': ['eom', 'leaf'],\n",
    "    'metric': ['manhattan']\n",
    "}\n",
    "\n",
    "# Usage example with parameters\n",
    "hdbscan_pipe_trans = Pipeline([\n",
    "    (\"clusterer\", my_utils.Optimize_and_Compare_Hdbscan(hdbscan_params_trans)),\n",
    "])\n",
    "results_hdb_trans, best_estimator_hdb_trans, silhouette_train_hbd_trans, silhouette_test_hbd_trans = my_utils.calculate_silhouette(\n",
    "    pca_train_df_trans, \n",
    "pca_test_df_trans, hdbscan_pipe_trans)"
   ]
  },
  {
   "cell_type": "code",
   "execution_count": null,
   "id": "59bffc18-714b-44ab-9ef9-cc2c21ce8ee1",
   "metadata": {},
   "outputs": [],
   "source": [
    "kmeans_params = {\n",
    "    'n_clusters': list(range(1, 10)),\n",
    "    'init': ['random', 'k-means++'],\n",
    "    'n_init': [1, 5, 10],\n",
    "    'max_iter': [300],\n",
    "    'random_state': [0]\n",
    "}\n",
    "\n",
    "# Create a pipeline\n",
    "k_means_pipe_trans = Pipeline([\n",
    "    (\"clusterer\", my_utils.OptimizeAndCompareKMeans(kmeans_params)),\n",
    "])\n",
    "\n",
    "results_kmeans, best_estimator_kmeans, silhouette_train_kmeans, silhouette_test_kmeans = \\\n",
    "    my_utils.calculate_silhouette(\n",
    "        pca_train_df_trans, \n",
    "        pca_test_df_trans, \n",
    "        k_means_pipe_trans, kmeans = True\n",
    "    )                                                                                                                     k_means_pipe, kmeans = True)"
   ]
  },
  {
   "cell_type": "code",
   "execution_count": null,
   "id": "55abaccb-f7e1-4d58-aedd-4beea365942d",
   "metadata": {
    "tags": []
   },
   "outputs": [],
   "source": [
    "best_estimator_trans = best_estimator_kmeans"
   ]
  },
  {
   "cell_type": "code",
   "execution_count": null,
   "id": "cdaec46e-a9ad-4a98-9238-d3b10d9f332f",
   "metadata": {
    "tags": []
   },
   "outputs": [],
   "source": [
    "scoring_df_transposed= my_utils.create_labels_and_scoring_df(\n",
    "    best_estimator_trans, \n",
    "    '../Output/best_estimator_untransposed_data_label_and_score_trans', \n",
    "    pca_train_df_trans, \n",
    "    pca_test_df_trans\n",
    ")"
   ]
  },
  {
   "cell_type": "code",
   "execution_count": null,
   "id": "1a185488-6272-471b-b856-3d3f154c2fe8",
   "metadata": {
    "tags": []
   },
   "outputs": [],
   "source": [
    "# Use your best_estimator to predict labels for the data\n",
    "cluster_labels_trans = best_estimator_trans.predict(pca_train_df_trans)\n",
    "\n",
    "# Add the cluster_labels to the training data DataFrame\n",
    "pca_train_df_trans['Cluster'] = cluster_labels_trans\n",
    "\n",
    "# Create a scatter plot to visualize the clustering\n",
    "plt.figure(figsize=(8, 6))\n",
    "sns.scatterplot(x='PC1', y='PC2', data=pca_train_df_trans, hue='Cluster', palette='viridis', s=50, alpha=0.7)\n",
    "\n",
    "# Add labels and title\n",
    "plt.xlabel('PC1')\n",
    "plt.ylabel('PC2')\n",
    "plt.title('Clustering Visualization of Transposed Data')\n",
    "\n",
    "# Show the plot\n",
    "plt.grid(True)\n",
    "plt.legend(title='Cluster', loc='upper right')\n",
    "plt.show()\n",
    "plt.savefig(f'../Output/Clustering_on_transposed_data.pdf')"
   ]
  }
 ],
 "metadata": {
  "kernelspec": {
   "display_name": "Python 3 (ipykernel)",
   "language": "python",
   "name": "python3"
  },
  "language_info": {
   "codemirror_mode": {
    "name": "ipython",
    "version": 3
   },
   "file_extension": ".py",
   "mimetype": "text/x-python",
   "name": "python",
   "nbconvert_exporter": "python",
   "pygments_lexer": "ipython3",
   "version": "3.11.4"
  }
 },
 "nbformat": 4,
 "nbformat_minor": 5
}
