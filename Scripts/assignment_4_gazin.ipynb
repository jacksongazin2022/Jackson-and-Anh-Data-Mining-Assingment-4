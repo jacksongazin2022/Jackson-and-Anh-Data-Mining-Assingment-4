{
 "cells": [
  {
   "cell_type": "markdown",
   "id": "d20ad65b",
   "metadata": {},
   "source": [
    "# Get data"
   ]
  },
  {
   "cell_type": "code",
   "execution_count": 1,
   "id": "afe8befa-30dd-4af5-995f-a8309cdfe639",
   "metadata": {
    "tags": []
   },
   "outputs": [],
   "source": [
    "import os\n",
    "import pandas as pd\n",
    "from sklearn.pipeline import Pipeline\n",
    "from sklearn.preprocessing import StandardScaler, MinMaxScaler, normalize\n",
    "from sklearn.decomposition import TruncatedSVD\n",
    "import numpy as np\n",
    "import my_utils\n",
    "import gzip\n",
    "import shutil\n",
    "from sklearn.pipeline import Pipeline"
   ]
  },
  {
   "cell_type": "code",
   "execution_count": null,
   "id": "46fd8c97-6e72-47c6-bee6-2a807d532e02",
   "metadata": {
    "tags": []
   },
   "outputs": [],
   "source": [
    "input_gz_file = '../Output/GSE185948_count_RNA.rds.gz'\n",
    "output_rds_file = '../Output/data_for_r.rds'\n",
    "\n",
    "# Open the compressed file and extract it\n",
    "with gzip.open(input_gz_file, 'rb') as f_in, open(output_rds_file, 'wb') as f_out:\n",
    "    shutil.copyfileobj(f_in, f_out)\n",
    "\n",
    "print(f'{input_gz_file} has been successfully uncompressed to {output_rds_file}.')"
   ]
  },
  {
   "cell_type": "code",
   "execution_count": null,
   "id": "77773596-d217-481d-90eb-cff1fe9563ac",
   "metadata": {
    "tags": []
   },
   "outputs": [],
   "source": [
    "input_gz_file = '../Output/GSE185948_metadata_RNA.csv.gz'\n",
    "output_csv_file = '../Output/uncompressed_metadata.csv'\n",
    "\n",
    "# Open the compressed file and extract it\n",
    "with gzip.open(input_gz_file, 'rb') as f_in, open(output_csv_file, 'wb') as f_out:\n",
    "    shutil.copyfileobj(f_in, f_out)\n",
    "\n",
    "print(f'{input_gz_file} has been successfully uncompressed to {output_csv_file}.')"
   ]
  },
  {
   "cell_type": "code",
   "execution_count": null,
   "id": "5bd10524-abd6-4eda-8ea8-9d53cff8d84c",
   "metadata": {
    "tags": []
   },
   "outputs": [],
   "source": [
    "output_path = '../Output'\n",
    "if not os.path.exists(output_path):\n",
    "    os.makedirs(output_path)"
   ]
  },
  {
   "cell_type": "code",
   "execution_count": 4,
   "id": "d033d150-def7-422c-b556-cfadb89c76db",
   "metadata": {
    "tags": []
   },
   "outputs": [],
   "source": [
    "metadata = pd.read_csv('../Output/uncompressed_metadata.csv')"
   ]
  },
  {
   "cell_type": "markdown",
   "id": "db12762e-d950-4f0d-88ae-cd32ec8e43ca",
   "metadata": {},
   "source": [
    "R code below"
   ]
  },
  {
   "cell_type": "raw",
   "id": "ea593dcf-f6ef-476e-97fa-5527db6fb58a",
   "metadata": {},
   "source": [
    "filename = file.choose()\n",
    "data = readRDS(filename)\n",
    "data\n",
    "sparse_matrix <- data\n",
    "\n",
    "num_columns <- ncol(sparse_matrix)\n",
    "# Get the nonzero elements and their indices\n",
    "nonzero_elements <- sparse_matrix@x\n",
    "row_indices <- sparse_matrix@i\n",
    "col_indices <- rep(1:num_columns, times = diff(sparse_matrix@p))  # Use sparse_matrix@j for column indices\n",
    "\n",
    "\n",
    "nonzero_data <- data.frame(row_indices, col_indices, nonzero_elements)\n",
    "\n",
    "col_names <- data.frame(sparse_matrix@Dimnames[2])\n",
    "nrow(col_names)\n",
    "row_names <- data.frame((sparse_matrix@Dimnames[1]))\n",
    "\n",
    "write.csv(row_names, 'row_names.csv')\n",
    "write.csv(col_names, 'col_names.csv')\n",
    "\n",
    "\n",
    "# Save the i, j information to a Parquet file\n",
    "write_parquet(nonzero_data, \"non_zero.parquet\")"
   ]
  },
  {
   "cell_type": "markdown",
   "id": "e6c87489-add6-4698-bc23-884af1dcaf8c",
   "metadata": {},
   "source": [
    "## Data Preparation"
   ]
  },
  {
   "cell_type": "code",
   "execution_count": null,
   "id": "52d881cd-1a18-43f9-84d1-ff85e77ef9db",
   "metadata": {
    "tags": []
   },
   "outputs": [],
   "source": [
    "pip install --upgrade --no-deps memory_profiler"
   ]
  },
  {
   "cell_type": "code",
   "execution_count": null,
   "id": "32d363c1-327c-4470-b520-af645a113edf",
   "metadata": {
    "tags": []
   },
   "outputs": [],
   "source": [
    "data_path = '../Output/non_zero.parquet'\n",
    "row_info_path = '../Output/row_names.csv'\n",
    "column_info_path = '../Output/col_names.csv'\n",
    "#sparse_matrix = coo_matrix((data['nonzero_elements'], (data['row_indices'], data['col_indices'])))\n",
    "sparse_matrix, column_names, row_names, row_indices= my_utils.load_data(data_path, row_info_path, column_info_path)"
   ]
  },
  {
   "cell_type": "code",
   "execution_count": null,
   "id": "5edb6927-abb7-4961-a2b4-3447d71d8234",
   "metadata": {
    "tags": []
   },
   "outputs": [],
   "source": [
    "split_pipeline = Pipeline([\n",
    "    ('splitter', my_utils.SparseTrainTestSplit(test_size=0.2, random_state=42, row_indices = row_indices)),\n",
    "    # Add other steps in the pipeline as needed\n",
    "])\n",
    "\n",
    "# Fit and transform the pipeline\n",
    "sparse_train, sparse_test, train_indices, test_indices = split_pipeline.fit_transform(sparse_matrix)\n"
   ]
  },
  {
   "cell_type": "code",
   "execution_count": null,
   "id": "91f17eec-f7e8-4790-b8f1-bd978367b2e5",
   "metadata": {
    "tags": []
   },
   "outputs": [],
   "source": [
    "sparse_train"
   ]
  },
  {
   "cell_type": "code",
   "execution_count": null,
   "id": "fdfeb12c-ab56-424c-a09a-62dd30fc2494",
   "metadata": {
    "tags": []
   },
   "outputs": [],
   "source": [
    "clean_and_pca_pipeline = Pipeline([\n",
    "    ('cleaner', my_utils.DataClean()),  # CleanData is performed first\n",
    "    ('scaler', StandardScaler(with_mean=False)),\n",
    "    ('pca', TruncatedSVD(n_components=2))\n",
    "])\n",
    "\n",
    "# Fit the pipeline to training\n",
    "clean_and_pca_pipeline.fit(sparse_train)\n",
    "# Transform the training data\n",
    "pca_sparse_train = clean_and_pca_pipeline.transform(sparse_train)\n",
    "\n",
    "pca_sparse_test = clean_and_pca_pipeline.transform(sparse_test)"
   ]
  },
  {
   "cell_type": "code",
   "execution_count": null,
   "id": "8abcfad5-2055-4bd5-ac33-6cda5241999f",
   "metadata": {
    "tags": []
   },
   "outputs": [],
   "source": [
    "reindexer = my_utils.Reindex(columns=[\"PC1\", \"PC2\"], names=row_names, output_folder=\"../Output\")\n",
    "train_pca_df = reindexer.transform(pca_sparse_train, train_indices, \"train\")\n",
    "test_pca_df = reindexer.transform(pca_sparse_test, test_indices, \"test\")"
   ]
  },
  {
   "cell_type": "code",
   "execution_count": null,
   "id": "c6ce4aee-7198-440b-90db-f654e038c82f",
   "metadata": {
    "tags": []
   },
   "outputs": [],
   "source": [
    "eda_pca = my_utils.DataEDAPCA(columns=[\"PC1\", \"PC2\"], trans=False, graphs=True)\n",
    "pca_train_df, metadata_empty, outlier_df = eda_pca.fit_transform(train_pca_df)"
   ]
  },
  {
   "cell_type": "markdown",
   "id": "a732968b-22a1-4c8a-9fab-057d6c4742b7",
   "metadata": {},
   "source": [
    "## Clustering on the Train Data"
   ]
  },
  {
   "cell_type": "code",
   "execution_count": null,
   "id": "39b0fc11-1062-4743-8fec-51d9c7c635bf",
   "metadata": {
    "tags": []
   },
   "outputs": [],
   "source": [
    "pca_train_df = pd.read_csv('../Output/pca_train_df_without_outliers.csv', index_col = 0)\n",
    "pca_test_df =  pd.read_csv('../Output/pca_test_df.csv', index_col=0)"
   ]
  },
  {
   "cell_type": "code",
   "execution_count": null,
   "id": "1e768185-a84a-4629-a547-f6ade2bfc855",
   "metadata": {
    "tags": []
   },
   "outputs": [],
   "source": [
    "import time\n",
    "from sklearn.metrics import silhouette_score\n",
    "\n",
    "# Start timing\n",
    "start_time = time.time()\n",
    "\n",
    "# Your existing code for HDBSCAN clustering\n",
    "hdbscan_params = {\n",
    "    'min_samples': [10, 30, 50, 60, 100],\n",
    "    'min_cluster_size': [100, 200, 300, 400, 500, 600],\n",
    "    'cluster_selection_method': ['eom', 'leaf'],\n",
    "    'metric': ['euclidean', 'manhattan']\n",
    "}\n",
    "# Create a pipeline\n",
    "hdbscan_pipe = Pipeline([\n",
    "    (\"clusterer\", my_utils.Optimize_and_Compare_Hdbscan(hdbscan_params)),\n",
    "])\n",
    "\n",
    "results_hbd = hdbscan_pipe.fit(pca_train_df)\n",
    "best_estimator_hbd = results_hbd.named_steps['clusterer'].best_estimator\n",
    "\n",
    "try:\n",
    "    # Calculate silhouette score for test data\n",
    "    silhouette_test_hbd = silhouette_score(pca_test_df, best_estimator_hbd.fit_predict(pca_test_df))\n",
    "    print(f'Silhouette Score on test data: {silhouette_test_hbd}')\n",
    "except ValueError as e:\n",
    "    print(\"Only one cluster for my test data set. HDBSCAN does not work well for this data set\")\n",
    "end_time = time.time()\n",
    "elapsed_time = end_time - start_time\n",
    "silhouette_train_hbd = silhouette_score(pca_train_df, best_estimator_hbd.labels_)\n",
    "print(f'Silhouette Score on training data: {silhouette_train_hbd}')\n",
    "print(f'Time taken: {elapsed_time / 60:.2f} minutes')"
   ]
  },
  {
   "cell_type": "code",
   "execution_count": null,
   "id": "8177b713-72e7-4faf-aed1-fa5b297c6519",
   "metadata": {
    "tags": []
   },
   "outputs": [],
   "source": [
    "list_predictions = best_estimator_hbd.fit_predict(pca_test_df)"
   ]
  },
  {
   "cell_type": "code",
   "execution_count": null,
   "id": "1a9e3975-d4e6-4b4a-b29a-4b0c657e661e",
   "metadata": {
    "tags": []
   },
   "outputs": [],
   "source": [
    "import time\n",
    "# Start timing\n",
    "start_time = time.time()\n",
    "kmeans_params = {\n",
    "    'n_clusters': list(range(1, 10)),\n",
    "    'init': ['random', 'k-means++'],\n",
    "    'n_init': [1, 5, 10],\n",
    "    'max_iter': [300],\n",
    "    'random_state': [0]\n",
    "}\n",
    "\n",
    "# Create a pipeline\n",
    "k_means_pipe = Pipeline([\n",
    "    (\"clusterer\", my_utils.OptimizeAndCompareKMeans(kmeans_params)),\n",
    "])\n",
    "\n",
    "results = k_means_pipe.fit(pca_train_df)\n",
    "best_estimator = results.named_steps['clusterer'].best_estimator\n",
    "predictions_test = best_estimator.predict(pca_test_df)\n",
    "\n",
    "from sklearn.metrics import silhouette_score\n",
    "\n",
    "# Assuming you have already fitted the pipeline and obtained the best_estimator\n",
    "\n",
    "# For training data\n",
    "silhouette_train = silhouette_score(pca_train_df, best_estimator.labels_)\n",
    "\n",
    "# For test data\n",
    "silhouette_test = silhouette_score(pca_test_df, best_estimator.predict(pca_test_df))\n",
    "\n",
    "# Stop timing\n",
    "end_time = time.time()\n",
    "elapsed_time = end_time - start_time\n",
    "\n",
    "print(f'Silhouette Score on training data: {silhouette_train}')\n",
    "print(f'Silhouette Score on test data: {silhouette_test}')\n",
    "print(f'Time taken: {elapsed_time / 60:.2f} minutes')"
   ]
  },
  {
   "cell_type": "markdown",
   "id": "27927a6a-82fa-41d8-ab50-3ebc71df5a65",
   "metadata": {},
   "source": [
    "I will use the Kmeans as my best estimator."
   ]
  },
  {
   "cell_type": "code",
   "execution_count": null,
   "id": "0f297064-e527-4a82-b833-83fbc13e88e8",
   "metadata": {},
   "outputs": [],
   "source": [
    "scoring_df_untransposed = my_utils.create_labels_and_scoring_df(best_estimator, '../Output/best_estimator_untransposed_data_label_and_score', pca_train_df, pca_test_df)"
   ]
  },
  {
   "cell_type": "code",
   "execution_count": null,
   "id": "50e65cd3-c533-4b64-ac7a-fe142b255a1a",
   "metadata": {
    "tags": []
   },
   "outputs": [],
   "source": [
    "# Use your best_estimator to predict labels for the data\n",
    "cluster_labels = best_estimator.predict(pca_train_df)\n",
    "\n",
    "# Add the cluster_labels to the training data DataFrame\n",
    "pca_train_df['Cluster'] = cluster_labels\n",
    "\n",
    "# Create a scatter plot to visualize the clustering\n",
    "plt.figure(figsize=(8, 6))\n",
    "sns.scatterplot(x='PC1', y='PC2', data=pca_train_df, hue='Cluster', palette='viridis', s=50, alpha=0.7)\n",
    "\n",
    "# Add labels and title\n",
    "plt.xlabel('PC1')\n",
    "plt.ylabel('PC2')\n",
    "plt.title('Clustering Visualization')\n",
    "\n",
    "# Show the plot\n",
    "plt.grid(True)\n",
    "plt.legend(title='Cluster', loc='upper right')\n",
    "plt.show()"
   ]
  },
  {
   "cell_type": "markdown",
   "id": "6e22a4c4-a081-4085-92c8-e0c7b13a00ce",
   "metadata": {},
   "source": [
    "https://towardsdatascience.com/tuning-with-hdbscan-149865ac2970"
   ]
  },
  {
   "cell_type": "markdown",
   "id": "0076af96-9d6f-4f0e-afa9-383cd9a3ea03",
   "metadata": {},
   "source": [
    "Things to consider\n",
    "\n",
    "\n",
    "1) Get the clustering to work in a pipeline\n",
    "2) Are these ok default parameters\n",
    "3) What to do with the test data\n",
    "4) Should we be using silhoute on grid search or should i be optimizaing it differently\n",
    "5) Are we normalizing it the right way? Since normalize is working along rows is this dealing with out of domain sampels? Just used standard scalar because no normalizers could work and some of them did along rows\n",
    "6) Make it so it put things in folders\n",
    "7) Quality check NAS? How do to this with a sparse matrix\n",
    "8) Do soemthing like she did in notebook 3 to label the data set\n",
    "9) Naive classifier and base? \n",
    "10) Would k-means be base what is naive?\n"
   ]
  },
  {
   "cell_type": "markdown",
   "id": "3519da77-d027-45c0-a89a-fe8ea229874f",
   "metadata": {},
   "source": [
    "Transposed Data"
   ]
  },
  {
   "cell_type": "markdown",
   "id": "2300a8d0-76ef-46dd-8cc5-472d81e98d72",
   "metadata": {},
   "source": [
    "Task 2"
   ]
  },
  {
   "cell_type": "code",
   "execution_count": 2,
   "id": "4ccb77b3-058c-42e7-9db5-895c2efed4d0",
   "metadata": {
    "tags": []
   },
   "outputs": [
    {
     "name": "stdout",
     "output_type": "stream",
     "text": [
      "Returning Transposed matrix, row_names of the transposed matrix, col_names of the transposed matrix, and row_indices of transposed matrix\n"
     ]
    }
   ],
   "source": [
    "data_path = '../Output/non_zero.parquet'\n",
    "row_info_path = '../Output/row_names.csv'\n",
    "column_info_path = '../Output/col_names.csv'\n",
    "#sparse_matrix = coo_matrix((data['nonzero_elements'], (data['row_indices'], data['col_indices'])))\n",
    "sparse_matrix_trans, row_names_trans, col_names_trans, row_indices_trans= my_utils.load_data(data_path, row_info_path, column_info_path, transpose = True)"
   ]
  },
  {
   "cell_type": "code",
   "execution_count": 3,
   "id": "c7b8e4aa-3f31-4462-947a-7094119825ac",
   "metadata": {
    "tags": []
   },
   "outputs": [],
   "source": [
    "split_pipeline_trans = Pipeline([\n",
    "    ('splitter', my_utils.SparseTrainTestSplit(\n",
    "        test_size=0.2,\n",
    "        random_state=42,\n",
    "        row_indices=row_indices_trans\n",
    "    )),\n",
    "    # Add other steps in the pipeline as needed\n",
    "])\n",
    "\n",
    "# Fit and transform the pipeline\n",
    "(\n",
    "    sparse_train_trans,\n",
    "    sparse_test_trans,\n",
    "    train_indices_trans,\n",
    "    test_indices_trans\n",
    ") = split_pipeline_trans.fit_transform(sparse_matrix_trans)"
   ]
  },
  {
   "cell_type": "markdown",
   "id": "67a9de50-8e45-497b-a351-1248126e97a1",
   "metadata": {},
   "source": [
    "## Demographic Cleaning "
   ]
  },
  {
   "cell_type": "code",
   "execution_count": 5,
   "id": "348c3313-4b6d-4f76-a16b-8636ac15da1d",
   "metadata": {
    "tags": []
   },
   "outputs": [
    {
     "data": {
      "text/plain": [
       "PKD2        0.106241\n",
       "PKD6        0.104167\n",
       "control4    0.099338\n",
       "control2    0.093009\n",
       "PKD1        0.090575\n",
       "PKD3        0.088687\n",
       "PKD4        0.088112\n",
       "PKD5        0.077879\n",
       "control5    0.075679\n",
       "control3    0.065193\n",
       "control1    0.062428\n",
       "PKD7        0.024428\n",
       "PKD8        0.024262\n",
       "Name: patient, dtype: float64"
      ]
     },
     "execution_count": 5,
     "metadata": {},
     "output_type": "execute_result"
    }
   ],
   "source": [
    "cell_count = metadata['patient'].value_counts(normalize=True)\n",
    "cell_count.columns = ['patient', 'percentage']\n",
    "cell_count\n",
    "## Information on how much each patients account for total cells"
   ]
  },
  {
   "cell_type": "code",
   "execution_count": 6,
   "id": "cd67df1a-7008-449d-abb8-179a562a3f0f",
   "metadata": {
    "tags": []
   },
   "outputs": [],
   "source": [
    "def get_training_meta_data(row_names_list, train_indices, metadata):\n",
    "    # Create a DataFrame from the row_names_list with the 'name' column\n",
    "    row_names_df = pd.DataFrame(row_names_list, columns=['name'])\n",
    "\n",
    "    # Subset the row_names_df using the train_indices\n",
    "    subset_row_names_df = row_names_df.loc[train_indices]\n",
    "\n",
    "    # Subset the metadata to include only rows with 'name' values from subset_row_names_df\n",
    "    subset_metadata = metadata[metadata['name'].isin(subset_row_names_df['name'])]\n",
    "\n",
    "    return subset_metadata\n",
    "\n",
    "# Example usage of the function\n",
    "subsetted_metadata = get_training_meta_data(row_names_trans, train_indices_trans, metadata)"
   ]
  },
  {
   "cell_type": "code",
   "execution_count": 7,
   "id": "9391656e-185e-4bb0-a9ef-94810b2d3c8d",
   "metadata": {
    "tags": []
   },
   "outputs": [
    {
     "name": "stderr",
     "output_type": "stream",
     "text": [
      "/var/folders/b0/vr7498696cv_y8s379054yf00000gn/T/ipykernel_16204/633631448.py:19: UserWarning: Boolean Series key will be reindexed to match DataFrame index.\n",
      "  sampled_rows = subsetted_metadata[subsetted_metadata['gender'] == group_name[0]][subsetted_metadata['disease'] == group_name[1]].sample(n=sample_size, random_state=42)\n",
      "/var/folders/b0/vr7498696cv_y8s379054yf00000gn/T/ipykernel_16204/633631448.py:22: FutureWarning: The frame.append method is deprecated and will be removed from pandas in a future version. Use pandas.concat instead.\n",
      "  even_distribution_sample = even_distribution_sample.append(sampled_rows)\n",
      "/var/folders/b0/vr7498696cv_y8s379054yf00000gn/T/ipykernel_16204/633631448.py:19: UserWarning: Boolean Series key will be reindexed to match DataFrame index.\n",
      "  sampled_rows = subsetted_metadata[subsetted_metadata['gender'] == group_name[0]][subsetted_metadata['disease'] == group_name[1]].sample(n=sample_size, random_state=42)\n",
      "/var/folders/b0/vr7498696cv_y8s379054yf00000gn/T/ipykernel_16204/633631448.py:22: FutureWarning: The frame.append method is deprecated and will be removed from pandas in a future version. Use pandas.concat instead.\n",
      "  even_distribution_sample = even_distribution_sample.append(sampled_rows)\n",
      "/var/folders/b0/vr7498696cv_y8s379054yf00000gn/T/ipykernel_16204/633631448.py:19: UserWarning: Boolean Series key will be reindexed to match DataFrame index.\n",
      "  sampled_rows = subsetted_metadata[subsetted_metadata['gender'] == group_name[0]][subsetted_metadata['disease'] == group_name[1]].sample(n=sample_size, random_state=42)\n",
      "/var/folders/b0/vr7498696cv_y8s379054yf00000gn/T/ipykernel_16204/633631448.py:22: FutureWarning: The frame.append method is deprecated and will be removed from pandas in a future version. Use pandas.concat instead.\n",
      "  even_distribution_sample = even_distribution_sample.append(sampled_rows)\n",
      "/var/folders/b0/vr7498696cv_y8s379054yf00000gn/T/ipykernel_16204/633631448.py:19: UserWarning: Boolean Series key will be reindexed to match DataFrame index.\n",
      "  sampled_rows = subsetted_metadata[subsetted_metadata['gender'] == group_name[0]][subsetted_metadata['disease'] == group_name[1]].sample(n=sample_size, random_state=42)\n",
      "/var/folders/b0/vr7498696cv_y8s379054yf00000gn/T/ipykernel_16204/633631448.py:22: FutureWarning: The frame.append method is deprecated and will be removed from pandas in a future version. Use pandas.concat instead.\n",
      "  even_distribution_sample = even_distribution_sample.append(sampled_rows)\n"
     ]
    }
   ],
   "source": [
    "import pandas as pd\n",
    "import numpy as np\n",
    "\n",
    "# Assuming you have the 'subsetted_metadata' DataFrame\n",
    "group_counts = subsetted_metadata.groupby(['gender', 'disease']).size().reset_index(name='count')\n",
    "\n",
    "# Calculate the minimum count\n",
    "min_count = group_counts['count'].min()\n",
    "\n",
    "# Create an empty DataFrame to store the even distribution sample\n",
    "even_distribution_sample = pd.DataFrame(columns=subsetted_metadata.columns)\n",
    "\n",
    "# Randomly sample rows for each group\n",
    "for group_name, group_data in group_counts.groupby(['gender', 'disease']):\n",
    "    group_size = group_data['count'].iloc[0]\n",
    "    sample_size = min(min_count, group_size)\n",
    "    \n",
    "    # Randomly sample rows for the current group\n",
    "    sampled_rows = subsetted_metadata[subsetted_metadata['gender'] == group_name[0]][subsetted_metadata['disease'] == group_name[1]].sample(n=sample_size, random_state=42)\n",
    "    \n",
    "    # Append the sampled rows to the even_distribution_sample DataFrame\n",
    "    even_distribution_sample = even_distribution_sample.append(sampled_rows)\n",
    "\n",
    "# Reset the index of the even_distribution_sample\n",
    "even_distribution_sample = even_distribution_sample.reset_index(drop=True)\n",
    "\n",
    "# Display the resulting DataFrame with an even distribution\n",
    "\n"
   ]
  },
  {
   "cell_type": "code",
   "execution_count": 8,
   "id": "9fe5c188-b7f7-4bd7-82f3-db30ff816d88",
   "metadata": {
    "tags": []
   },
   "outputs": [],
   "source": [
    "balanced_name_list = even_distribution_sample['name'].to_list()"
   ]
  },
  {
   "cell_type": "code",
   "execution_count": 43,
   "id": "3fef8a07-5e11-4f71-b077-bf06463c2159",
   "metadata": {
    "tags": []
   },
   "outputs": [
    {
     "data": {
      "text/html": [
       "<div>\n",
       "<style scoped>\n",
       "    .dataframe tbody tr th:only-of-type {\n",
       "        vertical-align: middle;\n",
       "    }\n",
       "\n",
       "    .dataframe tbody tr th {\n",
       "        vertical-align: top;\n",
       "    }\n",
       "\n",
       "    .dataframe thead th {\n",
       "        text-align: right;\n",
       "    }\n",
       "</style>\n",
       "<table border=\"1\" class=\"dataframe\">\n",
       "  <thead>\n",
       "    <tr style=\"text-align: right;\">\n",
       "      <th></th>\n",
       "      <th>name</th>\n",
       "    </tr>\n",
       "  </thead>\n",
       "  <tbody>\n",
       "    <tr>\n",
       "      <th>47294</th>\n",
       "      <td>PKD_ACGTAACCACTGCACG-1_6</td>\n",
       "    </tr>\n",
       "    <tr>\n",
       "      <th>34455</th>\n",
       "      <td>PKD_GCTGCAGCATGTGCTA-1_4</td>\n",
       "    </tr>\n",
       "    <tr>\n",
       "      <th>12668</th>\n",
       "      <td>PKD_CATTGAGGTCCAACGC-1_2</td>\n",
       "    </tr>\n",
       "    <tr>\n",
       "      <th>75143</th>\n",
       "      <td>Cont_GTTACGACAGCTGGTC-1_2</td>\n",
       "    </tr>\n",
       "    <tr>\n",
       "      <th>87188</th>\n",
       "      <td>Cont_CAACAACAGTGGAATT-1_4</td>\n",
       "    </tr>\n",
       "    <tr>\n",
       "      <th>...</th>\n",
       "      <td>...</td>\n",
       "    </tr>\n",
       "    <tr>\n",
       "      <th>41090</th>\n",
       "      <td>PKD_CCATAAGCATCGGTTA-1_5</td>\n",
       "    </tr>\n",
       "    <tr>\n",
       "      <th>60263</th>\n",
       "      <td>PKD_CACTAAGAGAAACCCG-1_8</td>\n",
       "    </tr>\n",
       "    <tr>\n",
       "      <th>82386</th>\n",
       "      <td>Cont_GTAGAGGGTTTCACAG-1_3</td>\n",
       "    </tr>\n",
       "    <tr>\n",
       "      <th>6265</th>\n",
       "      <td>PKD_GTGTTAGCACGAAGAC-1_1</td>\n",
       "    </tr>\n",
       "    <tr>\n",
       "      <th>76820</th>\n",
       "      <td>Cont_TGATCAGGTGATTCTG-1_2</td>\n",
       "    </tr>\n",
       "  </tbody>\n",
       "</table>\n",
       "<p>46304 rows × 1 columns</p>\n",
       "</div>"
      ],
      "text/plain": [
       "                            name\n",
       "47294   PKD_ACGTAACCACTGCACG-1_6\n",
       "34455   PKD_GCTGCAGCATGTGCTA-1_4\n",
       "12668   PKD_CATTGAGGTCCAACGC-1_2\n",
       "75143  Cont_GTTACGACAGCTGGTC-1_2\n",
       "87188  Cont_CAACAACAGTGGAATT-1_4\n",
       "...                          ...\n",
       "41090   PKD_CCATAAGCATCGGTTA-1_5\n",
       "60263   PKD_CACTAAGAGAAACCCG-1_8\n",
       "82386  Cont_GTAGAGGGTTTCACAG-1_3\n",
       "6265    PKD_GTGTTAGCACGAAGAC-1_1\n",
       "76820  Cont_TGATCAGGTGATTCTG-1_2\n",
       "\n",
       "[46304 rows x 1 columns]"
      ]
     },
     "execution_count": 43,
     "metadata": {},
     "output_type": "execute_result"
    }
   ],
   "source": [
    "df_of_balanced_indices"
   ]
  },
  {
   "cell_type": "code",
   "execution_count": 35,
   "id": "4d5d35ed-070e-4e40-a56e-0f95b4de6ad9",
   "metadata": {
    "tags": []
   },
   "outputs": [
    {
     "data": {
      "text/plain": [
       "Int64Index([47294, 34455, 12668, 75143, 87188, 88489, 97095, 21165, 84510,\n",
       "            98871,\n",
       "            ...\n",
       "            53707, 83104, 64925, 59735,   769, 41090, 60263, 82386,  6265,\n",
       "            76820],\n",
       "           dtype='int64', length=46304)"
      ]
     },
     "execution_count": 35,
     "metadata": {},
     "output_type": "execute_result"
    }
   ],
   "source": [
    "df_of_balanced_indices.index"
   ]
  },
  {
   "cell_type": "code",
   "execution_count": 10,
   "id": "607881d2-4c63-44c7-9ca4-ec4f799f98c2",
   "metadata": {
    "tags": []
   },
   "outputs": [],
   "source": [
    "row_names_df = pd.DataFrame(row_names_trans, columns=['name'])\n",
    "subset_row_names_df = row_names_df.loc[train_indices_trans]"
   ]
  },
  {
   "cell_type": "code",
   "execution_count": 14,
   "id": "72221027-cf60-40e2-8dbe-de5b02896709",
   "metadata": {},
   "outputs": [],
   "source": [
    "df_of_balanced_indices = subset_row_names_df[subset_row_names_df['name'].isin(balanced_name_list)]"
   ]
  },
  {
   "cell_type": "code",
   "execution_count": 37,
   "id": "296c6faa-c0e5-4693-af48-3e03a1b2f140",
   "metadata": {
    "tags": []
   },
   "outputs": [
    {
     "data": {
      "text/plain": [
       "Int64Index([47294, 34455, 12668, 75143, 87188, 88489, 97095, 21165, 84510,\n",
       "            98871,\n",
       "            ...\n",
       "            53707, 83104, 64925, 59735,   769, 41090, 60263, 82386,  6265,\n",
       "            76820],\n",
       "           dtype='int64', length=46304)"
      ]
     },
     "execution_count": 37,
     "metadata": {},
     "output_type": "execute_result"
    }
   ],
   "source": [
    "min(df_of_balanced_indices.index)"
   ]
  },
  {
   "cell_type": "code",
   "execution_count": 41,
   "id": "c729e0d0-8d62-4bed-ac4f-97ae65f339ab",
   "metadata": {
    "tags": []
   },
   "outputs": [
    {
     "data": {
      "text/plain": [
       "102708"
      ]
     },
     "execution_count": 41,
     "metadata": {},
     "output_type": "execute_result"
    }
   ],
   "source": [
    "max(df_of_balanced_indices.index)"
   ]
  },
  {
   "cell_type": "code",
   "execution_count": 42,
   "id": "39834792-7250-4646-aca3-c7c5df0cefaf",
   "metadata": {
    "tags": []
   },
   "outputs": [
    {
     "data": {
      "text/plain": [
       "168492710"
      ]
     },
     "execution_count": 42,
     "metadata": {},
     "output_type": "execute_result"
    }
   ],
   "source": [
    "len(sparse_train_trans_csr.indices)"
   ]
  },
  {
   "cell_type": "code",
   "execution_count": 40,
   "id": "4192de44-c9e6-42f5-9d39-5b59b42663dd",
   "metadata": {
    "tags": []
   },
   "outputs": [
    {
     "data": {
      "text/plain": [
       "27969"
      ]
     },
     "execution_count": 40,
     "metadata": {},
     "output_type": "execute_result"
    }
   ],
   "source": [
    "max(sparse_train_trans_csr.indices)"
   ]
  },
  {
   "cell_type": "code",
   "execution_count": 36,
   "id": "2df3c19a-733a-4171-b30d-389742cb309a",
   "metadata": {
    "tags": []
   },
   "outputs": [
    {
     "ename": "IndexError",
     "evalue": "index (168492708) out of range",
     "output_type": "error",
     "traceback": [
      "\u001b[0;31m---------------------------------------------------------------------------\u001b[0m",
      "\u001b[0;31mIndexError\u001b[0m                                Traceback (most recent call last)",
      "Cell \u001b[0;32mIn[36], line 7\u001b[0m\n\u001b[1;32m      4\u001b[0m mask \u001b[38;5;241m=\u001b[39m np\u001b[38;5;241m.\u001b[39misin(sparse_train_trans_csr\u001b[38;5;241m.\u001b[39mindices, df_of_balanced_indices\u001b[38;5;241m.\u001b[39mindex)\n\u001b[1;32m      6\u001b[0m \u001b[38;5;66;03m# Use the mask to filter the rows\u001b[39;00m\n\u001b[0;32m----> 7\u001b[0m filtered_sparse_matrix \u001b[38;5;241m=\u001b[39m sparse_train_trans_csr[mask, :]\n",
      "File \u001b[0;32m~/anaconda3/lib/python3.11/site-packages/scipy/sparse/_index.py:47\u001b[0m, in \u001b[0;36mIndexMixin.__getitem__\u001b[0;34m(self, key)\u001b[0m\n\u001b[1;32m     46\u001b[0m \u001b[38;5;28;01mdef\u001b[39;00m \u001b[38;5;21m__getitem__\u001b[39m(\u001b[38;5;28mself\u001b[39m, key):\n\u001b[0;32m---> 47\u001b[0m     row, col \u001b[38;5;241m=\u001b[39m \u001b[38;5;28mself\u001b[39m\u001b[38;5;241m.\u001b[39m_validate_indices(key)\n\u001b[1;32m     49\u001b[0m     \u001b[38;5;66;03m# Dispatch to specialized methods.\u001b[39;00m\n\u001b[1;32m     50\u001b[0m     \u001b[38;5;28;01mif\u001b[39;00m \u001b[38;5;28misinstance\u001b[39m(row, INT_TYPES):\n",
      "File \u001b[0;32m~/anaconda3/lib/python3.11/site-packages/scipy/sparse/_index.py:159\u001b[0m, in \u001b[0;36mIndexMixin._validate_indices\u001b[0;34m(self, key)\u001b[0m\n\u001b[1;32m    157\u001b[0m         row \u001b[38;5;241m+\u001b[39m\u001b[38;5;241m=\u001b[39m M\n\u001b[1;32m    158\u001b[0m \u001b[38;5;28;01melif\u001b[39;00m \u001b[38;5;129;01mnot\u001b[39;00m \u001b[38;5;28misinstance\u001b[39m(row, \u001b[38;5;28mslice\u001b[39m):\n\u001b[0;32m--> 159\u001b[0m     row \u001b[38;5;241m=\u001b[39m \u001b[38;5;28mself\u001b[39m\u001b[38;5;241m.\u001b[39m_asindices(row, M)\n\u001b[1;32m    161\u001b[0m \u001b[38;5;28;01mif\u001b[39;00m isintlike(col):\n\u001b[1;32m    162\u001b[0m     col \u001b[38;5;241m=\u001b[39m \u001b[38;5;28mint\u001b[39m(col)\n",
      "File \u001b[0;32m~/anaconda3/lib/python3.11/site-packages/scipy/sparse/_index.py:191\u001b[0m, in \u001b[0;36mIndexMixin._asindices\u001b[0;34m(self, idx, length)\u001b[0m\n\u001b[1;32m    189\u001b[0m max_indx \u001b[38;5;241m=\u001b[39m x\u001b[38;5;241m.\u001b[39mmax()\n\u001b[1;32m    190\u001b[0m \u001b[38;5;28;01mif\u001b[39;00m max_indx \u001b[38;5;241m>\u001b[39m\u001b[38;5;241m=\u001b[39m length:\n\u001b[0;32m--> 191\u001b[0m     \u001b[38;5;28;01mraise\u001b[39;00m \u001b[38;5;167;01mIndexError\u001b[39;00m(\u001b[38;5;124m'\u001b[39m\u001b[38;5;124mindex (\u001b[39m\u001b[38;5;132;01m%d\u001b[39;00m\u001b[38;5;124m) out of range\u001b[39m\u001b[38;5;124m'\u001b[39m \u001b[38;5;241m%\u001b[39m max_indx)\n\u001b[1;32m    193\u001b[0m min_indx \u001b[38;5;241m=\u001b[39m x\u001b[38;5;241m.\u001b[39mmin()\n\u001b[1;32m    194\u001b[0m \u001b[38;5;28;01mif\u001b[39;00m min_indx \u001b[38;5;241m<\u001b[39m \u001b[38;5;241m0\u001b[39m:\n",
      "\u001b[0;31mIndexError\u001b[0m: index (168492708) out of range"
     ]
    }
   ],
   "source": [
    "indices_to_reduce = np.array(df_of_balanced_indices.index)\n",
    "\n",
    "# Create a boolean mask that selects rows based on the indices\n",
    "mask = np.isin(sparse_train_trans_csr.indices, df_of_balanced_indices.index)\n",
    "\n",
    "# Use the mask to filter the rows\n",
    "filtered_sparse_matrix = sparse_train_trans_csr[mask, :]"
   ]
  },
  {
   "cell_type": "code",
   "execution_count": 33,
   "id": "dea45e8d-514d-4c9e-954e-21a87821dcf8",
   "metadata": {
    "tags": []
   },
   "outputs": [
    {
     "ename": "IndexError",
     "evalue": "index (168492708) out of range",
     "output_type": "error",
     "traceback": [
      "\u001b[0;31m---------------------------------------------------------------------------\u001b[0m",
      "\u001b[0;31mIndexError\u001b[0m                                Traceback (most recent call last)",
      "Cell \u001b[0;32mIn[33], line 7\u001b[0m\n\u001b[1;32m      4\u001b[0m mask \u001b[38;5;241m=\u001b[39m np\u001b[38;5;241m.\u001b[39misin(sparse_train_trans_csr\u001b[38;5;241m.\u001b[39mindices, indices_to_reduce)\n\u001b[1;32m      6\u001b[0m \u001b[38;5;66;03m# Use the mask to select the valid rows\u001b[39;00m\n\u001b[0;32m----> 7\u001b[0m reduced_rows \u001b[38;5;241m=\u001b[39m sparse_train_trans_csr[mask]\n\u001b[1;32m      9\u001b[0m \u001b[38;5;66;03m# Ensure the result is a CSR matrix\u001b[39;00m\n\u001b[1;32m     10\u001b[0m reduced_sparse_matrix \u001b[38;5;241m=\u001b[39m reduced_rows\u001b[38;5;241m.\u001b[39mtocsr()\n",
      "File \u001b[0;32m~/anaconda3/lib/python3.11/site-packages/scipy/sparse/_index.py:47\u001b[0m, in \u001b[0;36mIndexMixin.__getitem__\u001b[0;34m(self, key)\u001b[0m\n\u001b[1;32m     46\u001b[0m \u001b[38;5;28;01mdef\u001b[39;00m \u001b[38;5;21m__getitem__\u001b[39m(\u001b[38;5;28mself\u001b[39m, key):\n\u001b[0;32m---> 47\u001b[0m     row, col \u001b[38;5;241m=\u001b[39m \u001b[38;5;28mself\u001b[39m\u001b[38;5;241m.\u001b[39m_validate_indices(key)\n\u001b[1;32m     49\u001b[0m     \u001b[38;5;66;03m# Dispatch to specialized methods.\u001b[39;00m\n\u001b[1;32m     50\u001b[0m     \u001b[38;5;28;01mif\u001b[39;00m \u001b[38;5;28misinstance\u001b[39m(row, INT_TYPES):\n",
      "File \u001b[0;32m~/anaconda3/lib/python3.11/site-packages/scipy/sparse/_index.py:159\u001b[0m, in \u001b[0;36mIndexMixin._validate_indices\u001b[0;34m(self, key)\u001b[0m\n\u001b[1;32m    157\u001b[0m         row \u001b[38;5;241m+\u001b[39m\u001b[38;5;241m=\u001b[39m M\n\u001b[1;32m    158\u001b[0m \u001b[38;5;28;01melif\u001b[39;00m \u001b[38;5;129;01mnot\u001b[39;00m \u001b[38;5;28misinstance\u001b[39m(row, \u001b[38;5;28mslice\u001b[39m):\n\u001b[0;32m--> 159\u001b[0m     row \u001b[38;5;241m=\u001b[39m \u001b[38;5;28mself\u001b[39m\u001b[38;5;241m.\u001b[39m_asindices(row, M)\n\u001b[1;32m    161\u001b[0m \u001b[38;5;28;01mif\u001b[39;00m isintlike(col):\n\u001b[1;32m    162\u001b[0m     col \u001b[38;5;241m=\u001b[39m \u001b[38;5;28mint\u001b[39m(col)\n",
      "File \u001b[0;32m~/anaconda3/lib/python3.11/site-packages/scipy/sparse/_index.py:191\u001b[0m, in \u001b[0;36mIndexMixin._asindices\u001b[0;34m(self, idx, length)\u001b[0m\n\u001b[1;32m    189\u001b[0m max_indx \u001b[38;5;241m=\u001b[39m x\u001b[38;5;241m.\u001b[39mmax()\n\u001b[1;32m    190\u001b[0m \u001b[38;5;28;01mif\u001b[39;00m max_indx \u001b[38;5;241m>\u001b[39m\u001b[38;5;241m=\u001b[39m length:\n\u001b[0;32m--> 191\u001b[0m     \u001b[38;5;28;01mraise\u001b[39;00m \u001b[38;5;167;01mIndexError\u001b[39;00m(\u001b[38;5;124m'\u001b[39m\u001b[38;5;124mindex (\u001b[39m\u001b[38;5;132;01m%d\u001b[39;00m\u001b[38;5;124m) out of range\u001b[39m\u001b[38;5;124m'\u001b[39m \u001b[38;5;241m%\u001b[39m max_indx)\n\u001b[1;32m    193\u001b[0m min_indx \u001b[38;5;241m=\u001b[39m x\u001b[38;5;241m.\u001b[39mmin()\n\u001b[1;32m    194\u001b[0m \u001b[38;5;28;01mif\u001b[39;00m min_indx \u001b[38;5;241m<\u001b[39m \u001b[38;5;241m0\u001b[39m:\n",
      "\u001b[0;31mIndexError\u001b[0m: index (168492708) out of range"
     ]
    }
   ],
   "source": [
    "indices_to_reduce = np.array(df_of_balanced_indices.index)\n",
    "\n",
    "# Create a boolean mask to select rows based on the indices\n",
    "mask = np.isin(sparse_train_trans_csr.indices, indices_to_reduce)\n",
    "\n",
    "# Use the mask to select the valid rows\n",
    "reduced_rows = sparse_train_trans_csr[mask]\n",
    "\n",
    "# Ensure the result is a CSR matrix\n",
    "reduced_sparse_matrix = reduced_rows.tocsr()\n"
   ]
  },
  {
   "cell_type": "code",
   "execution_count": null,
   "id": "19820f64-495a-495b-829b-127f1b814003",
   "metadata": {
    "tags": []
   },
   "outputs": [],
   "source": [
    "reduced_sparse_matrix"
   ]
  },
  {
   "cell_type": "code",
   "execution_count": 24,
   "id": "1ec2e0b1-9f02-4162-90df-e6bd8e7740db",
   "metadata": {
    "tags": []
   },
   "outputs": [],
   "source": [
    "mask = np.isin(set(sparse_train_trans_csr.indices), df_of_balanced_indices.index)"
   ]
  },
  {
   "cell_type": "code",
   "execution_count": 26,
   "id": "bae38a08-fd60-44dc-836d-6cda0e62f132",
   "metadata": {
    "tags": []
   },
   "outputs": [
    {
     "data": {
      "text/plain": [
       "{0,\n",
       " 1,\n",
       " 2,\n",
       " 3,\n",
       " 4,\n",
       " 5,\n",
       " 6,\n",
       " 7,\n",
       " 8,\n",
       " 9,\n",
       " 10,\n",
       " 11,\n",
       " 12,\n",
       " 13,\n",
       " 14,\n",
       " 15,\n",
       " 16,\n",
       " 17,\n",
       " 18,\n",
       " 19,\n",
       " 20,\n",
       " 21,\n",
       " 22,\n",
       " 23,\n",
       " 24,\n",
       " 25,\n",
       " 26,\n",
       " 27,\n",
       " 28,\n",
       " 29,\n",
       " 30,\n",
       " 31,\n",
       " 32,\n",
       " 33,\n",
       " 34,\n",
       " 35,\n",
       " 36,\n",
       " 37,\n",
       " 38,\n",
       " 39,\n",
       " 40,\n",
       " 41,\n",
       " 42,\n",
       " 43,\n",
       " 44,\n",
       " 45,\n",
       " 46,\n",
       " 47,\n",
       " 48,\n",
       " 49,\n",
       " 50,\n",
       " 51,\n",
       " 52,\n",
       " 53,\n",
       " 54,\n",
       " 55,\n",
       " 56,\n",
       " 57,\n",
       " 58,\n",
       " 59,\n",
       " 60,\n",
       " 61,\n",
       " 62,\n",
       " 63,\n",
       " 64,\n",
       " 65,\n",
       " 66,\n",
       " 67,\n",
       " 68,\n",
       " 69,\n",
       " 70,\n",
       " 71,\n",
       " 72,\n",
       " 73,\n",
       " 74,\n",
       " 75,\n",
       " 76,\n",
       " 77,\n",
       " 78,\n",
       " 79,\n",
       " 80,\n",
       " 81,\n",
       " 82,\n",
       " 83,\n",
       " 84,\n",
       " 85,\n",
       " 86,\n",
       " 87,\n",
       " 88,\n",
       " 89,\n",
       " 90,\n",
       " 91,\n",
       " 92,\n",
       " 93,\n",
       " 94,\n",
       " 95,\n",
       " 96,\n",
       " 97,\n",
       " 98,\n",
       " 99,\n",
       " 100,\n",
       " 101,\n",
       " 102,\n",
       " 103,\n",
       " 104,\n",
       " 105,\n",
       " 106,\n",
       " 107,\n",
       " 108,\n",
       " 109,\n",
       " 110,\n",
       " 111,\n",
       " 112,\n",
       " 113,\n",
       " 114,\n",
       " 115,\n",
       " 116,\n",
       " 117,\n",
       " 118,\n",
       " 119,\n",
       " 120,\n",
       " 121,\n",
       " 122,\n",
       " 123,\n",
       " 124,\n",
       " 125,\n",
       " 126,\n",
       " 127,\n",
       " 128,\n",
       " 129,\n",
       " 130,\n",
       " 131,\n",
       " 132,\n",
       " 133,\n",
       " 134,\n",
       " 135,\n",
       " 136,\n",
       " 137,\n",
       " 138,\n",
       " 139,\n",
       " 140,\n",
       " 141,\n",
       " 142,\n",
       " 143,\n",
       " 144,\n",
       " 145,\n",
       " 146,\n",
       " 147,\n",
       " 148,\n",
       " 149,\n",
       " 150,\n",
       " 151,\n",
       " 152,\n",
       " 153,\n",
       " 154,\n",
       " 155,\n",
       " 156,\n",
       " 157,\n",
       " 158,\n",
       " 159,\n",
       " 160,\n",
       " 161,\n",
       " 162,\n",
       " 163,\n",
       " 164,\n",
       " 165,\n",
       " 166,\n",
       " 167,\n",
       " 168,\n",
       " 169,\n",
       " 170,\n",
       " 171,\n",
       " 172,\n",
       " 173,\n",
       " 174,\n",
       " 175,\n",
       " 176,\n",
       " 177,\n",
       " 178,\n",
       " 179,\n",
       " 180,\n",
       " 181,\n",
       " 182,\n",
       " 183,\n",
       " 184,\n",
       " 185,\n",
       " 186,\n",
       " 187,\n",
       " 188,\n",
       " 189,\n",
       " 190,\n",
       " 191,\n",
       " 192,\n",
       " 193,\n",
       " 194,\n",
       " 195,\n",
       " 196,\n",
       " 197,\n",
       " 198,\n",
       " 199,\n",
       " 200,\n",
       " 201,\n",
       " 202,\n",
       " 203,\n",
       " 204,\n",
       " 205,\n",
       " 206,\n",
       " 207,\n",
       " 208,\n",
       " 209,\n",
       " 210,\n",
       " 211,\n",
       " 212,\n",
       " 213,\n",
       " 214,\n",
       " 215,\n",
       " 216,\n",
       " 217,\n",
       " 218,\n",
       " 219,\n",
       " 220,\n",
       " 221,\n",
       " 222,\n",
       " 223,\n",
       " 224,\n",
       " 225,\n",
       " 226,\n",
       " 227,\n",
       " 228,\n",
       " 229,\n",
       " 230,\n",
       " 231,\n",
       " 232,\n",
       " 233,\n",
       " 234,\n",
       " 235,\n",
       " 236,\n",
       " 237,\n",
       " 238,\n",
       " 239,\n",
       " 240,\n",
       " 241,\n",
       " 242,\n",
       " 243,\n",
       " 244,\n",
       " 245,\n",
       " 246,\n",
       " 247,\n",
       " 248,\n",
       " 249,\n",
       " 250,\n",
       " 251,\n",
       " 252,\n",
       " 253,\n",
       " 254,\n",
       " 255,\n",
       " 256,\n",
       " 257,\n",
       " 258,\n",
       " 259,\n",
       " 260,\n",
       " 261,\n",
       " 262,\n",
       " 263,\n",
       " 264,\n",
       " 265,\n",
       " 266,\n",
       " 267,\n",
       " 268,\n",
       " 269,\n",
       " 270,\n",
       " 271,\n",
       " 272,\n",
       " 273,\n",
       " 274,\n",
       " 275,\n",
       " 276,\n",
       " 277,\n",
       " 278,\n",
       " 279,\n",
       " 280,\n",
       " 281,\n",
       " 282,\n",
       " 283,\n",
       " 284,\n",
       " 285,\n",
       " 286,\n",
       " 287,\n",
       " 288,\n",
       " 289,\n",
       " 290,\n",
       " 291,\n",
       " 292,\n",
       " 293,\n",
       " 294,\n",
       " 295,\n",
       " 296,\n",
       " 297,\n",
       " 298,\n",
       " 299,\n",
       " 300,\n",
       " 301,\n",
       " 302,\n",
       " 303,\n",
       " 304,\n",
       " 305,\n",
       " 306,\n",
       " 307,\n",
       " 308,\n",
       " 309,\n",
       " 310,\n",
       " 311,\n",
       " 312,\n",
       " 313,\n",
       " 314,\n",
       " 315,\n",
       " 316,\n",
       " 317,\n",
       " 318,\n",
       " 319,\n",
       " 320,\n",
       " 321,\n",
       " 322,\n",
       " 323,\n",
       " 324,\n",
       " 325,\n",
       " 326,\n",
       " 327,\n",
       " 328,\n",
       " 329,\n",
       " 330,\n",
       " 331,\n",
       " 332,\n",
       " 333,\n",
       " 334,\n",
       " 335,\n",
       " 336,\n",
       " 337,\n",
       " 338,\n",
       " 339,\n",
       " 340,\n",
       " 341,\n",
       " 342,\n",
       " 343,\n",
       " 344,\n",
       " 345,\n",
       " 346,\n",
       " 347,\n",
       " 348,\n",
       " 349,\n",
       " 350,\n",
       " 351,\n",
       " 352,\n",
       " 353,\n",
       " 354,\n",
       " 355,\n",
       " 356,\n",
       " 357,\n",
       " 358,\n",
       " 359,\n",
       " 360,\n",
       " 361,\n",
       " 362,\n",
       " 363,\n",
       " 364,\n",
       " 365,\n",
       " 366,\n",
       " 367,\n",
       " 368,\n",
       " 369,\n",
       " 370,\n",
       " 371,\n",
       " 372,\n",
       " 373,\n",
       " 374,\n",
       " 375,\n",
       " 376,\n",
       " 377,\n",
       " 378,\n",
       " 379,\n",
       " 380,\n",
       " 381,\n",
       " 382,\n",
       " 383,\n",
       " 384,\n",
       " 385,\n",
       " 386,\n",
       " 387,\n",
       " 388,\n",
       " 389,\n",
       " 390,\n",
       " 391,\n",
       " 392,\n",
       " 393,\n",
       " 394,\n",
       " 395,\n",
       " 396,\n",
       " 397,\n",
       " 398,\n",
       " 399,\n",
       " 400,\n",
       " 401,\n",
       " 402,\n",
       " 403,\n",
       " 404,\n",
       " 405,\n",
       " 406,\n",
       " 407,\n",
       " 408,\n",
       " 409,\n",
       " 410,\n",
       " 411,\n",
       " 412,\n",
       " 413,\n",
       " 414,\n",
       " 415,\n",
       " 416,\n",
       " 417,\n",
       " 418,\n",
       " 419,\n",
       " 420,\n",
       " 421,\n",
       " 422,\n",
       " 423,\n",
       " 424,\n",
       " 425,\n",
       " 426,\n",
       " 427,\n",
       " 428,\n",
       " 429,\n",
       " 430,\n",
       " 431,\n",
       " 432,\n",
       " 433,\n",
       " 434,\n",
       " 435,\n",
       " 436,\n",
       " 437,\n",
       " 438,\n",
       " 439,\n",
       " 440,\n",
       " 441,\n",
       " 442,\n",
       " 443,\n",
       " 444,\n",
       " 445,\n",
       " 446,\n",
       " 447,\n",
       " 448,\n",
       " 449,\n",
       " 450,\n",
       " 451,\n",
       " 452,\n",
       " 453,\n",
       " 454,\n",
       " 455,\n",
       " 456,\n",
       " 457,\n",
       " 458,\n",
       " 459,\n",
       " 460,\n",
       " 461,\n",
       " 462,\n",
       " 463,\n",
       " 464,\n",
       " 465,\n",
       " 466,\n",
       " 467,\n",
       " 468,\n",
       " 469,\n",
       " 470,\n",
       " 471,\n",
       " 472,\n",
       " 473,\n",
       " 474,\n",
       " 475,\n",
       " 476,\n",
       " 477,\n",
       " 478,\n",
       " 479,\n",
       " 480,\n",
       " 481,\n",
       " 482,\n",
       " 483,\n",
       " 484,\n",
       " 485,\n",
       " 486,\n",
       " 487,\n",
       " 488,\n",
       " 489,\n",
       " 490,\n",
       " 491,\n",
       " 492,\n",
       " 493,\n",
       " 494,\n",
       " 495,\n",
       " 496,\n",
       " 497,\n",
       " 498,\n",
       " 499,\n",
       " 500,\n",
       " 501,\n",
       " 502,\n",
       " 503,\n",
       " 504,\n",
       " 505,\n",
       " 506,\n",
       " 507,\n",
       " 508,\n",
       " 509,\n",
       " 510,\n",
       " 511,\n",
       " 512,\n",
       " 513,\n",
       " 514,\n",
       " 515,\n",
       " 516,\n",
       " 517,\n",
       " 518,\n",
       " 519,\n",
       " 520,\n",
       " 521,\n",
       " 522,\n",
       " 523,\n",
       " 524,\n",
       " 525,\n",
       " 526,\n",
       " 527,\n",
       " 528,\n",
       " 529,\n",
       " 530,\n",
       " 531,\n",
       " 532,\n",
       " 533,\n",
       " 534,\n",
       " 535,\n",
       " 536,\n",
       " 537,\n",
       " 538,\n",
       " 539,\n",
       " 540,\n",
       " 541,\n",
       " 542,\n",
       " 543,\n",
       " 544,\n",
       " 545,\n",
       " 546,\n",
       " 547,\n",
       " 548,\n",
       " 549,\n",
       " 550,\n",
       " 551,\n",
       " 552,\n",
       " 553,\n",
       " 554,\n",
       " 555,\n",
       " 556,\n",
       " 557,\n",
       " 558,\n",
       " 559,\n",
       " 560,\n",
       " 561,\n",
       " 562,\n",
       " 563,\n",
       " 564,\n",
       " 565,\n",
       " 566,\n",
       " 567,\n",
       " 568,\n",
       " 569,\n",
       " 570,\n",
       " 571,\n",
       " 572,\n",
       " 573,\n",
       " 574,\n",
       " 575,\n",
       " 576,\n",
       " 577,\n",
       " 578,\n",
       " 579,\n",
       " 580,\n",
       " 581,\n",
       " 582,\n",
       " 583,\n",
       " 584,\n",
       " 585,\n",
       " 586,\n",
       " 587,\n",
       " 588,\n",
       " 589,\n",
       " 590,\n",
       " 591,\n",
       " 592,\n",
       " 593,\n",
       " 594,\n",
       " 595,\n",
       " 596,\n",
       " 597,\n",
       " 598,\n",
       " 599,\n",
       " 600,\n",
       " 601,\n",
       " 602,\n",
       " 603,\n",
       " 604,\n",
       " 605,\n",
       " 606,\n",
       " 607,\n",
       " 608,\n",
       " 609,\n",
       " 610,\n",
       " 611,\n",
       " 612,\n",
       " 613,\n",
       " 614,\n",
       " 615,\n",
       " 616,\n",
       " 617,\n",
       " 618,\n",
       " 619,\n",
       " 620,\n",
       " 621,\n",
       " 622,\n",
       " 623,\n",
       " 624,\n",
       " 625,\n",
       " 626,\n",
       " 627,\n",
       " 628,\n",
       " 629,\n",
       " 630,\n",
       " 631,\n",
       " 632,\n",
       " 633,\n",
       " 634,\n",
       " 635,\n",
       " 636,\n",
       " 637,\n",
       " 638,\n",
       " 639,\n",
       " 640,\n",
       " 641,\n",
       " 642,\n",
       " 643,\n",
       " 644,\n",
       " 645,\n",
       " 646,\n",
       " 647,\n",
       " 648,\n",
       " 649,\n",
       " 650,\n",
       " 651,\n",
       " 652,\n",
       " 653,\n",
       " 654,\n",
       " 655,\n",
       " 656,\n",
       " 657,\n",
       " 658,\n",
       " 659,\n",
       " 660,\n",
       " 661,\n",
       " 662,\n",
       " 663,\n",
       " 664,\n",
       " 665,\n",
       " 666,\n",
       " 667,\n",
       " 668,\n",
       " 669,\n",
       " 670,\n",
       " 671,\n",
       " 672,\n",
       " 673,\n",
       " 674,\n",
       " 675,\n",
       " 676,\n",
       " 677,\n",
       " 678,\n",
       " 679,\n",
       " 680,\n",
       " 681,\n",
       " 682,\n",
       " 683,\n",
       " 684,\n",
       " 685,\n",
       " 686,\n",
       " 687,\n",
       " 688,\n",
       " 689,\n",
       " 690,\n",
       " 691,\n",
       " 692,\n",
       " 693,\n",
       " 694,\n",
       " 695,\n",
       " 696,\n",
       " 697,\n",
       " 698,\n",
       " 699,\n",
       " 700,\n",
       " 701,\n",
       " 702,\n",
       " 703,\n",
       " 704,\n",
       " 705,\n",
       " 706,\n",
       " 707,\n",
       " 708,\n",
       " 709,\n",
       " 710,\n",
       " 711,\n",
       " 712,\n",
       " 713,\n",
       " 714,\n",
       " 715,\n",
       " 716,\n",
       " 717,\n",
       " 718,\n",
       " 719,\n",
       " 720,\n",
       " 721,\n",
       " 722,\n",
       " 723,\n",
       " 724,\n",
       " 725,\n",
       " 726,\n",
       " 727,\n",
       " 728,\n",
       " 729,\n",
       " 730,\n",
       " 731,\n",
       " 732,\n",
       " 733,\n",
       " 734,\n",
       " 735,\n",
       " 736,\n",
       " 737,\n",
       " 738,\n",
       " 739,\n",
       " 740,\n",
       " 741,\n",
       " 742,\n",
       " 743,\n",
       " 744,\n",
       " 745,\n",
       " 746,\n",
       " 747,\n",
       " 748,\n",
       " 749,\n",
       " 750,\n",
       " 751,\n",
       " 752,\n",
       " 753,\n",
       " 754,\n",
       " 755,\n",
       " 756,\n",
       " 757,\n",
       " 758,\n",
       " 759,\n",
       " 760,\n",
       " 761,\n",
       " 762,\n",
       " 763,\n",
       " 764,\n",
       " 765,\n",
       " 766,\n",
       " 767,\n",
       " 768,\n",
       " 769,\n",
       " 770,\n",
       " 771,\n",
       " 772,\n",
       " 773,\n",
       " 774,\n",
       " 775,\n",
       " 776,\n",
       " 777,\n",
       " 778,\n",
       " 779,\n",
       " 780,\n",
       " 781,\n",
       " 782,\n",
       " 783,\n",
       " 784,\n",
       " 785,\n",
       " 786,\n",
       " 787,\n",
       " 788,\n",
       " 789,\n",
       " 790,\n",
       " 791,\n",
       " 792,\n",
       " 793,\n",
       " 794,\n",
       " 795,\n",
       " 796,\n",
       " 797,\n",
       " 798,\n",
       " 799,\n",
       " 800,\n",
       " 801,\n",
       " 802,\n",
       " 803,\n",
       " 804,\n",
       " 805,\n",
       " 806,\n",
       " 807,\n",
       " 808,\n",
       " 809,\n",
       " 810,\n",
       " 811,\n",
       " 812,\n",
       " 813,\n",
       " 814,\n",
       " 815,\n",
       " 816,\n",
       " 817,\n",
       " 818,\n",
       " 819,\n",
       " 820,\n",
       " 821,\n",
       " 822,\n",
       " 823,\n",
       " 824,\n",
       " 825,\n",
       " 826,\n",
       " 827,\n",
       " 828,\n",
       " 829,\n",
       " 830,\n",
       " 831,\n",
       " 832,\n",
       " 833,\n",
       " 834,\n",
       " 835,\n",
       " 836,\n",
       " 837,\n",
       " 838,\n",
       " 839,\n",
       " 840,\n",
       " 841,\n",
       " 842,\n",
       " 843,\n",
       " 844,\n",
       " 845,\n",
       " 846,\n",
       " 847,\n",
       " 848,\n",
       " 849,\n",
       " 850,\n",
       " 851,\n",
       " 852,\n",
       " 853,\n",
       " 854,\n",
       " 855,\n",
       " 856,\n",
       " 857,\n",
       " 858,\n",
       " 859,\n",
       " 860,\n",
       " 861,\n",
       " 862,\n",
       " 863,\n",
       " 864,\n",
       " 865,\n",
       " 866,\n",
       " 867,\n",
       " 868,\n",
       " 869,\n",
       " 870,\n",
       " 871,\n",
       " 872,\n",
       " 873,\n",
       " 874,\n",
       " 875,\n",
       " 876,\n",
       " 877,\n",
       " 878,\n",
       " 879,\n",
       " 880,\n",
       " 881,\n",
       " 882,\n",
       " 883,\n",
       " 884,\n",
       " 885,\n",
       " 886,\n",
       " 887,\n",
       " 888,\n",
       " 889,\n",
       " 890,\n",
       " 891,\n",
       " 892,\n",
       " 893,\n",
       " 894,\n",
       " 895,\n",
       " 896,\n",
       " 897,\n",
       " 898,\n",
       " 899,\n",
       " 900,\n",
       " 901,\n",
       " 902,\n",
       " 903,\n",
       " 904,\n",
       " 905,\n",
       " 906,\n",
       " 907,\n",
       " 908,\n",
       " 909,\n",
       " 910,\n",
       " 911,\n",
       " 912,\n",
       " 913,\n",
       " 914,\n",
       " 915,\n",
       " 916,\n",
       " 917,\n",
       " 918,\n",
       " 919,\n",
       " 920,\n",
       " 921,\n",
       " 922,\n",
       " 923,\n",
       " 924,\n",
       " 925,\n",
       " 926,\n",
       " 927,\n",
       " 928,\n",
       " 929,\n",
       " 930,\n",
       " 931,\n",
       " 932,\n",
       " 933,\n",
       " 934,\n",
       " 935,\n",
       " 936,\n",
       " 937,\n",
       " 938,\n",
       " 939,\n",
       " 940,\n",
       " 941,\n",
       " 942,\n",
       " 943,\n",
       " 944,\n",
       " 945,\n",
       " 946,\n",
       " 947,\n",
       " 948,\n",
       " 949,\n",
       " 950,\n",
       " 951,\n",
       " 952,\n",
       " 953,\n",
       " 954,\n",
       " 955,\n",
       " 956,\n",
       " 957,\n",
       " 958,\n",
       " 959,\n",
       " 960,\n",
       " 961,\n",
       " 962,\n",
       " 963,\n",
       " 964,\n",
       " 965,\n",
       " 966,\n",
       " 967,\n",
       " 968,\n",
       " 969,\n",
       " 970,\n",
       " 971,\n",
       " 972,\n",
       " 973,\n",
       " 974,\n",
       " 975,\n",
       " 976,\n",
       " 977,\n",
       " 978,\n",
       " 979,\n",
       " 980,\n",
       " 981,\n",
       " 982,\n",
       " 983,\n",
       " 984,\n",
       " 985,\n",
       " 986,\n",
       " 987,\n",
       " 988,\n",
       " 989,\n",
       " 990,\n",
       " 991,\n",
       " 992,\n",
       " 993,\n",
       " 994,\n",
       " 995,\n",
       " 996,\n",
       " 997,\n",
       " 998,\n",
       " 999,\n",
       " ...}"
      ]
     },
     "execution_count": 26,
     "metadata": {},
     "output_type": "execute_result"
    }
   ],
   "source": []
  },
  {
   "cell_type": "code",
   "execution_count": null,
   "id": "55974a96-f89c-4bc9-a414-cbc67dbce6bc",
   "metadata": {},
   "outputs": [],
   "source": [
    "\n",
    "# Step 2: Create a boolean mask based on the indices in 'df_of_balanced_indices'\n",
    "mask = np.isin(sparse_train_trans_csr.indices, df_of_balanced_indices.index)\n",
    "\n",
    "# Step 3: Use the mask to subset the indices and data efficiently\n",
    "subset_indices = sparse_train_trans_csr.indices[mask]\n",
    "subset_data = sparse_train_trans_csr.data[mask]\n",
    "\n",
    "# Step 4: Create the final balanced sparse matrix\n",
    "sparse_train_trans_balanced = csr_matrix((subset_data, subset_indices, sparse_train_trans_csr.indptr), shape=sparse_train_trans_csr.shape)\n",
    "\n",
    "# Now, sparse_train_trans_balanced is your computationally efficient balanced csr_matrix\n"
   ]
  },
  {
   "cell_type": "code",
   "execution_count": 82,
   "id": "f95a68b9-2294-4704-8690-0a8ae4ef6807",
   "metadata": {
    "tags": []
   },
   "outputs": [
    {
     "data": {
      "text/plain": [
       "102708"
      ]
     },
     "execution_count": 82,
     "metadata": {},
     "output_type": "execute_result"
    }
   ],
   "source": [
    "np.max(df_of_balanced_incices.index)"
   ]
  },
  {
   "cell_type": "code",
   "execution_count": 79,
   "id": "3e598409-e2bf-4a7e-adec-916bd9eaccaa",
   "metadata": {
    "tags": []
   },
   "outputs": [
    {
     "data": {
      "text/plain": [
       "46304"
      ]
     },
     "execution_count": 79,
     "metadata": {},
     "output_type": "execute_result"
    }
   ],
   "source": [
    "len(df_of_balanced_incices.index)"
   ]
  },
  {
   "cell_type": "code",
   "execution_count": 64,
   "id": "e688ec1c-5850-4868-95f8-a845c196e125",
   "metadata": {
    "tags": []
   },
   "outputs": [
    {
     "data": {
      "text/plain": [
       "array([   14,    51,    55, ..., 25159, 25270, 25347], dtype=int32)"
      ]
     },
     "execution_count": 64,
     "metadata": {},
     "output_type": "execute_result"
    }
   ],
   "source": [
    "sparse_train_csr.indices"
   ]
  },
  {
   "cell_type": "code",
   "execution_count": 55,
   "id": "e79dff6a-3328-4c14-8933-accb2d30cbd7",
   "metadata": {
    "tags": []
   },
   "outputs": [
    {
     "data": {
      "text/plain": [
       "array([    0,     1,     2, ..., 82165, 82166, 82167])"
      ]
     },
     "execution_count": 55,
     "metadata": {},
     "output_type": "execute_result"
    }
   ],
   "source": [
    "np.arange(sparse_train_csr.shape[0])"
   ]
  },
  {
   "cell_type": "code",
   "execution_count": 36,
   "id": "6905c8c9-12f1-4303-b336-973a0f57b58f",
   "metadata": {
    "tags": []
   },
   "outputs": [
    {
     "data": {
      "text/plain": [
       "(33494, 27970)"
      ]
     },
     "execution_count": 36,
     "metadata": {},
     "output_type": "execute_result"
    }
   ],
   "source": [
    "subset_sparse_train_coo.shape"
   ]
  },
  {
   "cell_type": "code",
   "execution_count": 21,
   "id": "4a8e7028-f3f5-4c6a-afa8-b72d9e8d6401",
   "metadata": {
    "tags": []
   },
   "outputs": [],
   "source": [
    "clean_and_pca_pipeline_trans = Pipeline([\n",
    "    ('cleaner', my_utils.DataClean(trans=True)),  # Specify that the data is transposed\n",
    "    ('scaler', StandardScaler(with_mean=False)),\n",
    "    ('pca', TruncatedSVD(n_components=2))\n",
    "])\n",
    "# Fit the pipeline to training\n",
    "clean_and_pca_pipeline_trans.fit(sparse_train_trans)\n",
    "# Transform the training data\n",
    "pca_sparse_train_trans = clean_and_pca_pipeline_trans.transform(subset_sparse_train_coo)\n",
    "pca_sparse_test_trans= clean_and_pca_pipeline_trans.transform(sparse_test_trans)"
   ]
  },
  {
   "cell_type": "code",
   "execution_count": 26,
   "id": "16a81c27-d090-4658-aa8f-48ea82b39db9",
   "metadata": {
    "tags": []
   },
   "outputs": [
    {
     "data": {
      "text/plain": [
       "array([[ 42.94591579,  10.32372977],\n",
       "       [ 36.07949886,   6.48549349],\n",
       "       [ 90.31747513, -11.33265508],\n",
       "       ...,\n",
       "       [ 25.79444845,  -2.92319818],\n",
       "       [ 76.11579509, -17.21161261],\n",
       "       [ 14.27471937,  -1.68532862]])"
      ]
     },
     "execution_count": 26,
     "metadata": {},
     "output_type": "execute_result"
    }
   ],
   "source": [
    "pca_sparse_train_trans"
   ]
  },
  {
   "cell_type": "code",
   "execution_count": 25,
   "id": "3c7bc1af-6fe0-484d-b282-6b1ad7faba4d",
   "metadata": {
    "tags": []
   },
   "outputs": [
    {
     "ename": "ValueError",
     "evalue": "Shape of passed values is (33494, 2), indices imply (46304, 2)",
     "output_type": "error",
     "traceback": [
      "\u001b[0;31m---------------------------------------------------------------------------\u001b[0m",
      "\u001b[0;31mValueError\u001b[0m                                Traceback (most recent call last)",
      "Cell \u001b[0;32mIn[25], line 2\u001b[0m\n\u001b[1;32m      1\u001b[0m reindexer_trans \u001b[38;5;241m=\u001b[39m my_utils\u001b[38;5;241m.\u001b[39mReindex(columns\u001b[38;5;241m=\u001b[39m[\u001b[38;5;124m\"\u001b[39m\u001b[38;5;124mPC1\u001b[39m\u001b[38;5;124m\"\u001b[39m, \u001b[38;5;124m\"\u001b[39m\u001b[38;5;124mPC2\u001b[39m\u001b[38;5;124m\"\u001b[39m], names\u001b[38;5;241m=\u001b[39mrow_names_trans, output_folder\u001b[38;5;241m=\u001b[39m\u001b[38;5;124m\"\u001b[39m\u001b[38;5;124m../Output\u001b[39m\u001b[38;5;124m\"\u001b[39m, trans \u001b[38;5;241m=\u001b[39m \u001b[38;5;28;01mTrue\u001b[39;00m)\n\u001b[0;32m----> 2\u001b[0m train_pca_df_trans \u001b[38;5;241m=\u001b[39m reindexer_trans\u001b[38;5;241m.\u001b[39mtransform(pca_sparse_train_trans,  df_of_balanced_incices\u001b[38;5;241m.\u001b[39mindex, \u001b[38;5;124m\"\u001b[39m\u001b[38;5;124mtrain\u001b[39m\u001b[38;5;124m\"\u001b[39m)\n\u001b[1;32m      3\u001b[0m test_pca_df_trans \u001b[38;5;241m=\u001b[39m reindexer_trans\u001b[38;5;241m.\u001b[39mtransform(pca_sparse_test_trans, test_indices_trans, \u001b[38;5;124m\"\u001b[39m\u001b[38;5;124mtest\u001b[39m\u001b[38;5;124m\"\u001b[39m)\n",
      "File \u001b[0;32m~/Desktop/gradyear2/Data_Mining/Assignment4/Jackson-and-Anh-Data-Mining-Assingment-4/Scripts/my_utils.py:182\u001b[0m, in \u001b[0;36mReindex.transform\u001b[0;34m(self, X, indices, data_type)\u001b[0m\n\u001b[1;32m    180\u001b[0m \u001b[38;5;28;01mdef\u001b[39;00m \u001b[38;5;21mtransform\u001b[39m(\u001b[38;5;28mself\u001b[39m, X, indices, data_type):\n\u001b[1;32m    181\u001b[0m     row_names_indices \u001b[38;5;241m=\u001b[39m [\u001b[38;5;28mself\u001b[39m\u001b[38;5;241m.\u001b[39mnames[i] \u001b[38;5;28;01mfor\u001b[39;00m i \u001b[38;5;129;01min\u001b[39;00m indices]\n\u001b[0;32m--> 182\u001b[0m     df_with_indices \u001b[38;5;241m=\u001b[39m pd\u001b[38;5;241m.\u001b[39mDataFrame(X, columns\u001b[38;5;241m=\u001b[39m\u001b[38;5;28mself\u001b[39m\u001b[38;5;241m.\u001b[39mcolumns, index\u001b[38;5;241m=\u001b[39mrow_names_indices)\n\u001b[1;32m    184\u001b[0m     \u001b[38;5;66;03m# Generate the output filename based on the data type (e.g., \"train\" or \"test\")\u001b[39;00m\n\u001b[1;32m    185\u001b[0m     output_filename \u001b[38;5;241m=\u001b[39m \u001b[38;5;124mf\u001b[39m\u001b[38;5;124m\"\u001b[39m\u001b[38;5;124m../Output/pca_\u001b[39m\u001b[38;5;132;01m{\u001b[39;00mdata_type\u001b[38;5;132;01m}\u001b[39;00m\u001b[38;5;124m_df\u001b[39m\u001b[38;5;124m\"\u001b[39m\n",
      "File \u001b[0;32m~/anaconda3/lib/python3.11/site-packages/pandas/core/frame.py:722\u001b[0m, in \u001b[0;36mDataFrame.__init__\u001b[0;34m(self, data, index, columns, dtype, copy)\u001b[0m\n\u001b[1;32m    712\u001b[0m         mgr \u001b[38;5;241m=\u001b[39m dict_to_mgr(\n\u001b[1;32m    713\u001b[0m             \u001b[38;5;66;03m# error: Item \"ndarray\" of \"Union[ndarray, Series, Index]\" has no\u001b[39;00m\n\u001b[1;32m    714\u001b[0m             \u001b[38;5;66;03m# attribute \"name\"\u001b[39;00m\n\u001b[0;32m   (...)\u001b[0m\n\u001b[1;32m    719\u001b[0m             typ\u001b[38;5;241m=\u001b[39mmanager,\n\u001b[1;32m    720\u001b[0m         )\n\u001b[1;32m    721\u001b[0m     \u001b[38;5;28;01melse\u001b[39;00m:\n\u001b[0;32m--> 722\u001b[0m         mgr \u001b[38;5;241m=\u001b[39m ndarray_to_mgr(\n\u001b[1;32m    723\u001b[0m             data,\n\u001b[1;32m    724\u001b[0m             index,\n\u001b[1;32m    725\u001b[0m             columns,\n\u001b[1;32m    726\u001b[0m             dtype\u001b[38;5;241m=\u001b[39mdtype,\n\u001b[1;32m    727\u001b[0m             copy\u001b[38;5;241m=\u001b[39mcopy,\n\u001b[1;32m    728\u001b[0m             typ\u001b[38;5;241m=\u001b[39mmanager,\n\u001b[1;32m    729\u001b[0m         )\n\u001b[1;32m    731\u001b[0m \u001b[38;5;66;03m# For data is list-like, or Iterable (will consume into list)\u001b[39;00m\n\u001b[1;32m    732\u001b[0m \u001b[38;5;28;01melif\u001b[39;00m is_list_like(data):\n",
      "File \u001b[0;32m~/anaconda3/lib/python3.11/site-packages/pandas/core/internals/construction.py:349\u001b[0m, in \u001b[0;36mndarray_to_mgr\u001b[0;34m(values, index, columns, dtype, copy, typ)\u001b[0m\n\u001b[1;32m    344\u001b[0m \u001b[38;5;66;03m# _prep_ndarraylike ensures that values.ndim == 2 at this point\u001b[39;00m\n\u001b[1;32m    345\u001b[0m index, columns \u001b[38;5;241m=\u001b[39m _get_axes(\n\u001b[1;32m    346\u001b[0m     values\u001b[38;5;241m.\u001b[39mshape[\u001b[38;5;241m0\u001b[39m], values\u001b[38;5;241m.\u001b[39mshape[\u001b[38;5;241m1\u001b[39m], index\u001b[38;5;241m=\u001b[39mindex, columns\u001b[38;5;241m=\u001b[39mcolumns\n\u001b[1;32m    347\u001b[0m )\n\u001b[0;32m--> 349\u001b[0m _check_values_indices_shape_match(values, index, columns)\n\u001b[1;32m    351\u001b[0m \u001b[38;5;28;01mif\u001b[39;00m typ \u001b[38;5;241m==\u001b[39m \u001b[38;5;124m\"\u001b[39m\u001b[38;5;124marray\u001b[39m\u001b[38;5;124m\"\u001b[39m:\n\u001b[1;32m    353\u001b[0m     \u001b[38;5;28;01mif\u001b[39;00m \u001b[38;5;28missubclass\u001b[39m(values\u001b[38;5;241m.\u001b[39mdtype\u001b[38;5;241m.\u001b[39mtype, \u001b[38;5;28mstr\u001b[39m):\n",
      "File \u001b[0;32m~/anaconda3/lib/python3.11/site-packages/pandas/core/internals/construction.py:420\u001b[0m, in \u001b[0;36m_check_values_indices_shape_match\u001b[0;34m(values, index, columns)\u001b[0m\n\u001b[1;32m    418\u001b[0m passed \u001b[38;5;241m=\u001b[39m values\u001b[38;5;241m.\u001b[39mshape\n\u001b[1;32m    419\u001b[0m implied \u001b[38;5;241m=\u001b[39m (\u001b[38;5;28mlen\u001b[39m(index), \u001b[38;5;28mlen\u001b[39m(columns))\n\u001b[0;32m--> 420\u001b[0m \u001b[38;5;28;01mraise\u001b[39;00m \u001b[38;5;167;01mValueError\u001b[39;00m(\u001b[38;5;124mf\u001b[39m\u001b[38;5;124m\"\u001b[39m\u001b[38;5;124mShape of passed values is \u001b[39m\u001b[38;5;132;01m{\u001b[39;00mpassed\u001b[38;5;132;01m}\u001b[39;00m\u001b[38;5;124m, indices imply \u001b[39m\u001b[38;5;132;01m{\u001b[39;00mimplied\u001b[38;5;132;01m}\u001b[39;00m\u001b[38;5;124m\"\u001b[39m)\n",
      "\u001b[0;31mValueError\u001b[0m: Shape of passed values is (33494, 2), indices imply (46304, 2)"
     ]
    }
   ],
   "source": [
    "reindexer_trans = my_utils.Reindex(columns=[\"PC1\", \"PC2\"], names=row_names_trans, output_folder=\"../Output\", trans = True)\n",
    "train_pca_df_trans = reindexer_trans.transform(pca_sparse_train_trans,  df_of_balanced_incices.index, \"train\")\n",
    "test_pca_df_trans = reindexer_trans.transform(pca_sparse_test_trans, test_indices_trans, \"test\")"
   ]
  },
  {
   "cell_type": "code",
   "execution_count": null,
   "id": "5630326a-f418-4f58-bcec-4123d3586564",
   "metadata": {
    "tags": []
   },
   "outputs": [],
   "source": [
    "eda_pca = my_utils.DataEDAPCA(columns=[\"PC1\", \"PC2\"], trans = True, graphs = True)\n",
    "updated_train_pca_df_trans, metadata_removed, outlier_df_trans= eda_pca.fit_transform(train_pca_df_trans,another_df=  metadata)"
   ]
  },
  {
   "cell_type": "markdown",
   "id": "8e31160b-4bb3-4c60-ac8b-4bb9cb0e26af",
   "metadata": {},
   "source": [
    "Clustering on the Transposed Data"
   ]
  },
  {
   "cell_type": "code",
   "execution_count": null,
   "id": "96013592-4483-4776-9d6d-ce4ef1dec211",
   "metadata": {
    "tags": []
   },
   "outputs": [],
   "source": [
    "import gzip\n",
    "import os\n",
    "import shutil\n",
    "import pandas as pd\n",
    "from pyarrow.parquet import read_table\n",
    "from scipy.sparse import coo_matrix\n",
    "from sklearn.decomposition import PCA\n",
    "from sklearn.preprocessing import StandardScaler, MinMaxScaler, normalize\n",
    "from sklearn.pipeline import Pipeline\n",
    "import numpy as np\n",
    "from sklearn.preprocessing import StandardScaler, MaxAbsScaler\n",
    "from sklearn.decomposition import TruncatedSVD\n",
    "from sklearn.base import BaseEstimator, TransformerMixin\n",
    "from memory_profiler import memory_usage\n",
    "import matplotlib.pyplot as plt\n",
    "import seaborn as sns\n",
    "from kneed import KneeLocator\n",
    "from sklearn.datasets import make_blobs\n",
    "from sklearn.cluster import KMeans\n",
    "from sklearn.metrics import silhouette_score\n",
    "from sklearn.metrics import adjusted_rand_score\n",
    "from sklearn.model_selection import GridSearchCV\n",
    "from yellowbrick.cluster import KElbowVisualizer, SilhouetteVisualizer\n",
    "from sklearn.cluster import KMeans\n",
    "from sklearn.metrics import silhouette_score\n",
    "from sklearn.model_selection import GridSearchCV\n",
    "from scipy import stats\n",
    "from sklearn.cluster import HDBSCAN\n",
    "from sklearn.model_selection import GridSearchCV\n",
    "from sklearn.metrics import silhouette_score\n",
    "from scipy import stats\n",
    "from sklearn.neighbors import LocalOutlierFactor\n",
    "from sklearn.model_selection import train_test_split\n",
    "\n",
    "# You can also define custom functions, classes, and other code in this module.\n",
    "\n",
    "import pandas as pd\n",
    "import numpy as np\n",
    "from scipy.sparse import coo_matrix"
   ]
  },
  {
   "cell_type": "code",
   "execution_count": null,
   "id": "e9cdff41-6c21-4429-9c99-048e528bc931",
   "metadata": {
    "tags": []
   },
   "outputs": [],
   "source": [
    "def silhouette_scorer(estimator, X):\n",
    "    labels = estimator.fit_predict(X)\n",
    "    if len(set(labels)) == 1:\n",
    "        return 0  # Silhouette score is undefined for a single cluster\n",
    "    return silhouette_score(X, labels)\n",
    "\n",
    "def optimize_and_compare_hdbscan(data, hdbscan_params, alpha=0.05):\n",
    "    # Perform Grid Search\n",
    "    grid_search = GridSearchCV(\n",
    "        estimator=HDBSCAN(min_cluster_size=20),\n",
    "        param_grid=hdbscan_params,\n",
    "        scoring=silhouette_scorer,\n",
    "        cv=5,\n",
    "        n_jobs=-1,\n",
    "    )\n",
    "    grid_search.fit(data)\n",
    "    grid_search_estimator = grid_search.best_estimator_\n",
    "\n",
    "    # Calculate silhouette scores for the default and grid search estimators\n",
    "    default_hdbscan = HDBSCAN(min_cluster_size=20).fit(data)\n",
    "    default_labels = default_hdbscan.labels_\n",
    "    default_silhouette_score = silhouette_score(data, default_labels)\n",
    "\n",
    "    grid_search_labels = grid_search_estimator.fit_predict(data)\n",
    "    grid_search_silhouette_score = silhouette_score(data, grid_search_labels)\n",
    "\n",
    "    # Check if the grid search estimator has a higher silhouette score\n",
    "    if grid_search_silhouette_score > default_silhouette_score:\n",
    "        # Perform a two-sample t-test\n",
    "        t_stat, p_value = stats.ttest_ind(default_labels, grid_search_labels)\n",
    "\n",
    "        # Check if the p-value is less than the significance level\n",
    "        if p_value < alpha:\n",
    "            choice = \"Grid Search Estimator\"\n",
    "        else:\n",
    "            choice = \"Default Parameter\"\n",
    "    else:\n",
    "        choice = \"Default Parameter\"\n",
    "\n",
    "    # Output informative print statements\n",
    "    print(\"Default HDBSCAN Silhouette Score:\", default_silhouette_score)\n",
    "    print(\"Grid Search Estimator Silhouette Score:\", grid_search_silhouette_score)\n",
    "\n",
    "    if grid_search_silhouette_score > default_silhouette_score:\n",
    "        if p_value < alpha:\n",
    "            print(\"The difference between the two groups is statistically significant.\")\n",
    "            print(f\"Using {choice} as it performs significantly better.\")\n",
    "        else:\n",
    "            print(\"The difference between the two groups is not statistically significant.\")\n",
    "            print(f\"Using {choice} as there is no significant improvement.\")\n",
    "    else:\n",
    "        print(\"Default Parameter has a higher silhouette score. No t-test performed.\")\n",
    "\n",
    "    return choice\n",
    "\n",
    "# Define the parameter grid for HDBSCAN\n",
    "hdbscan_params = {\n",
    "    'min_samples': [10, 30, 50, 60, 100],\n",
    "    'min_cluster_size': [100, 200, 300, 400, 500, 600],\n",
    "    'cluster_selection_method': ['eom', 'leaf'],\n",
    "    'metric': ['euclidean', 'manhattan']\n",
    "}\n",
    "\n",
    "# Usage example with parameters\n",
    "result = optimize_and_compare_hdbscan(updated_train_pca_df_trans, hdbscan_params)"
   ]
  },
  {
   "cell_type": "code",
   "execution_count": null,
   "id": "59bffc18-714b-44ab-9ef9-cc2c21ce8ee1",
   "metadata": {},
   "outputs": [],
   "source": []
  }
 ],
 "metadata": {
  "kernelspec": {
   "display_name": "Python 3 (ipykernel)",
   "language": "python",
   "name": "python3"
  },
  "language_info": {
   "codemirror_mode": {
    "name": "ipython",
    "version": 3
   },
   "file_extension": ".py",
   "mimetype": "text/x-python",
   "name": "python",
   "nbconvert_exporter": "python",
   "pygments_lexer": "ipython3",
   "version": "3.11.4"
  }
 },
 "nbformat": 4,
 "nbformat_minor": 5
}
