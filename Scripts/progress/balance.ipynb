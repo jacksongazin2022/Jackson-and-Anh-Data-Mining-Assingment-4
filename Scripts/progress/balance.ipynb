{
 "cells": [
  {
   "cell_type": "code",
   "execution_count": null,
   "metadata": {},
   "outputs": [],
   "source": [
    "\n",
    "import random\n",
    "import pandas as pd\n",
    "\n",
    "RANDOM_SEED = 97\n",
    "\n",
    "INPUT_DATASET = \"input_dataset.csv\"\n",
    "OUTPUT_DATASET = \"output_dataset.csv\"\n",
    "\n",
    "BALANCE_COL = \"working\"\n",
    "VALUES = [True, False]\n",
    "\n",
    "# set the random seed for reproducibility\n",
    "random.seed(97)\n",
    "\n",
    "# load the dataset\n",
    "dataset = pd.read_csv(INPUT_DATASET)\n",
    "\n",
    "# figure out the minimum number of the values\n",
    "value_counts = []\n",
    "for value in VALUES:\n",
    "    value_counts.append(dataset[dataset[BALANCE_COL] == value].shape[0])\n",
    "min_num_rows = min(value_counts)\n",
    "for index, value in enumerate(VALUES):\n",
    "    print(f\"There were {value_counts[index]} {value}s in the dataset - the kept amount is {min_num_rows}.\")\n",
    "\n",
    "# randomly select the minumum number of rows each of the values\n",
    "chosen_ids = []\n",
    "for label in VALUES:\n",
    "    ids = dataset[dataset[BALANCE_COL] == label].index\n",
    "    chosen_ids.extend(random.sample(list(ids), min_num_rows))\n",
    "\n",
    "# remove the non-chosen ids from the dataset\n",
    "dataset = dataset.drop(dataset.index[list(set(range(dataset.shape[0])) - set(chosen_ids))])\n",
    "\n",
    "# save the dataset\n",
    "dataset.to_csv(OUTPUT_DATASET, index=False)"
   ]
  },
  {
   "cell_type": "code",
   "execution_count": 2,
   "metadata": {},
   "outputs": [],
   "source": [
    "import pandas as pd\n",
    "from pyarrow.parquet import read_table\n",
    "from scipy.sparse import coo_matrix"
   ]
  },
  {
   "cell_type": "code",
   "execution_count": 3,
   "metadata": {},
   "outputs": [],
   "source": [
    "def load_data(data_path, row_info_path, column_info_path):\n",
    "    # Load non_zero parquet data\n",
    "    table = read_table(data_path)\n",
    "    nonzero_data = table.to_pandas()\n",
    "    \n",
    "    # Adjust column indices to be 0-based\n",
    "    nonzero_data['col_indices'] = nonzero_data['col_indices'] - 1\n",
    "    \n",
    "    # Load row and column index info\n",
    "    rows = pd.read_csv(row_info_path)\n",
    "    row_names = rows.iloc[:, 1].to_list()\n",
    "    \n",
    "    columns = pd.read_csv(column_info_path)\n",
    "    column_names = columns.iloc[:, 1].to_list()\n",
    "    \n",
    "    # Convert the sparse matrix to a dense DataFrame\n",
    "    sparse_matrix = coo_matrix(\n",
    "        (nonzero_data['nonzero_elements'], (nonzero_data['row_indices'], nonzero_data['col_indices'])),\n",
    "        shape=(len(row_names), len(column_names))\n",
    "    )\n",
    "    \n",
    "    \n",
    "   \n",
    "\n",
    "    print('Returning sparse_matrix, column_names, and row_names')\n",
    "    \n",
    "    return sparse_matrix, column_names, row_names"
   ]
  },
  {
   "cell_type": "code",
   "execution_count": 5,
   "metadata": {},
   "outputs": [],
   "source": [
    "metadata = pd.read_csv('C:\\\\Users\\\\nphda\\\\OneDrive\\\\Desktop\\\\Data Mining\\\\Jackson-and-Anh-Data-Mining-Assingment-4\\\\data\\\\GSE185948_metadata_RNA.csv')"
   ]
  },
  {
   "cell_type": "code",
   "execution_count": 7,
   "metadata": {},
   "outputs": [
    {
     "data": {
      "text/html": [
       "<div>\n",
       "<style scoped>\n",
       "    .dataframe tbody tr th:only-of-type {\n",
       "        vertical-align: middle;\n",
       "    }\n",
       "\n",
       "    .dataframe tbody tr th {\n",
       "        vertical-align: top;\n",
       "    }\n",
       "\n",
       "    .dataframe thead th {\n",
       "        text-align: right;\n",
       "    }\n",
       "</style>\n",
       "<table border=\"1\" class=\"dataframe\">\n",
       "  <thead>\n",
       "    <tr style=\"text-align: right;\">\n",
       "      <th></th>\n",
       "      <th>name</th>\n",
       "      <th>barcode</th>\n",
       "      <th>patient</th>\n",
       "      <th>gender</th>\n",
       "      <th>disease</th>\n",
       "      <th>celltype</th>\n",
       "      <th>nCount_RNA</th>\n",
       "      <th>nFeature_RNA</th>\n",
       "      <th>UMAP_1</th>\n",
       "      <th>UMAP_2</th>\n",
       "    </tr>\n",
       "  </thead>\n",
       "  <tbody>\n",
       "    <tr>\n",
       "      <th>0</th>\n",
       "      <td>PKD_ACACGCGGTATCGGTT-1_1</td>\n",
       "      <td>ACACGCGGTATCGGTT-1</td>\n",
       "      <td>PKD1</td>\n",
       "      <td>female</td>\n",
       "      <td>PKD</td>\n",
       "      <td>TAL1</td>\n",
       "      <td>1234.684629</td>\n",
       "      <td>1250</td>\n",
       "      <td>-7.416020</td>\n",
       "      <td>-6.008874</td>\n",
       "    </tr>\n",
       "    <tr>\n",
       "      <th>1</th>\n",
       "      <td>PKD_ACACGCGGTTTGGCTA-1_1</td>\n",
       "      <td>ACACGCGGTTTGGCTA-1</td>\n",
       "      <td>PKD1</td>\n",
       "      <td>female</td>\n",
       "      <td>PKD</td>\n",
       "      <td>PT2</td>\n",
       "      <td>1865.542588</td>\n",
       "      <td>1650</td>\n",
       "      <td>2.499409</td>\n",
       "      <td>-6.587287</td>\n",
       "    </tr>\n",
       "    <tr>\n",
       "      <th>2</th>\n",
       "      <td>PKD_ACACGCGTCATGTCTT-1_1</td>\n",
       "      <td>ACACGCGTCATGTCTT-1</td>\n",
       "      <td>PKD1</td>\n",
       "      <td>female</td>\n",
       "      <td>PKD</td>\n",
       "      <td>CNT_PC</td>\n",
       "      <td>1812.700523</td>\n",
       "      <td>1419</td>\n",
       "      <td>-2.254505</td>\n",
       "      <td>8.526364</td>\n",
       "    </tr>\n",
       "    <tr>\n",
       "      <th>3</th>\n",
       "      <td>PKD_ACACTGAAGACCCTTA-1_1</td>\n",
       "      <td>ACACTGAAGACCCTTA-1</td>\n",
       "      <td>PKD1</td>\n",
       "      <td>female</td>\n",
       "      <td>PKD</td>\n",
       "      <td>FIB</td>\n",
       "      <td>978.772591</td>\n",
       "      <td>1089</td>\n",
       "      <td>9.949437</td>\n",
       "      <td>2.086737</td>\n",
       "    </tr>\n",
       "    <tr>\n",
       "      <th>4</th>\n",
       "      <td>PKD_ACACTGAAGCGACAGT-1_1</td>\n",
       "      <td>ACACTGAAGCGACAGT-1</td>\n",
       "      <td>PKD1</td>\n",
       "      <td>female</td>\n",
       "      <td>PKD</td>\n",
       "      <td>PT1</td>\n",
       "      <td>2361.558871</td>\n",
       "      <td>2013</td>\n",
       "      <td>7.886921</td>\n",
       "      <td>-8.587954</td>\n",
       "    </tr>\n",
       "  </tbody>\n",
       "</table>\n",
       "</div>"
      ],
      "text/plain": [
       "                       name             barcode patient  gender disease  \\\n",
       "0  PKD_ACACGCGGTATCGGTT-1_1  ACACGCGGTATCGGTT-1    PKD1  female     PKD   \n",
       "1  PKD_ACACGCGGTTTGGCTA-1_1  ACACGCGGTTTGGCTA-1    PKD1  female     PKD   \n",
       "2  PKD_ACACGCGTCATGTCTT-1_1  ACACGCGTCATGTCTT-1    PKD1  female     PKD   \n",
       "3  PKD_ACACTGAAGACCCTTA-1_1  ACACTGAAGACCCTTA-1    PKD1  female     PKD   \n",
       "4  PKD_ACACTGAAGCGACAGT-1_1  ACACTGAAGCGACAGT-1    PKD1  female     PKD   \n",
       "\n",
       "  celltype   nCount_RNA  nFeature_RNA    UMAP_1    UMAP_2  \n",
       "0     TAL1  1234.684629          1250 -7.416020 -6.008874  \n",
       "1      PT2  1865.542588          1650  2.499409 -6.587287  \n",
       "2   CNT_PC  1812.700523          1419 -2.254505  8.526364  \n",
       "3      FIB   978.772591          1089  9.949437  2.086737  \n",
       "4      PT1  2361.558871          2013  7.886921 -8.587954  "
      ]
     },
     "execution_count": 7,
     "metadata": {},
     "output_type": "execute_result"
    }
   ],
   "source": [
    "metadata.head()"
   ]
  },
  {
   "cell_type": "code",
   "execution_count": 18,
   "metadata": {},
   "outputs": [],
   "source": [
    "demo = metadata[['gender', 'disease', 'name']]\n",
    "min = demo.groupby(['gender', 'disease']).count().reset_index()['name'].min()"
   ]
  },
  {
   "cell_type": "code",
   "execution_count": 23,
   "metadata": {},
   "outputs": [],
   "source": [
    "data = []\n",
    "for name, group in demo.groupby(['gender', 'disease']):\n",
    "    df = group\n",
    "    data.append(df['name'].sample(n = 3))"
   ]
  },
  {
   "cell_type": "code",
   "execution_count": 25,
   "metadata": {},
   "outputs": [
    {
     "data": {
      "text/plain": [
       "18639    PKD_TCTGCCATCGAACCTA-1_2\n",
       "990      PKD_AGGTTACTCCTGCTAC-1_1\n",
       "39526    PKD_AGCTTCCAGTACAGAT-1_5\n",
       "Name: name, dtype: object"
      ]
     },
     "execution_count": 25,
     "metadata": {},
     "output_type": "execute_result"
    }
   ],
   "source": [
    "data[0]"
   ]
  },
  {
   "cell_type": "code",
   "execution_count": 4,
   "metadata": {},
   "outputs": [
    {
     "name": "stdout",
     "output_type": "stream",
     "text": [
      "Returning sparse_matrix, column_names, and row_names\n"
     ]
    }
   ],
   "source": [
    "data_path = 'C:\\\\Users\\\\nphda\\\\OneDrive\\\\Desktop\\\\Data Mining\\\\Jackson-and-Anh-Data-Mining-Assingment-4\\\\data\\\\non_zero.parquet'\n",
    "row_info_path = 'C:\\\\Users\\\\nphda\\\\OneDrive\\\\Desktop\\\\Data Mining\\\\Jackson-and-Anh-Data-Mining-Assingment-4\\\\data\\\\row_names.csv'\n",
    "column_info_path = 'C:\\\\Users\\\\nphda\\\\OneDrive\\\\Desktop\\\\Data Mining\\\\Jackson-and-Anh-Data-Mining-Assingment-4\\\\data\\\\col_names.csv'\n",
    "sparse_matrix, row_names, column_names = load_data(data_path, row_info_path, column_info_path)"
   ]
  },
  {
   "cell_type": "code",
   "execution_count": 6,
   "metadata": {},
   "outputs": [],
   "source": [
    "csr_matrix = sparse_matrix.tocsr()"
   ]
  },
  {
   "cell_type": "code",
   "execution_count": null,
   "metadata": {},
   "outputs": [],
   "source": []
  }
 ],
 "metadata": {
  "kernelspec": {
   "display_name": "base",
   "language": "python",
   "name": "python3"
  },
  "language_info": {
   "codemirror_mode": {
    "name": "ipython",
    "version": 3
   },
   "file_extension": ".py",
   "mimetype": "text/x-python",
   "name": "python",
   "nbconvert_exporter": "python",
   "pygments_lexer": "ipython3",
   "version": "3.9.12"
  }
 },
 "nbformat": 4,
 "nbformat_minor": 2
}
