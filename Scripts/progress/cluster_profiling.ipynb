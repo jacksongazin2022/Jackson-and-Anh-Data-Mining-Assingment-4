{
 "cells": [
  {
   "cell_type": "code",
   "execution_count": null,
   "metadata": {},
   "outputs": [],
   "source": [
    "metadata = pd.read_csv('C:\\\\Users\\\\nphda\\\\OneDrive\\\\Desktop\\\\Data Mining\\\\Jackson-and-Anh-Data-Mining-Assingment-4\\\\data\\\\GSE185948_metadata_RNA.csv')\n",
    "cluster = pd.read_csv('rna_transpose_kmean', index_col=0)\n",
    "col_name = pd.read_csv('col_names.csv', index_col=0)\n",
    "col_name = col_name.rename(columns={col_name.columns[0]: \"name\" })\n",
    "cluster = cluster.rename(dict(zip(cluster.index, col_name['name'])))\n",
    "cluster = cluster.reset_index()\n",
    "meta_df = pd.merge(cluster, metadata, left_on='index', right_on='name', how='left').drop('name', axis=1)\n",
    "meta_df_demo = meta_df[['cluster', 'gender', 'disease']]"
   ]
  },
  {
   "cell_type": "markdown",
   "metadata": {},
   "source": [
    "# Summary"
   ]
  },
  {
   "cell_type": "code",
   "execution_count": null,
   "metadata": {},
   "outputs": [],
   "source": [
    "meta_df_demo.describe(include=['object']).T"
   ]
  },
  {
   "cell_type": "code",
   "execution_count": null,
   "metadata": {},
   "outputs": [],
   "source": [
    "meta_df_demo.groupby('cluster').describe(include=['object']).T"
   ]
  },
  {
   "cell_type": "markdown",
   "metadata": {},
   "source": [
    "# Chi-squared Test"
   ]
  }
 ],
 "metadata": {
  "language_info": {
   "name": "python"
  }
 },
 "nbformat": 4,
 "nbformat_minor": 2
}
