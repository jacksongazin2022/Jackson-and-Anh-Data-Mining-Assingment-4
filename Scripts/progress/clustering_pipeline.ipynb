{
 "cells": [
  {
   "cell_type": "code",
   "execution_count": null,
   "metadata": {
    "vscode": {
     "languageId": "plaintext"
    }
   },
   "outputs": [],
   "source": [
    "#### CLUSTER\n",
    "+ Get data\n",
    "+ Check data quality (return quality)\n",
    "+ Preprocess data: transpose, split train/test, scaling, dimension reduction (save data to csv)\n",
    "+ Cluster analysis: grid search for cluster on full data, output model and labeled dataframe, visualise cluster\n",
    "+ Validation: cluster on train, predict test, compute ratio of different labels\n",
    "+ Cluster profile: give demographics info for each cluster\n"
   ]
  }
 ],
 "metadata": {
  "language_info": {
   "name": "python"
  }
 },
 "nbformat": 4,
 "nbformat_minor": 2
}
