{
 "cells": [
  {
   "cell_type": "code",
   "execution_count": null,
   "id": "afe8befa-30dd-4af5-995f-a8309cdfe639",
   "metadata": {},
   "outputs": [],
   "source": [
    "import gzip\n",
    "import shutil"
   ]
  },
  {
   "cell_type": "code",
   "execution_count": null,
   "id": "46fd8c97-6e72-47c6-bee6-2a807d532e02",
   "metadata": {
    "tags": []
   },
   "outputs": [],
   "source": [
    "input_gz_file = 'GSE185948_count_RNA.rds.gz'\n",
    "output_rds_file = 'data_for_r.rds'\n",
    "\n",
    "# Open the compressed file and extract it\n",
    "with gzip.open(input_gz_file, 'rb') as f_in, open(output_rds_file, 'wb') as f_out:\n",
    "    shutil.copyfileobj(f_in, f_out)\n",
    "\n",
    "print(f'{input_gz_file} has been successfully uncompressed to {output_rds_file}.')"
   ]
  },
  {
   "cell_type": "code",
   "execution_count": 25,
   "id": "77773596-d217-481d-90eb-cff1fe9563ac",
   "metadata": {
    "tags": []
   },
   "outputs": [
    {
     "name": "stdout",
     "output_type": "stream",
     "text": [
      "GSE185948_metadata_RNA.csv.gz has been successfully uncompressed to uncompressed_metadata.csv.\n"
     ]
    }
   ],
   "source": [
    "import gzip\n",
    "import shutil\n",
    "\n",
    "input_gz_file = 'GSE185948_metadata_RNA.csv.gz'\n",
    "output_csv_file = 'uncompressed_metadata.csv'\n",
    "\n",
    "# Open the compressed file and extract it\n",
    "with gzip.open(input_gz_file, 'rb') as f_in, open(output_csv_file, 'wb') as f_out:\n",
    "    shutil.copyfileobj(f_in, f_out)\n",
    "\n",
    "print(f'{input_gz_file} has been successfully uncompressed to {output_csv_file}.')"
   ]
  },
  {
   "cell_type": "code",
   "execution_count": 27,
   "id": "d033d150-def7-422c-b556-cfadb89c76db",
   "metadata": {
    "tags": []
   },
   "outputs": [],
   "source": [
    "metadata = pd.read_csv('uncompressed_metadata.csv')"
   ]
  },
  {
   "cell_type": "code",
   "execution_count": 28,
   "id": "02274131-0898-41fb-9445-c1a2d7232063",
   "metadata": {
    "tags": []
   },
   "outputs": [
    {
     "data": {
      "text/html": [
       "<div>\n",
       "<style scoped>\n",
       "    .dataframe tbody tr th:only-of-type {\n",
       "        vertical-align: middle;\n",
       "    }\n",
       "\n",
       "    .dataframe tbody tr th {\n",
       "        vertical-align: top;\n",
       "    }\n",
       "\n",
       "    .dataframe thead th {\n",
       "        text-align: right;\n",
       "    }\n",
       "</style>\n",
       "<table border=\"1\" class=\"dataframe\">\n",
       "  <thead>\n",
       "    <tr style=\"text-align: right;\">\n",
       "      <th></th>\n",
       "      <th>name</th>\n",
       "      <th>barcode</th>\n",
       "      <th>patient</th>\n",
       "      <th>gender</th>\n",
       "      <th>disease</th>\n",
       "      <th>celltype</th>\n",
       "      <th>nCount_RNA</th>\n",
       "      <th>nFeature_RNA</th>\n",
       "      <th>UMAP_1</th>\n",
       "      <th>UMAP_2</th>\n",
       "    </tr>\n",
       "  </thead>\n",
       "  <tbody>\n",
       "    <tr>\n",
       "      <th>0</th>\n",
       "      <td>PKD_ACACGCGGTATCGGTT-1_1</td>\n",
       "      <td>ACACGCGGTATCGGTT-1</td>\n",
       "      <td>PKD1</td>\n",
       "      <td>female</td>\n",
       "      <td>PKD</td>\n",
       "      <td>TAL1</td>\n",
       "      <td>1234.684629</td>\n",
       "      <td>1250</td>\n",
       "      <td>-7.416020</td>\n",
       "      <td>-6.008874</td>\n",
       "    </tr>\n",
       "    <tr>\n",
       "      <th>1</th>\n",
       "      <td>PKD_ACACGCGGTTTGGCTA-1_1</td>\n",
       "      <td>ACACGCGGTTTGGCTA-1</td>\n",
       "      <td>PKD1</td>\n",
       "      <td>female</td>\n",
       "      <td>PKD</td>\n",
       "      <td>PT2</td>\n",
       "      <td>1865.542588</td>\n",
       "      <td>1650</td>\n",
       "      <td>2.499409</td>\n",
       "      <td>-6.587287</td>\n",
       "    </tr>\n",
       "    <tr>\n",
       "      <th>2</th>\n",
       "      <td>PKD_ACACGCGTCATGTCTT-1_1</td>\n",
       "      <td>ACACGCGTCATGTCTT-1</td>\n",
       "      <td>PKD1</td>\n",
       "      <td>female</td>\n",
       "      <td>PKD</td>\n",
       "      <td>CNT_PC</td>\n",
       "      <td>1812.700523</td>\n",
       "      <td>1419</td>\n",
       "      <td>-2.254505</td>\n",
       "      <td>8.526364</td>\n",
       "    </tr>\n",
       "    <tr>\n",
       "      <th>3</th>\n",
       "      <td>PKD_ACACTGAAGACCCTTA-1_1</td>\n",
       "      <td>ACACTGAAGACCCTTA-1</td>\n",
       "      <td>PKD1</td>\n",
       "      <td>female</td>\n",
       "      <td>PKD</td>\n",
       "      <td>FIB</td>\n",
       "      <td>978.772591</td>\n",
       "      <td>1089</td>\n",
       "      <td>9.949437</td>\n",
       "      <td>2.086737</td>\n",
       "    </tr>\n",
       "    <tr>\n",
       "      <th>4</th>\n",
       "      <td>PKD_ACACTGAAGCGACAGT-1_1</td>\n",
       "      <td>ACACTGAAGCGACAGT-1</td>\n",
       "      <td>PKD1</td>\n",
       "      <td>female</td>\n",
       "      <td>PKD</td>\n",
       "      <td>PT1</td>\n",
       "      <td>2361.558871</td>\n",
       "      <td>2013</td>\n",
       "      <td>7.886921</td>\n",
       "      <td>-8.587954</td>\n",
       "    </tr>\n",
       "    <tr>\n",
       "      <th>...</th>\n",
       "      <td>...</td>\n",
       "      <td>...</td>\n",
       "      <td>...</td>\n",
       "      <td>...</td>\n",
       "      <td>...</td>\n",
       "      <td>...</td>\n",
       "      <td>...</td>\n",
       "      <td>...</td>\n",
       "      <td>...</td>\n",
       "      <td>...</td>\n",
       "    </tr>\n",
       "    <tr>\n",
       "      <th>102705</th>\n",
       "      <td>Cont_TTTGTTGCAGTTAAAG-1_5</td>\n",
       "      <td>TTTGTTGCAGTTAAAG-1</td>\n",
       "      <td>control5</td>\n",
       "      <td>female</td>\n",
       "      <td>control</td>\n",
       "      <td>DCT</td>\n",
       "      <td>2177.456940</td>\n",
       "      <td>1537</td>\n",
       "      <td>-8.038441</td>\n",
       "      <td>6.705230</td>\n",
       "    </tr>\n",
       "    <tr>\n",
       "      <th>102706</th>\n",
       "      <td>Cont_TTTGTTGCATATTCGG-1_5</td>\n",
       "      <td>TTTGTTGCATATTCGG-1</td>\n",
       "      <td>control5</td>\n",
       "      <td>female</td>\n",
       "      <td>control</td>\n",
       "      <td>PT1</td>\n",
       "      <td>1116.704812</td>\n",
       "      <td>984</td>\n",
       "      <td>5.658295</td>\n",
       "      <td>-6.785034</td>\n",
       "    </tr>\n",
       "    <tr>\n",
       "      <th>102707</th>\n",
       "      <td>Cont_TTTGTTGGTACGATTC-1_5</td>\n",
       "      <td>TTTGTTGGTACGATTC-1</td>\n",
       "      <td>control5</td>\n",
       "      <td>female</td>\n",
       "      <td>control</td>\n",
       "      <td>DCT</td>\n",
       "      <td>2156.953541</td>\n",
       "      <td>1421</td>\n",
       "      <td>-8.645567</td>\n",
       "      <td>6.688504</td>\n",
       "    </tr>\n",
       "    <tr>\n",
       "      <th>102708</th>\n",
       "      <td>Cont_TTTGTTGGTGCGTTTA-1_5</td>\n",
       "      <td>TTTGTTGGTGCGTTTA-1</td>\n",
       "      <td>control5</td>\n",
       "      <td>female</td>\n",
       "      <td>control</td>\n",
       "      <td>CNT_PC</td>\n",
       "      <td>1553.371592</td>\n",
       "      <td>1209</td>\n",
       "      <td>-0.795698</td>\n",
       "      <td>7.423819</td>\n",
       "    </tr>\n",
       "    <tr>\n",
       "      <th>102709</th>\n",
       "      <td>Cont_TTTGTTGTCTGCGGAC-1_5</td>\n",
       "      <td>TTTGTTGTCTGCGGAC-1</td>\n",
       "      <td>control5</td>\n",
       "      <td>female</td>\n",
       "      <td>control</td>\n",
       "      <td>ENDO</td>\n",
       "      <td>1106.715246</td>\n",
       "      <td>917</td>\n",
       "      <td>2.259402</td>\n",
       "      <td>3.275315</td>\n",
       "    </tr>\n",
       "  </tbody>\n",
       "</table>\n",
       "<p>102710 rows × 10 columns</p>\n",
       "</div>"
      ],
      "text/plain": [
       "                             name             barcode   patient  gender  \\\n",
       "0        PKD_ACACGCGGTATCGGTT-1_1  ACACGCGGTATCGGTT-1      PKD1  female   \n",
       "1        PKD_ACACGCGGTTTGGCTA-1_1  ACACGCGGTTTGGCTA-1      PKD1  female   \n",
       "2        PKD_ACACGCGTCATGTCTT-1_1  ACACGCGTCATGTCTT-1      PKD1  female   \n",
       "3        PKD_ACACTGAAGACCCTTA-1_1  ACACTGAAGACCCTTA-1      PKD1  female   \n",
       "4        PKD_ACACTGAAGCGACAGT-1_1  ACACTGAAGCGACAGT-1      PKD1  female   \n",
       "...                           ...                 ...       ...     ...   \n",
       "102705  Cont_TTTGTTGCAGTTAAAG-1_5  TTTGTTGCAGTTAAAG-1  control5  female   \n",
       "102706  Cont_TTTGTTGCATATTCGG-1_5  TTTGTTGCATATTCGG-1  control5  female   \n",
       "102707  Cont_TTTGTTGGTACGATTC-1_5  TTTGTTGGTACGATTC-1  control5  female   \n",
       "102708  Cont_TTTGTTGGTGCGTTTA-1_5  TTTGTTGGTGCGTTTA-1  control5  female   \n",
       "102709  Cont_TTTGTTGTCTGCGGAC-1_5  TTTGTTGTCTGCGGAC-1  control5  female   \n",
       "\n",
       "        disease celltype   nCount_RNA  nFeature_RNA    UMAP_1    UMAP_2  \n",
       "0           PKD     TAL1  1234.684629          1250 -7.416020 -6.008874  \n",
       "1           PKD      PT2  1865.542588          1650  2.499409 -6.587287  \n",
       "2           PKD   CNT_PC  1812.700523          1419 -2.254505  8.526364  \n",
       "3           PKD      FIB   978.772591          1089  9.949437  2.086737  \n",
       "4           PKD      PT1  2361.558871          2013  7.886921 -8.587954  \n",
       "...         ...      ...          ...           ...       ...       ...  \n",
       "102705  control      DCT  2177.456940          1537 -8.038441  6.705230  \n",
       "102706  control      PT1  1116.704812           984  5.658295 -6.785034  \n",
       "102707  control      DCT  2156.953541          1421 -8.645567  6.688504  \n",
       "102708  control   CNT_PC  1553.371592          1209 -0.795698  7.423819  \n",
       "102709  control     ENDO  1106.715246           917  2.259402  3.275315  \n",
       "\n",
       "[102710 rows x 10 columns]"
      ]
     },
     "execution_count": 28,
     "metadata": {},
     "output_type": "execute_result"
    }
   ],
   "source": [
    "metadata"
   ]
  },
  {
   "cell_type": "markdown",
   "id": "db12762e-d950-4f0d-88ae-cd32ec8e43ca",
   "metadata": {},
   "source": [
    "R code below"
   ]
  },
  {
   "cell_type": "raw",
   "id": "ea593dcf-f6ef-476e-97fa-5527db6fb58a",
   "metadata": {},
   "source": [
    "filename = file.choose()\n",
    "data = readRDS(filename)\n",
    "data\n",
    "sparse_matrix <- data\n",
    "\n",
    "num_columns <- ncol(sparse_matrix)\n",
    "# Get the nonzero elements and their indices\n",
    "nonzero_elements <- sparse_matrix@x\n",
    "row_indices <- sparse_matrix@i\n",
    "col_indices <- rep(1:num_columns, times = diff(sparse_matrix@p))  # Use sparse_matrix@j for column indices\n",
    "\n",
    "\n",
    "nonzero_data <- data.frame(row_indices, col_indices, nonzero_elements)\n",
    "\n",
    "col_names <- data.frame(sparse_matrix@Dimnames[2])\n",
    "nrow(col_names)\n",
    "row_names <- data.frame((sparse_matrix@Dimnames[1]))\n",
    "\n",
    "write.csv(row_names, 'row_names.csv')\n",
    "write.csv(col_names, 'col_names.csv')\n",
    "\n",
    "\n",
    "# Save the i, j information to a Parquet file\n",
    "write_parquet(nonzero_data, \"non_zero.parquet\")"
   ]
  },
  {
   "cell_type": "code",
   "execution_count": 11,
   "id": "52d881cd-1a18-43f9-84d1-ff85e77ef9db",
   "metadata": {
    "tags": []
   },
   "outputs": [
    {
     "name": "stdout",
     "output_type": "stream",
     "text": [
      "Collecting memory_profiler\n",
      "  Downloading memory_profiler-0.61.0-py3-none-any.whl (31 kB)\n",
      "Requirement already satisfied: psutil in /Users/jacksongazin/anaconda3/lib/python3.11/site-packages (from memory_profiler) (5.9.0)\n",
      "Installing collected packages: memory_profiler\n",
      "Successfully installed memory_profiler-0.61.0\n",
      "Note: you may need to restart the kernel to use updated packages.\n"
     ]
    }
   ],
   "source": [
    "pip install memory_profiler"
   ]
  },
  {
   "cell_type": "code",
   "execution_count": 1,
   "id": "8ca90420-40cf-490b-8623-55e02e82e908",
   "metadata": {},
   "outputs": [],
   "source": [
    "import pandas as pd\n",
    "from pyarrow.parquet import read_table\n",
    "from scipy.sparse import coo_matrix\n",
    "from sklearn.decomposition import PCA\n",
    "from sklearn.preprocessing import StandardScaler, MinMaxScaler, normalize\n",
    "from sklearn.pipeline import Pipeline\n",
    "import numpy as np\n",
    "from sklearn.preprocessing import StandardScaler, MaxAbsScaler\n",
    "from sklearn.decomposition import TruncatedSVD\n",
    "from sklearn.base import BaseEstimator, TransformerMixin\n",
    "from memory_profiler import memory_usage\n",
    "import matplotlib.pyplot as plt\n",
    "import seaborn as sns\n",
    "\n",
    "from kneed import KneeLocator\n",
    "from sklearn.datasets import make_blobs\n",
    "from sklearn.cluster import KMeans\n",
    "from sklearn.metrics import silhouette_score\n",
    "from sklearn.metrics import adjusted_rand_score\n",
    "from sklearn.model_selection import GridSearchCV\n",
    "\n",
    "from yellowbrick.cluster import KElbowVisualizer, SilhouetteVisualizer\n",
    "from sklearn.cluster import KMeans\n",
    "from sklearn.metrics import silhouette_score\n",
    "from sklearn.model_selection import GridSearchCV\n",
    "from scipy import stats\n",
    "from sklearn.cluster import HDBSCAN\n",
    "from sklearn.model_selection import GridSearchCV\n",
    "from sklearn.metrics import silhouette_score\n",
    "from scipy import stats\n"
   ]
  },
  {
   "cell_type": "code",
   "execution_count": 2,
   "id": "5f82c6cb-0db4-42d6-b286-e191ff5421c2",
   "metadata": {
    "tags": []
   },
   "outputs": [],
   "source": [
    "def load_data(data_path, row_info_path, column_info_path):\n",
    "    # Load non_zero parquet data\n",
    "    table = read_table(data_path)\n",
    "    nonzero_data = table.to_pandas()\n",
    "    \n",
    "    # Adjust column indices to be 0-based\n",
    "    nonzero_data['col_indices'] = nonzero_data['col_indices'] - 1\n",
    "    \n",
    "    # Load row and column index info\n",
    "    rows = pd.read_csv(row_info_path)\n",
    "    row_names = rows.iloc[:, 1].to_list()\n",
    "    \n",
    "    columns = pd.read_csv(column_info_path)\n",
    "    column_names = columns.iloc[:, 1].to_list()\n",
    "    \n",
    "    # Convert the sparse matrix to a dense DataFrame\n",
    "    sparse_matrix = coo_matrix(\n",
    "        (nonzero_data['nonzero_elements'], (nonzero_data['row_indices'], nonzero_data['col_indices'])),\n",
    "        shape=(len(row_names), len(column_names))\n",
    "    )\n",
    "    \n",
    "    \n",
    "   \n",
    "\n",
    "    print('Returning sparse_matrix, column_names, and row_names')\n",
    "    \n",
    "    return sparse_matrix, column_names, row_names"
   ]
  },
  {
   "cell_type": "code",
   "execution_count": 3,
   "id": "7b90e572-f7b3-41b5-ae96-ea924ade20ed",
   "metadata": {
    "tags": []
   },
   "outputs": [
    {
     "name": "stdout",
     "output_type": "stream",
     "text": [
      "Returning sparse_matrix, column_names, and row_names\n"
     ]
    }
   ],
   "source": [
    "data_path = 'non_zero.parquet'\n",
    "row_info_path = 'row_names.csv'\n",
    "column_info_path = 'col_names.csv'\n",
    "#sparse_matrix = coo_matrix((data['nonzero_elements'], (data['row_indices'], data['col_indices'])))\n",
    "sparse_matrix, row_names, column_names = load_data(data_path, row_info_path, column_info_path)"
   ]
  },
  {
   "cell_type": "code",
   "execution_count": 4,
   "id": "089b4296-80cc-4e83-918e-017fbb1efe56",
   "metadata": {
    "tags": []
   },
   "outputs": [],
   "source": [
    "row_indices = np.arange(sparse_matrix.shape[0])"
   ]
  },
  {
   "cell_type": "code",
   "execution_count": 5,
   "id": "9100d53e-5566-4ecd-b057-6d71528fc20f",
   "metadata": {
    "tags": []
   },
   "outputs": [],
   "source": [
    "from sklearn.model_selection import train_test_split\n",
    "sparse_train, sparse_test, train_indices, test_indices = train_test_split(\n",
    "    sparse_matrix, row_indices, test_size=0.2, random_state=42\n",
    ")\n",
    "del sparse_matrix\n",
    "del row_indices"
   ]
  },
  {
   "cell_type": "code",
   "execution_count": 6,
   "id": "88adbcba-aedb-4342-90cb-40479b140e84",
   "metadata": {
    "tags": []
   },
   "outputs": [],
   "source": [
    "train_row_names = [row_names[i] for i in train_indices]\n",
    "test_row_names = [row_names[i] for i in test_indices]\n"
   ]
  },
  {
   "cell_type": "code",
   "execution_count": 7,
   "id": "793fa46a-290a-48f6-857f-7bedcc7248ee",
   "metadata": {
    "tags": []
   },
   "outputs": [],
   "source": [
    "pipeline = Pipeline([\n",
    "        ('scaler', StandardScaler(with_mean = False)),\n",
    "        ('pca', TruncatedSVD(n_components=2))\n",
    "    ])"
   ]
  },
  {
   "cell_type": "code",
   "execution_count": 8,
   "id": "54c8deb3-28b6-4655-818b-c4d06b5c0339",
   "metadata": {
    "tags": []
   },
   "outputs": [],
   "source": [
    "pipeline.fit(sparse_train)\n",
    "\n",
    "# Transform the training data\n",
    "pca_sparse_train = pipeline.transform(sparse_train)"
   ]
  },
  {
   "cell_type": "code",
   "execution_count": 9,
   "id": "101f88bf-0fe6-4cd1-89ab-de8f822454d6",
   "metadata": {
    "tags": []
   },
   "outputs": [],
   "source": [
    "pca_sparse_test = pipeline.transform(sparse_test)"
   ]
  },
  {
   "cell_type": "code",
   "execution_count": 44,
   "id": "c4be59ee-221e-47f9-99dd-55ac83261660",
   "metadata": {
    "tags": []
   },
   "outputs": [],
   "source": [
    "train_pca_df = pd.DataFrame(pca_sparse_train, columns=[\"PC1\", \"PC2\"], index=train_row_names)\n",
    "test_pca_df = pd.DataFrame(pca_sparse_test, columns=[\"PC1\", \"PC2\"], index=test_row_names)"
   ]
  },
  {
   "cell_type": "code",
   "execution_count": 61,
   "id": "faf29ccd-6d7c-4571-a752-0cdf17399b34",
   "metadata": {
    "tags": []
   },
   "outputs": [
    {
     "data": {
      "image/png": "[encoded data removed]",
      "text/plain": [
       "<Figure size 1000x600 with 1 Axes>"
      ]
     },
     "metadata": {},
     "output_type": "display_data"
    }
   ],
   "source": [
    "import seaborn as sns\n",
    "import matplotlib.pyplot as plt\n",
    "\n",
    "# Set up the figure\n",
    "plt.figure(figsize=(10, 6))\n",
    "\n",
    "# Create a boxplot for both variables in train_pca_df\n",
    "sns.boxplot(data=train_pca_df, orient=\"h\", palette=\"Set2\")\n",
    "plt.title('Boxplot of Variables in train_pca_df')\n",
    "plt.xlabel('Value')\n",
    "\n",
    "# Show the plot\n",
    "plt.show()"
   ]
  },
  {
   "cell_type": "code",
   "execution_count": 68,
   "id": "4bbef1ab-7d3d-4868-9787-a8f649e6154b",
   "metadata": {
    "tags": []
   },
   "outputs": [],
   "source": [
    "max_pc1_row = train_pca_df[train_pca_df['PC1'] == train_pca_df['PC1'].max()]\n",
    "\n",
    "max_pc1_index = max_pc1_row.index[0]  # Assuming there is only one row with the maximum PC1 value\n",
    "\n",
    "# Find the associated row in metadata\n",
    "associated_metadata = metadata[metadata['name'] == max_pc1_index]\n"
   ]
  },
  {
   "cell_type": "code",
   "execution_count": 75,
   "id": "e42ce8b2-a829-4337-bcb1-cd01259632e0",
   "metadata": {
    "tags": []
   },
   "outputs": [
    {
     "data": {
      "text/html": [
       "<div>\n",
       "<style scoped>\n",
       "    .dataframe tbody tr th:only-of-type {\n",
       "        vertical-align: middle;\n",
       "    }\n",
       "\n",
       "    .dataframe tbody tr th {\n",
       "        vertical-align: top;\n",
       "    }\n",
       "\n",
       "    .dataframe thead th {\n",
       "        text-align: right;\n",
       "    }\n",
       "</style>\n",
       "<table border=\"1\" class=\"dataframe\">\n",
       "  <thead>\n",
       "    <tr style=\"text-align: right;\">\n",
       "      <th></th>\n",
       "      <th>PC1</th>\n",
       "      <th>PC2</th>\n",
       "    </tr>\n",
       "  </thead>\n",
       "  <tbody>\n",
       "    <tr>\n",
       "      <th>PKD_CAGCAGCGTAGGATAT-1_2</th>\n",
       "      <td>41287.94</td>\n",
       "      <td>902.94</td>\n",
       "    </tr>\n",
       "  </tbody>\n",
       "</table>\n",
       "</div>"
      ],
      "text/plain": [
       "                              PC1    PC2\n",
       "PKD_CAGCAGCGTAGGATAT-1_2 41287.94 902.94"
      ]
     },
     "execution_count": 75,
     "metadata": {},
     "output_type": "execute_result"
    }
   ],
   "source": [
    "max_pc1_row"
   ]
  },
  {
   "cell_type": "code",
   "execution_count": 69,
   "id": "2ae8b096-382c-4215-a2ea-27b71742f50b",
   "metadata": {
    "tags": []
   },
   "outputs": [
    {
     "data": {
      "text/html": [
       "<div>\n",
       "<style scoped>\n",
       "    .dataframe tbody tr th:only-of-type {\n",
       "        vertical-align: middle;\n",
       "    }\n",
       "\n",
       "    .dataframe tbody tr th {\n",
       "        vertical-align: top;\n",
       "    }\n",
       "\n",
       "    .dataframe thead th {\n",
       "        text-align: right;\n",
       "    }\n",
       "</style>\n",
       "<table border=\"1\" class=\"dataframe\">\n",
       "  <thead>\n",
       "    <tr style=\"text-align: right;\">\n",
       "      <th></th>\n",
       "      <th>name</th>\n",
       "      <th>barcode</th>\n",
       "      <th>patient</th>\n",
       "      <th>gender</th>\n",
       "      <th>disease</th>\n",
       "      <th>celltype</th>\n",
       "      <th>nCount_RNA</th>\n",
       "      <th>nFeature_RNA</th>\n",
       "      <th>UMAP_1</th>\n",
       "      <th>UMAP_2</th>\n",
       "    </tr>\n",
       "  </thead>\n",
       "  <tbody>\n",
       "    <tr>\n",
       "      <th>12312</th>\n",
       "      <td>PKD_CAGCAGCGTAGGATAT-1_2</td>\n",
       "      <td>CAGCAGCGTAGGATAT-1</td>\n",
       "      <td>PKD2</td>\n",
       "      <td>female</td>\n",
       "      <td>PKD</td>\n",
       "      <td>FIB</td>\n",
       "      <td>1931.298772</td>\n",
       "      <td>1820</td>\n",
       "      <td>6.864611</td>\n",
       "      <td>0.387584</td>\n",
       "    </tr>\n",
       "  </tbody>\n",
       "</table>\n",
       "</div>"
      ],
      "text/plain": [
       "                           name             barcode patient  gender disease  \\\n",
       "12312  PKD_CAGCAGCGTAGGATAT-1_2  CAGCAGCGTAGGATAT-1    PKD2  female     PKD   \n",
       "\n",
       "      celltype   nCount_RNA  nFeature_RNA    UMAP_1    UMAP_2  \n",
       "12312      FIB  1931.298772          1820  6.864611  0.387584  "
      ]
     },
     "execution_count": 69,
     "metadata": {},
     "output_type": "execute_result"
    }
   ],
   "source": [
    "associated_metadata"
   ]
  },
  {
   "cell_type": "code",
   "execution_count": 77,
   "id": "f8890721-e6f0-4fbb-b60a-bb2f38e6fbe3",
   "metadata": {
    "tags": []
   },
   "outputs": [],
   "source": [
    "import pandas as pd\n",
    "\n",
    "# Calculate the mean for numeric columns and the most common level for categorical columns\n",
    "mean_values = metadata.apply(lambda col: col.mean() if pd.api.types.is_numeric_dtype(col) else col.mode().iloc[0])\n",
    "\n",
    "# Create a DataFrame to show the mean values\n",
    "mean_metadata = pd.DataFrame(mean_values, columns=['Mean Value'])\n",
    "\n",
    "# Set the display format for float values\n",
    "pd.options.display.float_format = '{:.2f}'.format"
   ]
  },
  {
   "cell_type": "code",
   "execution_count": 78,
   "id": "2628c959-879c-4c19-9ecd-4a4f83bb5193",
   "metadata": {
    "tags": []
   },
   "outputs": [
    {
     "data": {
      "text/html": [
       "<div>\n",
       "<style scoped>\n",
       "    .dataframe tbody tr th:only-of-type {\n",
       "        vertical-align: middle;\n",
       "    }\n",
       "\n",
       "    .dataframe tbody tr th {\n",
       "        vertical-align: top;\n",
       "    }\n",
       "\n",
       "    .dataframe thead th {\n",
       "        text-align: right;\n",
       "    }\n",
       "</style>\n",
       "<table border=\"1\" class=\"dataframe\">\n",
       "  <thead>\n",
       "    <tr style=\"text-align: right;\">\n",
       "      <th></th>\n",
       "      <th>Mean Value</th>\n",
       "    </tr>\n",
       "  </thead>\n",
       "  <tbody>\n",
       "    <tr>\n",
       "      <th>name</th>\n",
       "      <td>Cont_AAACCCAAGACTCAAA-1_3</td>\n",
       "    </tr>\n",
       "    <tr>\n",
       "      <th>barcode</th>\n",
       "      <td>ACGTTCCGTGAGCGAT-1</td>\n",
       "    </tr>\n",
       "    <tr>\n",
       "      <th>patient</th>\n",
       "      <td>PKD2</td>\n",
       "    </tr>\n",
       "    <tr>\n",
       "      <th>gender</th>\n",
       "      <td>female</td>\n",
       "    </tr>\n",
       "    <tr>\n",
       "      <th>disease</th>\n",
       "      <td>PKD</td>\n",
       "    </tr>\n",
       "    <tr>\n",
       "      <th>celltype</th>\n",
       "      <td>TAL1</td>\n",
       "    </tr>\n",
       "    <tr>\n",
       "      <th>nCount_RNA</th>\n",
       "      <td>2817.21</td>\n",
       "    </tr>\n",
       "    <tr>\n",
       "      <th>nFeature_RNA</th>\n",
       "      <td>1932.71</td>\n",
       "    </tr>\n",
       "    <tr>\n",
       "      <th>UMAP_1</th>\n",
       "      <td>-0.00</td>\n",
       "    </tr>\n",
       "    <tr>\n",
       "      <th>UMAP_2</th>\n",
       "      <td>0.00</td>\n",
       "    </tr>\n",
       "  </tbody>\n",
       "</table>\n",
       "</div>"
      ],
      "text/plain": [
       "                             Mean Value\n",
       "name          Cont_AAACCCAAGACTCAAA-1_3\n",
       "barcode              ACGTTCCGTGAGCGAT-1\n",
       "patient                            PKD2\n",
       "gender                           female\n",
       "disease                             PKD\n",
       "celltype                           TAL1\n",
       "nCount_RNA                      2817.21\n",
       "nFeature_RNA                    1932.71\n",
       "UMAP_1                            -0.00\n",
       "UMAP_2                             0.00"
      ]
     },
     "execution_count": 78,
     "metadata": {},
     "output_type": "execute_result"
    }
   ],
   "source": [
    "mean_metadata"
   ]
  },
  {
   "cell_type": "code",
   "execution_count": 76,
   "id": "f2d9c35a-bd9f-4fbd-b589-6a4de2f7c8b5",
   "metadata": {
    "tags": []
   },
   "outputs": [
    {
     "data": {
      "image/png": "[encoded data removed]",
      "text/plain": [
       "<Figure size 1000x600 with 1 Axes>"
      ]
     },
     "metadata": {},
     "output_type": "display_data"
    }
   ],
   "source": [
    "import seaborn as sns\n",
    "import matplotlib.pyplot as plt\n",
    "\n",
    "# Find the maximum value of PC1\n",
    "max_pc1 = train_pca_df['PC1'].max()\n",
    "\n",
    "# Create a new DataFrame without the rows where PC1 is equal to the maximum value\n",
    "train_pca_df_filtered = train_pca_df[train_pca_df['PC1'] != max_pc1]\n",
    "\n",
    "# Set up the figure\n",
    "plt.figure(figsize=(10, 6))\n",
    "\n",
    "# Create a boxplot for both variables in train_pca_df_filtered\n",
    "sns.boxplot(data=train_pca_df_filtered, orient=\"h\", palette=\"Set2\")\n",
    "plt.title('Boxplot of Variables in train_pca_df (Excluding Max PC1)')\n",
    "plt.xlabel('Value')\n",
    "\n",
    "# Show the plot\n",
    "plt.show()"
   ]
  },
  {
   "cell_type": "code",
   "execution_count": 46,
   "id": "7a4cd7c9-765f-48a8-a724-058c921f9624",
   "metadata": {
    "tags": []
   },
   "outputs": [
    {
     "data": {
      "image/png": "[encoded data removed]",
      "text/plain": [
       "<Figure size 800x600 with 1 Axes>"
      ]
     },
     "metadata": {},
     "output_type": "display_data"
    }
   ],
   "source": [
    "import matplotlib.pyplot as plt\n",
    "import seaborn as sns\n",
    "\n",
    "# Set up the figure\n",
    "plt.figure(figsize=(8, 6))\n",
    "\n",
    "# Create a scatter plot\n",
    "sns.scatterplot(x='PC1', y='PC2', data=train_pca_df, marker='o', s=50, alpha=0.7)\n",
    "\n",
    "# Add labels and title\n",
    "plt.xlabel('PC 1')\n",
    "plt.ylabel('PC 2')\n",
    "plt.title('Two-Dimensional Data Visualization')\n",
    "\n",
    "# Show the plot\n",
    "plt.grid(True)"
   ]
  },
  {
   "cell_type": "code",
   "execution_count": null,
   "id": "42080348-42f5-4441-8197-569a8582daec",
   "metadata": {},
   "outputs": [],
   "source": []
  },
  {
   "cell_type": "code",
   "execution_count": 38,
   "id": "23f362b7-1558-41ce-a230-d23e0910b31d",
   "metadata": {
    "tags": []
   },
   "outputs": [],
   "source": [
    "filtered_outliers_df = outliers_df[outliers_df[0] == -1]"
   ]
  },
  {
   "cell_type": "code",
   "execution_count": 13,
   "id": "f89030df-69c1-4f7d-a283-2de6f98e73ac",
   "metadata": {
    "tags": []
   },
   "outputs": [],
   "source": [
    "train_pca_df.to_csv('train_pca_df.csv')\n",
    "test_pca_df.to_csv('test_pca_df.csv')\n"
   ]
  },
  {
   "cell_type": "markdown",
   "id": "a732968b-22a1-4c8a-9fab-057d6c4742b7",
   "metadata": {},
   "source": [
    "## Clustering on the Train Data"
   ]
  },
  {
   "cell_type": "code",
   "execution_count": 57,
   "id": "cc99e243-03cf-485a-9d18-2e2f960e8779",
   "metadata": {
    "tags": []
   },
   "outputs": [
    {
     "name": "stdout",
     "output_type": "stream",
     "text": [
      "Grid Search Estimator Silhouette Score: 0.7721289327994119\n",
      "Default KMeans Silhouette Score: 0.9988874801199613\n",
      "Default Parameter has a higher Silhouette Score.\n",
      "Using Default Parameter as it performs better based on Silhouette Score.\n"
     ]
    }
   ],
   "source": [
    "def optimize_and_compare_kmeans(data, kmeans_params, alpha=0.05):\n",
    "    # Perform Grid Search\n",
    "    grid = GridSearchCV(KMeans(), kmeans_params, cv=3, refit=True)\n",
    "    grid.fit(data)\n",
    "    grid_search_estimator = grid.best_estimator_\n",
    "\n",
    "    # Calculate silhouette scores\n",
    "    default_kmeans = KMeans(n_clusters=2, random_state=0, n_init=\"auto\").fit(data)\n",
    "    default_silhouette_score = silhouette_score(data, default_kmeans.labels_)\n",
    "    grid_search_silhouette_score = silhouette_score(data, grid_search_estimator.labels_)\n",
    "\n",
    "    # Perform a two-sample t-test only if Grid Search performs better\n",
    "    if grid_search_silhouette_score > default_silhouette_score:\n",
    "        t_stat, p_value = stats.ttest_ind(default_kmeans.labels_, grid_search_estimator.labels_)\n",
    "\n",
    "        # Set the default choice to \"Grid Search Estimator\"\n",
    "        choice = \"KMeans Estimator\"\n",
    "\n",
    "        # Output informative print statements\n",
    "        print(\"Default KMeans Silhouette Score:\", default_silhouette_score)\n",
    "        print(\"Grid Search Estimator Silhouette Score:\", grid_search_silhouette_score)\n",
    "\n",
    "        if p_value < alpha:\n",
    "            choice = \"Grid Search Estimator\"\n",
    "            print(\"The difference between the two groups is statistically significant.\")\n",
    "            print(f\"Using {choice} as it performs significantly better using a threshold of alpha = .05 .\")\n",
    "            return choice, grid_search_estimator\n",
    "        else:\n",
    "            print(\"The difference between the two groups is not statistically significant.\")\n",
    "            print(f\"Using {choice} as there is no significant improvement using a threshold of alpha = .05.\")\n",
    "            return choice, default_kmeans\n",
    "    else:\n",
    "        choice = \"Default Parameter\"\n",
    "        print(\"Grid Search Estimator Silhouette Score:\", grid_search_silhouette_score)\n",
    "        print(\"Default KMeans Silhouette Score:\", default_silhouette_score)\n",
    "        print(\"Default Parameter has a higher Silhouette Score.\")\n",
    "        print(\"Using Default Parameter as it performs better based on Silhouette Score.\")\n",
    "        return choice, default_kmeans\n",
    "\n",
    "     # Return both choice and the chosen KMeans clusterer\n",
    "\n",
    "\n",
    "# Usage example with parameters\n",
    "kmeans_params = {\n",
    "    'n_clusters': list(range(1, 10)),\n",
    "    'init': ['random', 'k-means++'],\n",
    "    'n_init': [1, 5, 10],\n",
    "    'max_iter': [300],\n",
    "    'random_state': [0]\n",
    "}\n",
    "choice, k_means_estimator = optimize_and_compare_kmeans(train_pca_df, kmeans_params)"
   ]
  },
  {
   "cell_type": "code",
   "execution_count": 58,
   "id": "1f6b5dfa-9c50-419b-8d2d-96d80a39908f",
   "metadata": {
    "tags": []
   },
   "outputs": [
    {
     "data": {
      "text/html": [
       "<style>#sk-container-id-2 {color: black;}#sk-container-id-2 pre{padding: 0;}#sk-container-id-2 div.sk-toggleable {background-color: white;}#sk-container-id-2 label.sk-toggleable__label {cursor: pointer;display: block;width: 100%;margin-bottom: 0;padding: 0.3em;box-sizing: border-box;text-align: center;}#sk-container-id-2 label.sk-toggleable__label-arrow:before {content: \"▸\";float: left;margin-right: 0.25em;color: #696969;}#sk-container-id-2 label.sk-toggleable__label-arrow:hover:before {color: black;}#sk-container-id-2 div.sk-estimator:hover label.sk-toggleable__label-arrow:before {color: black;}#sk-container-id-2 div.sk-toggleable__content {max-height: 0;max-width: 0;overflow: hidden;text-align: left;background-color: #f0f8ff;}#sk-container-id-2 div.sk-toggleable__content pre {margin: 0.2em;color: black;border-radius: 0.25em;background-color: #f0f8ff;}#sk-container-id-2 input.sk-toggleable__control:checked~div.sk-toggleable__content {max-height: 200px;max-width: 100%;overflow: auto;}#sk-container-id-2 input.sk-toggleable__control:checked~label.sk-toggleable__label-arrow:before {content: \"▾\";}#sk-container-id-2 div.sk-estimator input.sk-toggleable__control:checked~label.sk-toggleable__label {background-color: #d4ebff;}#sk-container-id-2 div.sk-label input.sk-toggleable__control:checked~label.sk-toggleable__label {background-color: #d4ebff;}#sk-container-id-2 input.sk-hidden--visually {border: 0;clip: rect(1px 1px 1px 1px);clip: rect(1px, 1px, 1px, 1px);height: 1px;margin: -1px;overflow: hidden;padding: 0;position: absolute;width: 1px;}#sk-container-id-2 div.sk-estimator {font-family: monospace;background-color: #f0f8ff;border: 1px dotted black;border-radius: 0.25em;box-sizing: border-box;margin-bottom: 0.5em;}#sk-container-id-2 div.sk-estimator:hover {background-color: #d4ebff;}#sk-container-id-2 div.sk-parallel-item::after {content: \"\";width: 100%;border-bottom: 1px solid gray;flex-grow: 1;}#sk-container-id-2 div.sk-label:hover label.sk-toggleable__label {background-color: #d4ebff;}#sk-container-id-2 div.sk-serial::before {content: \"\";position: absolute;border-left: 1px solid gray;box-sizing: border-box;top: 0;bottom: 0;left: 50%;z-index: 0;}#sk-container-id-2 div.sk-serial {display: flex;flex-direction: column;align-items: center;background-color: white;padding-right: 0.2em;padding-left: 0.2em;position: relative;}#sk-container-id-2 div.sk-item {position: relative;z-index: 1;}#sk-container-id-2 div.sk-parallel {display: flex;align-items: stretch;justify-content: center;background-color: white;position: relative;}#sk-container-id-2 div.sk-item::before, #sk-container-id-2 div.sk-parallel-item::before {content: \"\";position: absolute;border-left: 1px solid gray;box-sizing: border-box;top: 0;bottom: 0;left: 50%;z-index: -1;}#sk-container-id-2 div.sk-parallel-item {display: flex;flex-direction: column;z-index: 1;position: relative;background-color: white;}#sk-container-id-2 div.sk-parallel-item:first-child::after {align-self: flex-end;width: 50%;}#sk-container-id-2 div.sk-parallel-item:last-child::after {align-self: flex-start;width: 50%;}#sk-container-id-2 div.sk-parallel-item:only-child::after {width: 0;}#sk-container-id-2 div.sk-dashed-wrapped {border: 1px dashed gray;margin: 0 0.4em 0.5em 0.4em;box-sizing: border-box;padding-bottom: 0.4em;background-color: white;}#sk-container-id-2 div.sk-label label {font-family: monospace;font-weight: bold;display: inline-block;line-height: 1.2em;}#sk-container-id-2 div.sk-label-container {text-align: center;}#sk-container-id-2 div.sk-container {/* jupyter's `normalize.less` sets `[hidden] { display: none; }` but bootstrap.min.css set `[hidden] { display: none !important; }` so we also need the `!important` here to be able to override the default hidden behavior on the sphinx rendered scikit-learn.org. See: https://github.com/scikit-learn/scikit-learn/issues/21755 */display: inline-block !important;position: relative;}#sk-container-id-2 div.sk-text-repr-fallback {display: none;}</style><div id=\"sk-container-id-2\" class=\"sk-top-container\"><div class=\"sk-text-repr-fallback\"><pre>KMeans(n_clusters=2, n_init=&#x27;auto&#x27;, random_state=0)</pre><b>In a Jupyter environment, please rerun this cell to show the HTML representation or trust the notebook. <br />On GitHub, the HTML representation is unable to render, please try loading this page with nbviewer.org.</b></div><div class=\"sk-container\" hidden><div class=\"sk-item\"><div class=\"sk-estimator sk-toggleable\"><input class=\"sk-toggleable__control sk-hidden--visually\" id=\"sk-estimator-id-2\" type=\"checkbox\" checked><label for=\"sk-estimator-id-2\" class=\"sk-toggleable__label sk-toggleable__label-arrow\">KMeans</label><div class=\"sk-toggleable__content\"><pre>KMeans(n_clusters=2, n_init=&#x27;auto&#x27;, random_state=0)</pre></div></div></div></div></div>"
      ],
      "text/plain": [
       "KMeans(n_clusters=2, n_init='auto', random_state=0)"
      ]
     },
     "execution_count": 58,
     "metadata": {},
     "output_type": "execute_result"
    }
   ],
   "source": [
    "k_means_estimator"
   ]
  },
  {
   "cell_type": "code",
   "execution_count": 60,
   "id": "12b00813-1e4f-49e2-ac12-10b4e1ccef61",
   "metadata": {
    "tags": []
   },
   "outputs": [
    {
     "name": "stdout",
     "output_type": "stream",
     "text": [
      "Cluster Information:\n",
      "         DataPoints  PercentageOutliers\n",
      "Cluster                                \n",
      "0             22375            9.997765\n",
      "1                 1          100.000000\n"
     ]
    },
    {
     "data": {
      "text/html": [
       "<div>\n",
       "<style scoped>\n",
       "    .dataframe tbody tr th:only-of-type {\n",
       "        vertical-align: middle;\n",
       "    }\n",
       "\n",
       "    .dataframe tbody tr th {\n",
       "        vertical-align: top;\n",
       "    }\n",
       "\n",
       "    .dataframe thead th {\n",
       "        text-align: right;\n",
       "    }\n",
       "</style>\n",
       "<table border=\"1\" class=\"dataframe\">\n",
       "  <thead>\n",
       "    <tr style=\"text-align: right;\">\n",
       "      <th></th>\n",
       "      <th>Cluster</th>\n",
       "      <th>Outlier</th>\n",
       "    </tr>\n",
       "  </thead>\n",
       "  <tbody>\n",
       "    <tr>\n",
       "      <th>0</th>\n",
       "      <td>0</td>\n",
       "      <td>1</td>\n",
       "    </tr>\n",
       "    <tr>\n",
       "      <th>1</th>\n",
       "      <td>0</td>\n",
       "      <td>1</td>\n",
       "    </tr>\n",
       "    <tr>\n",
       "      <th>2</th>\n",
       "      <td>0</td>\n",
       "      <td>1</td>\n",
       "    </tr>\n",
       "    <tr>\n",
       "      <th>3</th>\n",
       "      <td>0</td>\n",
       "      <td>1</td>\n",
       "    </tr>\n",
       "    <tr>\n",
       "      <th>4</th>\n",
       "      <td>0</td>\n",
       "      <td>1</td>\n",
       "    </tr>\n",
       "    <tr>\n",
       "      <th>...</th>\n",
       "      <td>...</td>\n",
       "      <td>...</td>\n",
       "    </tr>\n",
       "    <tr>\n",
       "      <th>22371</th>\n",
       "      <td>0</td>\n",
       "      <td>1</td>\n",
       "    </tr>\n",
       "    <tr>\n",
       "      <th>22372</th>\n",
       "      <td>0</td>\n",
       "      <td>1</td>\n",
       "    </tr>\n",
       "    <tr>\n",
       "      <th>22373</th>\n",
       "      <td>0</td>\n",
       "      <td>1</td>\n",
       "    </tr>\n",
       "    <tr>\n",
       "      <th>22374</th>\n",
       "      <td>0</td>\n",
       "      <td>1</td>\n",
       "    </tr>\n",
       "    <tr>\n",
       "      <th>22375</th>\n",
       "      <td>0</td>\n",
       "      <td>1</td>\n",
       "    </tr>\n",
       "  </tbody>\n",
       "</table>\n",
       "<p>22376 rows × 2 columns</p>\n",
       "</div>"
      ],
      "text/plain": [
       "       Cluster  Outlier\n",
       "0            0        1\n",
       "1            0        1\n",
       "2            0        1\n",
       "3            0        1\n",
       "4            0        1\n",
       "...        ...      ...\n",
       "22371        0        1\n",
       "22372        0        1\n",
       "22373        0        1\n",
       "22374        0        1\n",
       "22375        0        1\n",
       "\n",
       "[22376 rows x 2 columns]"
      ]
     },
     "execution_count": 60,
     "metadata": {},
     "output_type": "execute_result"
    }
   ],
   "source": [
    "def find_outliers_in_clusters(data, clusterer, n_neighbors=20, contamination=0.1):\n",
    "    # Fit the Local Outlier Factor (LOF) model on the data\n",
    "    lof = LocalOutlierFactor(n_neighbors=n_neighbors, contamination=contamination)\n",
    "    outliers = lof.fit_predict(data)\n",
    "\n",
    "    # Create a DataFrame to store cluster labels and outlier labels\n",
    "    cluster_outliers = pd.DataFrame({'Cluster': clusterer.labels_, 'Outlier': outliers})\n",
    "\n",
    "    # Print the number of data points and percentage of outliers in each cluster\n",
    "    cluster_info = cluster_outliers.groupby('Cluster').agg(DataPoints=('Cluster', 'count'),\n",
    "                                                          PercentageOutliers=('Outlier', lambda x: (x == -1).mean() * 100))\n",
    "    print(\"Cluster Information:\")\n",
    "    print(cluster_info)\n",
    "\n",
    "    return cluster_outliers\n",
    "\n",
    "# Example usage:\n",
    "# Assuming you already have a KMeans clusterer 'chosen_kmeans' from the previous code\n",
    "outliers_in_clusters = find_outliers_in_clusters(train_pca_df, k_means_estimator)\n",
    "outliers_in_clusters\n",
    "\n"
   ]
  },
  {
   "cell_type": "code",
   "execution_count": 24,
   "id": "203581d1-ed1c-4aa5-aea6-43fcac3a7bfc",
   "metadata": {
    "tags": []
   },
   "outputs": [
    {
     "data": {
      "image/png": "[encoded data removed]",
      "text/plain": [
       "<Figure size 800x600 with 1 Axes>"
      ]
     },
     "metadata": {},
     "output_type": "display_data"
    }
   ],
   "source": [
    "import matplotlib.pyplot as plt\n",
    "import seaborn as sns\n",
    "from sklearn.cluster import KMeans\n",
    "\n",
    "# Assuming 'train_pca_df' is your DataFrame with two columns, 'PC1' and 'PC2'\n",
    "X = train_pca_df\n",
    "\n",
    "# K-Means clustering\n",
    "kmeans = KMeans(n_clusters=2, random_state=0, n_init=\"auto\")\n",
    "y_pred = kmeans.fit_predict(X)\n",
    "\n",
    "# Set up the figure\n",
    "plt.figure(figsize=(8, 6))\n",
    "\n",
    "# Create a scatter plot\n",
    "sns.scatterplot(x='PC1', y='PC2', data=train_pca_df, hue=y_pred, palette='Set1', s=50, alpha=0.7)\n",
    "\n",
    "# Add labels and title\n",
    "plt.xlabel('PC1')\n",
    "plt.ylabel('PC2')\n",
    "plt.title('K-Means Clustering')\n",
    "\n",
    "# Show the plot\n",
    "plt.grid(True)\n",
    "plt.show()"
   ]
  },
  {
   "cell_type": "code",
   "execution_count": 15,
   "id": "537f619b-9ff6-4f40-bbf7-b3250eb2d0f6",
   "metadata": {
    "tags": []
   },
   "outputs": [],
   "source": [
    "from sklearn.cluster import HDBSCAN"
   ]
  },
  {
   "cell_type": "code",
   "execution_count": 18,
   "id": "1ddcd827-c720-4a8e-b0de-e3307758c645",
   "metadata": {
    "tags": []
   },
   "outputs": [
    {
     "name": "stdout",
     "output_type": "stream",
     "text": [
      "Default HDBSCAN Silhouette Score: -0.7138834763437513\n",
      "Grid Search Estimator Silhouette Score: -0.15317112073797398\n",
      "The difference between the two groups is statistically significant.\n",
      "Using Grid Search Estimator as it performs significantly better.\n"
     ]
    }
   ],
   "source": [
    "def silhouette_scorer(estimator, X):\n",
    "    labels = estimator.fit_predict(X)\n",
    "    if len(set(labels)) == 1:\n",
    "        return 0  # Silhouette score is undefined for a single cluster\n",
    "    return silhouette_score(X, labels)\n",
    "\n",
    "def optimize_and_compare_hdbscan(data, hdbscan_params, alpha=0.05):\n",
    "    # Perform Grid Search\n",
    "    grid_search = GridSearchCV(\n",
    "        estimator=HDBSCAN(min_cluster_size=20),\n",
    "        param_grid=hdbscan_params,\n",
    "        scoring=silhouette_scorer,\n",
    "        cv=5,\n",
    "        n_jobs=-1,\n",
    "    )\n",
    "    grid_search.fit(data)\n",
    "    grid_search_estimator = grid_search.best_estimator_\n",
    "\n",
    "    # Calculate silhouette scores for the default and grid search estimators\n",
    "    default_hdbscan = HDBSCAN(min_cluster_size=20).fit(data)\n",
    "    default_labels = default_hdbscan.labels_\n",
    "    default_silhouette_score = silhouette_score(data, default_labels)\n",
    "\n",
    "    grid_search_labels = grid_search_estimator.fit_predict(data)\n",
    "    grid_search_silhouette_score = silhouette_score(data, grid_search_labels)\n",
    "\n",
    "    # Check if the grid search estimator has a higher silhouette score\n",
    "    if grid_search_silhouette_score > default_silhouette_score:\n",
    "        # Perform a two-sample t-test\n",
    "        t_stat, p_value = stats.ttest_ind(default_labels, grid_search_labels)\n",
    "\n",
    "        # Check if the p-value is less than the significance level\n",
    "        if p_value < alpha:\n",
    "            choice = \"Grid Search Estimator\"\n",
    "        else:\n",
    "            choice = \"Default Parameter\"\n",
    "    else:\n",
    "        choice = \"Default Parameter\"\n",
    "\n",
    "    # Output informative print statements\n",
    "    print(\"Default HDBSCAN Silhouette Score:\", default_silhouette_score)\n",
    "    print(\"Grid Search Estimator Silhouette Score:\", grid_search_silhouette_score)\n",
    "\n",
    "    if grid_search_silhouette_score > default_silhouette_score:\n",
    "        if p_value < alpha:\n",
    "            print(\"The difference between the two groups is statistically significant.\")\n",
    "            print(f\"Using {choice} as it performs significantly better.\")\n",
    "        else:\n",
    "            print(\"The difference between the two groups is not statistically significant.\")\n",
    "            print(f\"Using {choice} as there is no significant improvement.\")\n",
    "    else:\n",
    "        print(\"Default Parameter has a higher silhouette score. No t-test performed.\")\n",
    "\n",
    "    return choice\n",
    "\n",
    "# Define the parameter grid for HDBSCAN\n",
    "hdbscan_params = {\n",
    "    'min_samples': [10, 30, 50, 60, 100],\n",
    "    'min_cluster_size': [100, 200, 300, 400, 500, 600],\n",
    "    'cluster_selection_method': ['eom', 'leaf'],\n",
    "    'metric': ['euclidean', 'manhattan']\n",
    "}\n",
    "\n",
    "# Usage example with parameters\n",
    "result = optimize_and_compare_hdbscan(train_pca_df, hdbscan_params)"
   ]
  },
  {
   "cell_type": "markdown",
   "id": "6e22a4c4-a081-4085-92c8-e0c7b13a00ce",
   "metadata": {},
   "source": [
    "https://towardsdatascience.com/tuning-with-hdbscan-149865ac2970"
   ]
  },
  {
   "cell_type": "markdown",
   "id": "0076af96-9d6f-4f0e-afa9-383cd9a3ea03",
   "metadata": {},
   "source": [
    "Things to consider\n",
    "\n",
    "\n",
    "1) Get the clustering to work in a pipeline\n",
    "2) Are these ok default parameters\n",
    "3) What to do with the test data\n",
    "4) Should we be using silhoute on grid search or should i be optimizaing it differently\n",
    "5) Are we normalizing it the right way? Since normalize is working along rows is this dealing with out of domain sampels? Just used standard scalar because no normalizers could work and some of them did along rows\n",
    "6) Make it so it put things in folders\n",
    "7) Quality check NAS? How do to this with a sparse matrix\n",
    "8) Do soemthing like she did in notebook 3 to label the data set\n",
    "9) Naive classifier and base? \n",
    "10) Would k-means be base what is naive?\n"
   ]
  },
  {
   "cell_type": "code",
   "execution_count": null,
   "id": "0a8994a0-8a6b-41c9-b3f1-e96d5c8a40ab",
   "metadata": {},
   "outputs": [],
   "source": []
  }
 ],
 "metadata": {
  "kernelspec": {
   "display_name": "Python 3 (ipykernel)",
   "language": "python",
   "name": "python3"
  },
  "language_info": {
   "codemirror_mode": {
    "name": "ipython",
    "version": 3
   },
   "file_extension": ".py",
   "mimetype": "text/x-python",
   "name": "python",
   "nbconvert_exporter": "python",
   "pygments_lexer": "ipython3",
   "version": "3.11.4"
  }
 },
 "nbformat": 4,
 "nbformat_minor": 5
}
