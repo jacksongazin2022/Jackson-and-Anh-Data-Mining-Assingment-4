{
 "cells": [
  {
   "cell_type": "markdown",
   "id": "4f3aacb7",
   "metadata": {},
   "source": [
    "# Library"
   ]
  },
  {
   "cell_type": "code",
   "execution_count": 2,
   "id": "56b10a61",
   "metadata": {},
   "outputs": [],
   "source": [
    "import gzip\n",
    "import shutil\n",
    "\n",
    "import pandas as pd\n",
    "from pyarrow.parquet import read_table\n",
    "from scipy.sparse import coo_matrix\n",
    "from sklearn.decomposition import PCA\n",
    "from sklearn.preprocessing import StandardScaler, MinMaxScaler, normalize\n",
    "from sklearn.pipeline import Pipeline\n",
    "import numpy as np\n",
    "from sklearn.preprocessing import StandardScaler, MaxAbsScaler\n",
    "from sklearn.decomposition import TruncatedSVD\n",
    "from sklearn.base import BaseEstimator, TransformerMixin\n",
    "from memory_profiler import memory_usage\n",
    "import matplotlib.pyplot as plt\n",
    "import seaborn as sns\n",
    "\n",
    "from kneed import KneeLocator\n",
    "from sklearn.datasets import make_blobs\n",
    "from sklearn.cluster import KMeans\n",
    "from sklearn.metrics import silhouette_score\n",
    "from sklearn.metrics import adjusted_rand_score\n",
    "from sklearn.model_selection import GridSearchCV\n",
    "\n",
    "from yellowbrick.cluster import KElbowVisualizer, SilhouetteVisualizer\n",
    "from sklearn.cluster import KMeans\n",
    "from sklearn.metrics import silhouette_score\n",
    "from sklearn.model_selection import GridSearchCV\n",
    "from scipy import stats\n",
    "from sklearn.cluster import HDBSCAN\n",
    "from sklearn.model_selection import GridSearchCV\n",
    "from sklearn.metrics import silhouette_score\n",
    "from scipy import stats\n",
    "from sklearn.neighbors import LocalOutlierFactor\n",
    "\n",
    "from sklearn.model_selection import train_test_split\n",
    "import scipy.sparse"
   ]
  },
  {
   "cell_type": "code",
   "execution_count": 3,
   "id": "c49e972d",
   "metadata": {},
   "outputs": [],
   "source": [
    "# load sparse matrix for transpose rna\n",
    "sparse_train = scipy.sparse.load_npz('rna_transpose.npz')"
   ]
  },
  {
   "cell_type": "code",
   "execution_count": 4,
   "id": "8876d850",
   "metadata": {},
   "outputs": [
    {
     "data": {
      "text/plain": [
       "(102710, 27970)"
      ]
     },
     "execution_count": 4,
     "metadata": {},
     "output_type": "execute_result"
    }
   ],
   "source": [
    "sparse_train.shape"
   ]
  },
  {
   "cell_type": "code",
   "execution_count": 5,
   "id": "60c1c843",
   "metadata": {},
   "outputs": [],
   "source": [
    "scaler = StandardScaler(with_mean = False)\n",
    "sparse_train = scaler.fit_transform(sparse_train)"
   ]
  },
  {
   "cell_type": "code",
   "execution_count": 9,
   "id": "8e703d75",
   "metadata": {},
   "outputs": [],
   "source": [
    "scipy.sparse.save_npz('rna_transpose_scaled.npz', sparse_train)"
   ]
  },
  {
   "cell_type": "code",
   "execution_count": 10,
   "id": "0a8994a0-8a6b-41c9-b3f1-e96d5c8a40ab",
   "metadata": {},
   "outputs": [],
   "source": [
    "from sklearn.decomposition import IncrementalPCA"
   ]
  },
  {
   "cell_type": "code",
   "execution_count": 12,
   "id": "22375a50",
   "metadata": {},
   "outputs": [],
   "source": [
    "transformer = IncrementalPCA(n_components=2, batch_size=200)\n",
    "train_transformed = transformer.fit_transform(sparse_train)"
   ]
  },
  {
   "cell_type": "code",
   "execution_count": 14,
   "id": "40be0b56",
   "metadata": {},
   "outputs": [],
   "source": [
    "row_names = pd.read_csv('col_names.csv', index_col=0)"
   ]
  },
  {
   "cell_type": "code",
   "execution_count": 15,
   "id": "4d6f47de",
   "metadata": {},
   "outputs": [
    {
     "data": {
      "text/html": [
       "<div>\n",
       "<style scoped>\n",
       "    .dataframe tbody tr th:only-of-type {\n",
       "        vertical-align: middle;\n",
       "    }\n",
       "\n",
       "    .dataframe tbody tr th {\n",
       "        vertical-align: top;\n",
       "    }\n",
       "\n",
       "    .dataframe thead th {\n",
       "        text-align: right;\n",
       "    }\n",
       "</style>\n",
       "<table border=\"1\" class=\"dataframe\">\n",
       "  <thead>\n",
       "    <tr style=\"text-align: right;\">\n",
       "      <th></th>\n",
       "      <th>c..PKD_ACACGCGGTATCGGTT.1_1....PKD_ACACGCGGTTTGGCTA.1_1....PKD_ACACGCGTCATGTCTT.1_1...</th>\n",
       "    </tr>\n",
       "  </thead>\n",
       "  <tbody>\n",
       "    <tr>\n",
       "      <th>1</th>\n",
       "      <td>PKD_ACACGCGGTATCGGTT-1_1</td>\n",
       "    </tr>\n",
       "    <tr>\n",
       "      <th>2</th>\n",
       "      <td>PKD_ACACGCGGTTTGGCTA-1_1</td>\n",
       "    </tr>\n",
       "    <tr>\n",
       "      <th>3</th>\n",
       "      <td>PKD_ACACGCGTCATGTCTT-1_1</td>\n",
       "    </tr>\n",
       "    <tr>\n",
       "      <th>4</th>\n",
       "      <td>PKD_ACACTGAAGACCCTTA-1_1</td>\n",
       "    </tr>\n",
       "    <tr>\n",
       "      <th>5</th>\n",
       "      <td>PKD_ACACTGAAGCGACAGT-1_1</td>\n",
       "    </tr>\n",
       "    <tr>\n",
       "      <th>...</th>\n",
       "      <td>...</td>\n",
       "    </tr>\n",
       "    <tr>\n",
       "      <th>102706</th>\n",
       "      <td>Cont_TTTGTTGCAGTTAAAG-1_5</td>\n",
       "    </tr>\n",
       "    <tr>\n",
       "      <th>102707</th>\n",
       "      <td>Cont_TTTGTTGCATATTCGG-1_5</td>\n",
       "    </tr>\n",
       "    <tr>\n",
       "      <th>102708</th>\n",
       "      <td>Cont_TTTGTTGGTACGATTC-1_5</td>\n",
       "    </tr>\n",
       "    <tr>\n",
       "      <th>102709</th>\n",
       "      <td>Cont_TTTGTTGGTGCGTTTA-1_5</td>\n",
       "    </tr>\n",
       "    <tr>\n",
       "      <th>102710</th>\n",
       "      <td>Cont_TTTGTTGTCTGCGGAC-1_5</td>\n",
       "    </tr>\n",
       "  </tbody>\n",
       "</table>\n",
       "<p>102710 rows × 1 columns</p>\n",
       "</div>"
      ],
      "text/plain": [
       "       c..PKD_ACACGCGGTATCGGTT.1_1....PKD_ACACGCGGTTTGGCTA.1_1....PKD_ACACGCGTCATGTCTT.1_1...\n",
       "1                                PKD_ACACGCGGTATCGGTT-1_1                                    \n",
       "2                                PKD_ACACGCGGTTTGGCTA-1_1                                    \n",
       "3                                PKD_ACACGCGTCATGTCTT-1_1                                    \n",
       "4                                PKD_ACACTGAAGACCCTTA-1_1                                    \n",
       "5                                PKD_ACACTGAAGCGACAGT-1_1                                    \n",
       "...                                                   ...                                    \n",
       "102706                          Cont_TTTGTTGCAGTTAAAG-1_5                                    \n",
       "102707                          Cont_TTTGTTGCATATTCGG-1_5                                    \n",
       "102708                          Cont_TTTGTTGGTACGATTC-1_5                                    \n",
       "102709                          Cont_TTTGTTGGTGCGTTTA-1_5                                    \n",
       "102710                          Cont_TTTGTTGTCTGCGGAC-1_5                                    \n",
       "\n",
       "[102710 rows x 1 columns]"
      ]
     },
     "execution_count": 15,
     "metadata": {},
     "output_type": "execute_result"
    }
   ],
   "source": [
    "row_names"
   ]
  },
  {
   "cell_type": "code",
   "execution_count": 16,
   "id": "f30bf9f4",
   "metadata": {},
   "outputs": [],
   "source": [
    "pca_df = pd.DataFrame(train_transformed, columns=[\"PC1\", \"PC2\"], index=row_names)"
   ]
  },
  {
   "cell_type": "code",
   "execution_count": 18,
   "id": "8ea9d684",
   "metadata": {},
   "outputs": [],
   "source": [
    "pca_df.to_csv('rna_transpose_pca')"
   ]
  },
  {
   "cell_type": "code",
   "execution_count": null,
   "id": "cf384a60",
   "metadata": {},
   "outputs": [],
   "source": []
  }
 ],
 "metadata": {
  "kernelspec": {
   "display_name": "Python 3 (ipykernel)",
   "language": "python",
   "name": "python3"
  },
  "language_info": {
   "codemirror_mode": {
    "name": "ipython",
    "version": 3
   },
   "file_extension": ".py",
   "mimetype": "text/x-python",
   "name": "python",
   "nbconvert_exporter": "python",
   "pygments_lexer": "ipython3",
   "version": "3.9.12"
  }
 },
 "nbformat": 4,
 "nbformat_minor": 5
}
