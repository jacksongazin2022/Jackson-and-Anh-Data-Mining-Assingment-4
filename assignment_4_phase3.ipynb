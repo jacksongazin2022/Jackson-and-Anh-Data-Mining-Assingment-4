{
 "cells": [
  {
   "cell_type": "code",
   "execution_count": 2,
   "metadata": {},
   "outputs": [],
   "source": [
    "import pandas as pd"
   ]
  },
  {
   "cell_type": "code",
   "execution_count": 7,
   "metadata": {},
   "outputs": [],
   "source": [
    "# read pre-process data\n",
    "df =  pd.read_csv(\"train_pca_df.csv\", index_col=0)"
   ]
  },
  {
   "cell_type": "code",
   "execution_count": 8,
   "metadata": {},
   "outputs": [
    {
     "data": {
      "text/html": [
       "<div>\n",
       "<style scoped>\n",
       "    .dataframe tbody tr th:only-of-type {\n",
       "        vertical-align: middle;\n",
       "    }\n",
       "\n",
       "    .dataframe tbody tr th {\n",
       "        vertical-align: top;\n",
       "    }\n",
       "\n",
       "    .dataframe thead th {\n",
       "        text-align: right;\n",
       "    }\n",
       "</style>\n",
       "<table border=\"1\" class=\"dataframe\">\n",
       "  <thead>\n",
       "    <tr style=\"text-align: right;\">\n",
       "      <th></th>\n",
       "      <th>PC1</th>\n",
       "      <th>PC2</th>\n",
       "    </tr>\n",
       "  </thead>\n",
       "  <tbody>\n",
       "    <tr>\n",
       "      <th>PKD_CATCGCTCACTCAGAT-1_3</th>\n",
       "      <td>3.297208</td>\n",
       "      <td>-0.093321</td>\n",
       "    </tr>\n",
       "    <tr>\n",
       "      <th>PKD_GGACGTCGTATGGGAC-1_2</th>\n",
       "      <td>1.092518</td>\n",
       "      <td>-0.574443</td>\n",
       "    </tr>\n",
       "    <tr>\n",
       "      <th>PKD_AGTACTGCAATGCAGG-1_3</th>\n",
       "      <td>2.110547</td>\n",
       "      <td>-1.040423</td>\n",
       "    </tr>\n",
       "    <tr>\n",
       "      <th>PKD_CTGCCATTCTTCGTAT-1_2</th>\n",
       "      <td>269.334105</td>\n",
       "      <td>-184.999276</td>\n",
       "    </tr>\n",
       "    <tr>\n",
       "      <th>PKD_CAGCAATAGTCGGCCT-1_3</th>\n",
       "      <td>0.138904</td>\n",
       "      <td>-0.014086</td>\n",
       "    </tr>\n",
       "  </tbody>\n",
       "</table>\n",
       "</div>"
      ],
      "text/plain": [
       "                                 PC1         PC2\n",
       "PKD_CATCGCTCACTCAGAT-1_3    3.297208   -0.093321\n",
       "PKD_GGACGTCGTATGGGAC-1_2    1.092518   -0.574443\n",
       "PKD_AGTACTGCAATGCAGG-1_3    2.110547   -1.040423\n",
       "PKD_CTGCCATTCTTCGTAT-1_2  269.334105 -184.999276\n",
       "PKD_CAGCAATAGTCGGCCT-1_3    0.138904   -0.014086"
      ]
     },
     "execution_count": 8,
     "metadata": {},
     "output_type": "execute_result"
    }
   ],
   "source": [
    "df.head()"
   ]
  },
  {
   "cell_type": "code",
   "execution_count": null,
   "metadata": {},
   "outputs": [],
   "source": []
  }
 ],
 "metadata": {
  "kernelspec": {
   "display_name": "base",
   "language": "python",
   "name": "python3"
  },
  "language_info": {
   "codemirror_mode": {
    "name": "ipython",
    "version": 3
   },
   "file_extension": ".py",
   "mimetype": "text/x-python",
   "name": "python",
   "nbconvert_exporter": "python",
   "pygments_lexer": "ipython3",
   "version": "3.9.12"
  }
 },
 "nbformat": 4,
 "nbformat_minor": 2
}
